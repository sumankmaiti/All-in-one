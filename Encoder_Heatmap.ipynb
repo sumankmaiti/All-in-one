{
  "nbformat": 4,
  "nbformat_minor": 0,
  "metadata": {
    "colab": {
      "name": "Encoder Heatmap.ipynb",
      "provenance": [],
      "authorship_tag": "ABX9TyOh8/VgA1r/lYeLLrG8n4wc",
      "include_colab_link": true
    },
    "kernelspec": {
      "name": "python3",
      "display_name": "Python 3"
    },
    "language_info": {
      "name": "python"
    },
    "accelerator": "GPU"
  },
  "cells": [
    {
      "cell_type": "markdown",
      "metadata": {
        "id": "view-in-github",
        "colab_type": "text"
      },
      "source": [
        "<a href=\"https://colab.research.google.com/github/sumankmaiti/All-in-one/blob/main/Encoder_Heatmap.ipynb\" target=\"_parent\"><img src=\"https://colab.research.google.com/assets/colab-badge.svg\" alt=\"Open In Colab\"/></a>"
      ]
    },
    {
      "cell_type": "code",
      "metadata": {
        "id": "gz6lj70s5Vew"
      },
      "source": [
        "import keras\n",
        "from keras import layers\n",
        "\n",
        "input_img = keras.Input(shape=(28, 28, 1))\n",
        "\n",
        "x = layers.Conv2D(16, (3, 3), activation='relu', padding='same')(input_img)\n",
        "x = layers.MaxPooling2D((2, 2), padding='same')(x)\n",
        "x = layers.Conv2D(8, (3, 3), activation='relu', padding='same')(x)\n",
        "x = layers.MaxPooling2D((2, 2), padding='same')(x)\n",
        "x = layers.Conv2D(8, (3, 3), activation='relu', padding='same')(x)\n",
        "encoded = layers.MaxPooling2D((2, 2), padding='same')(x)\n",
        "\n",
        "# at this point the representation is (4, 4, 8) i.e. 128-dimensional\n",
        "\n",
        "x = layers.Conv2D(8, (3, 3), activation='relu', padding='same')(encoded)\n",
        "x = layers.UpSampling2D((2, 2))(x)\n",
        "x = layers.Conv2D(8, (3, 3), activation='relu', padding='same')(x)\n",
        "x = layers.UpSampling2D((2, 2))(x)\n",
        "x = layers.Conv2D(16, (3, 3), activation='relu')(x)\n",
        "x = layers.UpSampling2D((2, 2))(x)\n",
        "decoded = layers.Conv2D(1, (3, 3), activation='sigmoid', padding='same')(x)\n",
        "\n",
        "autoencoder = keras.Model(input_img, decoded)\n",
        "autoencoder.compile(optimizer='adam', loss='binary_crossentropy')"
      ],
      "execution_count": null,
      "outputs": []
    },
    {
      "cell_type": "code",
      "metadata": {
        "colab": {
          "base_uri": "https://localhost:8080/"
        },
        "id": "vPeYQDuO_X8u",
        "outputId": "d96e9c9b-38d9-48d9-e7ee-a6d8f4cc122a"
      },
      "source": [
        "autoencoder.summary()"
      ],
      "execution_count": null,
      "outputs": [
        {
          "output_type": "stream",
          "name": "stdout",
          "text": [
            "Model: \"model\"\n",
            "_________________________________________________________________\n",
            "Layer (type)                 Output Shape              Param #   \n",
            "=================================================================\n",
            "input_1 (InputLayer)         [(None, 28, 28, 1)]       0         \n",
            "_________________________________________________________________\n",
            "conv2d (Conv2D)              (None, 28, 28, 16)        160       \n",
            "_________________________________________________________________\n",
            "max_pooling2d (MaxPooling2D) (None, 14, 14, 16)        0         \n",
            "_________________________________________________________________\n",
            "conv2d_1 (Conv2D)            (None, 14, 14, 8)         1160      \n",
            "_________________________________________________________________\n",
            "max_pooling2d_1 (MaxPooling2 (None, 7, 7, 8)           0         \n",
            "_________________________________________________________________\n",
            "conv2d_2 (Conv2D)            (None, 7, 7, 8)           584       \n",
            "_________________________________________________________________\n",
            "max_pooling2d_2 (MaxPooling2 (None, 4, 4, 8)           0         \n",
            "_________________________________________________________________\n",
            "conv2d_3 (Conv2D)            (None, 4, 4, 8)           584       \n",
            "_________________________________________________________________\n",
            "up_sampling2d (UpSampling2D) (None, 8, 8, 8)           0         \n",
            "_________________________________________________________________\n",
            "conv2d_4 (Conv2D)            (None, 8, 8, 8)           584       \n",
            "_________________________________________________________________\n",
            "up_sampling2d_1 (UpSampling2 (None, 16, 16, 8)         0         \n",
            "_________________________________________________________________\n",
            "conv2d_5 (Conv2D)            (None, 14, 14, 16)        1168      \n",
            "_________________________________________________________________\n",
            "up_sampling2d_2 (UpSampling2 (None, 28, 28, 16)        0         \n",
            "_________________________________________________________________\n",
            "conv2d_6 (Conv2D)            (None, 28, 28, 1)         145       \n",
            "=================================================================\n",
            "Total params: 4,385\n",
            "Trainable params: 4,385\n",
            "Non-trainable params: 0\n",
            "_________________________________________________________________\n"
          ]
        }
      ]
    },
    {
      "cell_type": "code",
      "metadata": {
        "colab": {
          "base_uri": "https://localhost:8080/"
        },
        "id": "u6hSpbza5fbp",
        "outputId": "5a4013ae-8b7f-473b-c9fd-a42b57d69d66"
      },
      "source": [
        "from keras.datasets import mnist\n",
        "import numpy as np\n",
        "\n",
        "(x_train, _), (x_test, _) = mnist.load_data()\n",
        "\n",
        "x_train = x_train.astype('float32') / 255.\n",
        "x_test = x_test.astype('float32') / 255.\n",
        "x_train = np.reshape(x_train, (len(x_train), 28, 28, 1))\n",
        "x_test = np.reshape(x_test, (len(x_test), 28, 28, 1))"
      ],
      "execution_count": null,
      "outputs": [
        {
          "output_type": "stream",
          "name": "stdout",
          "text": [
            "Downloading data from https://storage.googleapis.com/tensorflow/tf-keras-datasets/mnist.npz\n",
            "11493376/11490434 [==============================] - 0s 0us/step\n",
            "11501568/11490434 [==============================] - 0s 0us/step\n"
          ]
        }
      ]
    },
    {
      "cell_type": "code",
      "metadata": {
        "colab": {
          "base_uri": "https://localhost:8080/"
        },
        "id": "jkmB9ac25i2t",
        "outputId": "a4a5c362-5b5f-4352-ab0a-c55ce0a4634b"
      },
      "source": [
        "from keras.callbacks import TensorBoard\n",
        "\n",
        "autoencoder.fit(x_train, x_train,\n",
        "                epochs=50,\n",
        "                batch_size=128,\n",
        "                shuffle=True,\n",
        "                validation_data=(x_test, x_test),\n",
        "                callbacks=[TensorBoard(log_dir='/tmp/autoencoder')])"
      ],
      "execution_count": null,
      "outputs": [
        {
          "output_type": "stream",
          "name": "stdout",
          "text": [
            "Epoch 1/50\n",
            "469/469 [==============================] - 38s 14ms/step - loss: 0.2145 - val_loss: 0.1445\n",
            "Epoch 2/50\n",
            "469/469 [==============================] - 5s 11ms/step - loss: 0.1355 - val_loss: 0.1265\n",
            "Epoch 3/50\n",
            "469/469 [==============================] - 5s 11ms/step - loss: 0.1236 - val_loss: 0.1197\n",
            "Epoch 4/50\n",
            "469/469 [==============================] - 5s 11ms/step - loss: 0.1178 - val_loss: 0.1146\n",
            "Epoch 5/50\n",
            "469/469 [==============================] - 5s 11ms/step - loss: 0.1143 - val_loss: 0.1121\n",
            "Epoch 6/50\n",
            "469/469 [==============================] - 5s 10ms/step - loss: 0.1120 - val_loss: 0.1096\n",
            "Epoch 7/50\n",
            "469/469 [==============================] - 5s 10ms/step - loss: 0.1100 - val_loss: 0.1083\n",
            "Epoch 8/50\n",
            "469/469 [==============================] - 5s 11ms/step - loss: 0.1085 - val_loss: 0.1068\n",
            "Epoch 9/50\n",
            "469/469 [==============================] - 5s 11ms/step - loss: 0.1073 - val_loss: 0.1053\n",
            "Epoch 10/50\n",
            "469/469 [==============================] - 5s 10ms/step - loss: 0.1062 - val_loss: 0.1044\n",
            "Epoch 11/50\n",
            "469/469 [==============================] - 5s 11ms/step - loss: 0.1052 - val_loss: 0.1036\n",
            "Epoch 12/50\n",
            "469/469 [==============================] - 5s 11ms/step - loss: 0.1044 - val_loss: 0.1026\n",
            "Epoch 13/50\n",
            "469/469 [==============================] - 5s 11ms/step - loss: 0.1036 - val_loss: 0.1021\n",
            "Epoch 14/50\n",
            "469/469 [==============================] - 5s 10ms/step - loss: 0.1028 - val_loss: 0.1014\n",
            "Epoch 15/50\n",
            "469/469 [==============================] - 5s 11ms/step - loss: 0.1021 - val_loss: 0.1004\n",
            "Epoch 16/50\n",
            "469/469 [==============================] - 5s 11ms/step - loss: 0.1015 - val_loss: 0.0999\n",
            "Epoch 17/50\n",
            "469/469 [==============================] - 5s 11ms/step - loss: 0.1009 - val_loss: 0.0996\n",
            "Epoch 18/50\n",
            "469/469 [==============================] - 5s 11ms/step - loss: 0.1004 - val_loss: 0.0990\n",
            "Epoch 19/50\n",
            "469/469 [==============================] - 5s 11ms/step - loss: 0.0999 - val_loss: 0.0984\n",
            "Epoch 20/50\n",
            "469/469 [==============================] - 5s 11ms/step - loss: 0.0996 - val_loss: 0.0980\n",
            "Epoch 21/50\n",
            "469/469 [==============================] - 5s 11ms/step - loss: 0.0991 - val_loss: 0.0976\n",
            "Epoch 22/50\n",
            "469/469 [==============================] - 5s 10ms/step - loss: 0.0988 - val_loss: 0.0977\n",
            "Epoch 23/50\n",
            "469/469 [==============================] - 5s 11ms/step - loss: 0.0984 - val_loss: 0.0987\n",
            "Epoch 24/50\n",
            "469/469 [==============================] - 5s 11ms/step - loss: 0.0981 - val_loss: 0.0970\n",
            "Epoch 25/50\n",
            "469/469 [==============================] - 5s 11ms/step - loss: 0.0978 - val_loss: 0.0963\n",
            "Epoch 26/50\n",
            "469/469 [==============================] - 5s 11ms/step - loss: 0.0975 - val_loss: 0.0968\n",
            "Epoch 27/50\n",
            "469/469 [==============================] - 5s 11ms/step - loss: 0.0973 - val_loss: 0.0959\n",
            "Epoch 28/50\n",
            "469/469 [==============================] - 5s 11ms/step - loss: 0.0971 - val_loss: 0.0956\n",
            "Epoch 29/50\n",
            "469/469 [==============================] - 5s 11ms/step - loss: 0.0968 - val_loss: 0.0959\n",
            "Epoch 30/50\n",
            "469/469 [==============================] - 5s 11ms/step - loss: 0.0966 - val_loss: 0.0955\n",
            "Epoch 31/50\n",
            "469/469 [==============================] - 5s 11ms/step - loss: 0.0964 - val_loss: 0.0952\n",
            "Epoch 32/50\n",
            "469/469 [==============================] - 5s 10ms/step - loss: 0.0962 - val_loss: 0.0948\n",
            "Epoch 33/50\n",
            "469/469 [==============================] - 5s 11ms/step - loss: 0.0960 - val_loss: 0.0949\n",
            "Epoch 34/50\n",
            "469/469 [==============================] - 5s 11ms/step - loss: 0.0958 - val_loss: 0.0945\n",
            "Epoch 35/50\n",
            "469/469 [==============================] - 5s 11ms/step - loss: 0.0957 - val_loss: 0.0947\n",
            "Epoch 36/50\n",
            "469/469 [==============================] - 5s 11ms/step - loss: 0.0956 - val_loss: 0.0956\n",
            "Epoch 37/50\n",
            "469/469 [==============================] - 5s 11ms/step - loss: 0.0954 - val_loss: 0.0946\n",
            "Epoch 38/50\n",
            "469/469 [==============================] - 5s 11ms/step - loss: 0.0952 - val_loss: 0.0944\n",
            "Epoch 39/50\n",
            "469/469 [==============================] - 5s 11ms/step - loss: 0.0951 - val_loss: 0.0946\n",
            "Epoch 40/50\n",
            "469/469 [==============================] - 5s 11ms/step - loss: 0.0949 - val_loss: 0.0936\n",
            "Epoch 41/50\n",
            "469/469 [==============================] - 5s 11ms/step - loss: 0.0948 - val_loss: 0.0937\n",
            "Epoch 42/50\n",
            "469/469 [==============================] - 5s 11ms/step - loss: 0.0946 - val_loss: 0.0936\n",
            "Epoch 43/50\n",
            "469/469 [==============================] - 5s 11ms/step - loss: 0.0945 - val_loss: 0.0934\n",
            "Epoch 44/50\n",
            "469/469 [==============================] - 5s 11ms/step - loss: 0.0944 - val_loss: 0.0933\n",
            "Epoch 45/50\n",
            "469/469 [==============================] - 5s 11ms/step - loss: 0.0942 - val_loss: 0.0931\n",
            "Epoch 46/50\n",
            "469/469 [==============================] - 5s 10ms/step - loss: 0.0942 - val_loss: 0.0936\n",
            "Epoch 47/50\n",
            "469/469 [==============================] - 5s 11ms/step - loss: 0.0940 - val_loss: 0.0928\n",
            "Epoch 48/50\n",
            "469/469 [==============================] - 5s 11ms/step - loss: 0.0938 - val_loss: 0.0934\n",
            "Epoch 49/50\n",
            "469/469 [==============================] - 5s 11ms/step - loss: 0.0937 - val_loss: 0.0926\n",
            "Epoch 50/50\n",
            "469/469 [==============================] - 5s 11ms/step - loss: 0.0937 - val_loss: 0.0924\n"
          ]
        },
        {
          "output_type": "execute_result",
          "data": {
            "text/plain": [
              "<keras.callbacks.History at 0x7f11f01edd50>"
            ]
          },
          "metadata": {},
          "execution_count": 4
        }
      ]
    },
    {
      "cell_type": "code",
      "metadata": {
        "colab": {
          "base_uri": "https://localhost:8080/",
          "height": 248
        },
        "id": "wnbibHju5qc0",
        "outputId": "c629c1e6-35f3-4b06-d9e0-80688c1c3905"
      },
      "source": [
        "# outputs\n",
        "import matplotlib.pyplot as plt\n",
        "\n",
        "decoded_imgs = autoencoder.predict(x_test)\n",
        "\n",
        "n = 10\n",
        "plt.figure(figsize=(20, 4))\n",
        "for i in range(1, n + 1):\n",
        "    # Display original\n",
        "    ax = plt.subplot(2, n, i)\n",
        "    plt.imshow(x_test[i].reshape(28, 28))\n",
        "    plt.gray()\n",
        "    ax.get_xaxis().set_visible(False)\n",
        "    ax.get_yaxis().set_visible(False)\n",
        "\n",
        "    # Display reconstruction\n",
        "    ax = plt.subplot(2, n, i + n)\n",
        "    plt.imshow(decoded_imgs[i].reshape(28, 28))\n",
        "    plt.gray()\n",
        "    ax.get_xaxis().set_visible(False)\n",
        "    ax.get_yaxis().set_visible(False)\n",
        "plt.show()"
      ],
      "execution_count": null,
      "outputs": [
        {
          "output_type": "display_data",
          "data": {
            "image/png": "[encoded data removed]",
            "text/plain": [
              "<Figure size 1440x288 with 20 Axes>"
            ]
          },
          "metadata": {
            "needs_background": "light"
          }
        }
      ]
    },
    {
      "cell_type": "code",
      "metadata": {
        "colab": {
          "base_uri": "https://localhost:8080/",
          "height": 469
        },
        "id": "6oXESNXp5uay",
        "outputId": "90500028-4062-4749-d1d0-b2116e0024d4"
      },
      "source": [
        "# visualize the latents\n",
        "encoder = keras.Model(input_img, encoded)\n",
        "encoded_imgs = encoder.predict(x_test)\n",
        "\n",
        "n = 10\n",
        "plt.figure(figsize=(20, 8))\n",
        "for i in range(1, n + 1):\n",
        "    ax = plt.subplot(1, n, i)\n",
        "    plt.imshow(encoded_imgs[i].reshape((4, 4 * 8)).T)\n",
        "    plt.gray()\n",
        "    ax.get_xaxis().set_visible(False)\n",
        "    ax.get_yaxis().set_visible(False)\n",
        "plt.show()"
      ],
      "execution_count": null,
      "outputs": [
        {
          "output_type": "display_data",
          "data": {
            "image/png": "[encoded data removed]",
            "text/plain": [
              "<Figure size 1440x576 with 10 Axes>"
            ]
          },
          "metadata": {
            "needs_background": "light"
          }
        }
      ]
    },
    {
      "cell_type": "code",
      "metadata": {
        "id": "QxmA2jvm-9bp"
      },
      "source": [
        "import tensorflow as tf\n",
        "import tensorflow.keras.backend as K\n",
        "from tensorflow.keras.preprocessing import image\n",
        "import numpy as np\n",
        "import os\n",
        "import matplotlib.pyplot as plt\n",
        "import cv2\n",
        "from google.colab.patches import cv2_imshow # cv2.imshow does not work on Google Colab notebooks, which is why we are using cv2_imshow instead"
      ],
      "execution_count": null,
      "outputs": []
    },
    {
      "cell_type": "code",
      "metadata": {
        "id": "HQyNV4FtBvs4"
      },
      "source": [
        "# input\n",
        "y = x_test[0]\n",
        "y = np.expand_dims(y, axis=0)"
      ],
      "execution_count": null,
      "outputs": []
    },
    {
      "cell_type": "code",
      "metadata": {
        "colab": {
          "base_uri": "https://localhost:8080/"
        },
        "id": "67PmhgTL_LpD",
        "outputId": "b1817790-c296-4b40-d7bd-8beb07e738cf"
      },
      "source": [
        "with tf.GradientTape() as tape:\n",
        "  last_conv_layer = autoencoder.get_layer('conv2d_3')\n",
        "  iterate = tf.keras.models.Model([autoencoder.inputs], [autoencoder.output, last_conv_layer.output])\n",
        "  model_out, last_conv_layer = iterate(y) # for a given input predected output\n",
        "  print(\"output shape\", model_out.shape)\n",
        "  print(\"layer shape\", last_conv_layer.shape)\n",
        "  # class_out = model_out[:, np.argmax(model_out[0])]\n",
        "  # print(\"probablity of the predicted class\", class_out)\n",
        "  grads = tape.gradient(model_out, last_conv_layer)  # compute gradient based on predected probablity and class index\n",
        "  print(\"Gradints of w.r.t predicted class\", grads.shape) \n",
        "  pooled_grads = K.mean(grads, axis=(0, 1, 2))  # Global avarage pooling\n",
        "  print(\"Global Avarage pooling\", pooled_grads.shape)\n",
        "\n",
        "heatmap = tf.reduce_mean(tf.multiply(pooled_grads, last_conv_layer), axis=-1) # heatmap by mean along with feature map axis\n",
        "print(\"heatmap shape\", heatmap.shape)"
      ],
      "execution_count": null,
      "outputs": [
        {
          "output_type": "stream",
          "name": "stdout",
          "text": [
            "output shape (1, 28, 28, 1)\n",
            "layer shape (1, 4, 4, 8)\n",
            "Gradints of w.r.t predicted class (1, 4, 4, 8)\n",
            "Global Avarage pooling (8,)\n",
            "heatmap shape (1, 4, 4)\n"
          ]
        }
      ]
    },
    {
      "cell_type": "code",
      "metadata": {
        "colab": {
          "base_uri": "https://localhost:8080/",
          "height": 269
        },
        "id": "9vdMz1z5GhCB",
        "outputId": "4af4d434-9c3c-410a-adb8-09d9336e19d4"
      },
      "source": [
        "heatmap = np.maximum(heatmap, 0)  # convert negative values to 0\n",
        "heatmap /= np.max(heatmap)  # normalize\n",
        "heatmap = heatmap.reshape((4, 4))\n",
        "plt.imshow(heatmap)\n",
        "plt.show()"
      ],
      "execution_count": null,
      "outputs": [
        {
          "output_type": "display_data",
          "data": {
            "image/png": "[encoded data removed]",
            "text/plain": [
              "<Figure size 432x288 with 1 Axes>"
            ]
          },
          "metadata": {
            "needs_background": "light"
          }
        }
      ]
    },
    {
      "cell_type": "code",
      "metadata": {
        "colab": {
          "base_uri": "https://localhost:8080/",
          "height": 282
        },
        "id": "gkxOfkO3NhKF",
        "outputId": "fd1ec917-ec93-4c0a-bcad-b8d6e48eeef9"
      },
      "source": [
        "img = x_test[0]\n",
        "plt.imshow(img.reshape(28, 28))"
      ],
      "execution_count": null,
      "outputs": [
        {
          "output_type": "execute_result",
          "data": {
            "text/plain": [
              "<matplotlib.image.AxesImage at 0x7f10fb58d590>"
            ]
          },
          "metadata": {},
          "execution_count": 45
        },
        {
          "output_type": "display_data",
          "data": {
            "image/png": "[encoded data removed]",
            "text/plain": [
              "<Figure size 432x288 with 1 Axes>"
            ]
          },
          "metadata": {
            "needs_background": "light"
          }
        }
      ]
    },
    {
      "cell_type": "code",
      "metadata": {
        "colab": {
          "base_uri": "https://localhost:8080/",
          "height": 265
        },
        "id": "4TP0VWAKGrqA",
        "outputId": "4e2e1c5b-d373-4c84-f433-88ab7e8fa9e7"
      },
      "source": [
        "img = cv2.imread(img)\n",
        "\n",
        "INTENSITY = 0.5\n",
        "\n",
        "heatmap = cv2.resize(heatmap, (img.shape[1], img.shape[0]))\n",
        "\n",
        "heatmap = cv2.applyColorMap(np.uint8(255*heatmap), cv2.COLORMAP_JET)\n",
        "\n",
        "img = heatmap * INTENSITY + img"
      ],
      "execution_count": null,
      "outputs": [
        {
          "output_type": "display_data",
          "data": {
            "image/png": "[encoded data removed]",
            "text/plain": [
              "<Figure size 432x288 with 1 Axes>"
            ]
          },
          "metadata": {
            "needs_background": "light"
          }
        }
      ]
    },
    {
      "cell_type": "code",
      "metadata": {
        "colab": {
          "base_uri": "https://localhost:8080/",
          "height": 73
        },
        "id": "xVIR53ALG318",
        "outputId": "693ac04e-b21a-4cfb-dee1-ee6e53b8f22c"
      },
      "source": [
        "cv2_imshow(x_test[0])\n",
        "cv2_imshow(img)"
      ],
      "execution_count": null,
      "outputs": [
        {
          "output_type": "display_data",
          "data": {
            "image/png": "[encoded data removed]",
            "text/plain": [
              "<PIL.Image.Image image mode=RGB size=28x28 at 0x7F10FBC388D0>"
            ]
          },
          "metadata": {}
        },
        {
          "output_type": "display_data",
          "data": {
            "image/png": "[encoded data removed]",
            "text/plain": [
              "<PIL.Image.Image image mode=RGB size=28x28 at 0x7F10FBC38E90>"
            ]
          },
          "metadata": {}
        }
      ]
    }
  ]
}