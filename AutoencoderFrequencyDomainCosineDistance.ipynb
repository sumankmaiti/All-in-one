{
  "nbformat": 4,
  "nbformat_minor": 0,
  "metadata": {
    "colab": {
      "name": "AutoencoderFrequencyDomainCosineDistance.ipynb",
      "provenance": [],
      "collapsed_sections": [],
      "authorship_tag": "ABX9TyPaAfKFWywAUwT73BuQnQDq",
      "include_colab_link": true
    },
    "kernelspec": {
      "name": "python3",
      "display_name": "Python 3"
    },
    "language_info": {
      "name": "python"
    }
  },
  "cells": [
    {
      "cell_type": "markdown",
      "metadata": {
        "id": "view-in-github",
        "colab_type": "text"
      },
      "source": [
        "<a href=\"https://colab.research.google.com/github/sumankmaiti/All-in-one/blob/main/AutoencoderFrequencyDomainCosineDistance.ipynb\" target=\"_parent\"><img src=\"https://colab.research.google.com/assets/colab-badge.svg\" alt=\"Open In Colab\"/></a>"
      ]
    },
    {
      "cell_type": "code",
      "metadata": {
        "id": "EocANLF3YudC"
      },
      "source": [
        "from tensorflow.keras.datasets import mnist\n",
        "from tensorflow.keras.layers import Dense, Input, Flatten,\\\n",
        "                                    Reshape, LeakyReLU as LR,\\\n",
        "                                    Activation, Dropout\n",
        "from tensorflow.keras.models import Model, Sequential\n",
        "from matplotlib import pyplot as plt\n",
        "from IPython import display # If using IPython, Colab or Jupyter\n",
        "import numpy as np"
      ],
      "execution_count": null,
      "outputs": []
    },
    {
      "cell_type": "code",
      "metadata": {
        "colab": {
          "base_uri": "https://localhost:8080/",
          "height": 316
        },
        "id": "x6lkQV8jYv9C",
        "outputId": "f52d4673-a676-4750-e49d-3a924c254f04"
      },
      "source": [
        "(x_train, y_train), (x_test, y_test) = mnist.load_data()\n",
        "x_test = x_test/255.0\n",
        "# Plot image data from x_train\n",
        "plt.imshow(x_train[0], cmap = \"gray\")\n",
        "plt.show()"
      ],
      "execution_count": null,
      "outputs": [
        {
          "output_type": "stream",
          "name": "stdout",
          "text": [
            "Downloading data from https://storage.googleapis.com/tensorflow/tf-keras-datasets/mnist.npz\n",
            "11493376/11490434 [==============================] - 0s 0us/step\n",
            "11501568/11490434 [==============================] - 0s 0us/step\n"
          ]
        },
        {
          "output_type": "display_data",
          "data": {
            "image/png": "[encoded data removed]",
            "text/plain": [
              "<Figure size 432x288 with 1 Axes>"
            ]
          },
          "metadata": {
            "needs_background": "light"
          }
        }
      ]
    },
    {
      "cell_type": "code",
      "metadata": {
        "colab": {
          "base_uri": "https://localhost:8080/",
          "height": 282
        },
        "id": "SxV25GCDeRTX",
        "outputId": "3b4164bf-96e3-4f13-814b-6a8fd0bd39b1"
      },
      "source": [
        "(x_train, y_train), (x_test, y_test) = mnist.load_data()\n",
        "x_train = x_train/255.0\n",
        "plt.imshow(x_train[0])"
      ],
      "execution_count": null,
      "outputs": [
        {
          "output_type": "execute_result",
          "data": {
            "text/plain": [
              "<matplotlib.image.AxesImage at 0x7fc80a7df250>"
            ]
          },
          "metadata": {},
          "execution_count": 10
        },
        {
          "output_type": "display_data",
          "data": {
            "image/png": "[encoded data removed]",
            "text/plain": [
              "<Figure size 432x288 with 1 Axes>"
            ]
          },
          "metadata": {
            "needs_background": "light"
          }
        }
      ]
    },
    {
      "cell_type": "code",
      "metadata": {
        "id": "56fIkm65Y7jk"
      },
      "source": [
        "LATENT_SIZE = 32"
      ],
      "execution_count": null,
      "outputs": []
    },
    {
      "cell_type": "code",
      "metadata": {
        "id": "KOaXKgrzY3FX"
      },
      "source": [
        "encoder = Sequential([\n",
        "    Flatten(input_shape = (28, 28)),\n",
        "    Dense(512),\n",
        "    LR(),\n",
        "    Dropout(0.5),\n",
        "    Dense(256),\n",
        "    LR(),\n",
        "    Dropout(0.5),\n",
        "    Dense(128),\n",
        "    LR(),\n",
        "    Dropout(0.5),\n",
        "    Dense(64),\n",
        "    LR(),\n",
        "    Dropout(0.5),\n",
        "    Dense(LATENT_SIZE),\n",
        "    LR()\n",
        "])"
      ],
      "execution_count": null,
      "outputs": []
    },
    {
      "cell_type": "code",
      "metadata": {
        "id": "McYmdgEQaQ71"
      },
      "source": [
        "decoder = Sequential([\n",
        "    Dense(64, input_shape = (LATENT_SIZE,)),\n",
        "    LR(),\n",
        "    Dropout(0.5),\n",
        "    Dense(128),\n",
        "    LR(),\n",
        "    Dropout(0.5),\n",
        "    Dense(256),\n",
        "    LR(),\n",
        "    Dropout(0.5),\n",
        "    Dense(512),\n",
        "    LR(),\n",
        "    Dropout(0.5),\n",
        "    Dense(784),\n",
        "    Activation(\"sigmoid\"),\n",
        "    Reshape((28, 28))\n",
        "])"
      ],
      "execution_count": null,
      "outputs": []
    },
    {
      "cell_type": "code",
      "metadata": {
        "id": "3EvGtiZmaU8Z"
      },
      "source": [
        "img = Input(shape = (28, 28))\n",
        "latent_vector = encoder(img)\n",
        "output = decoder(latent_vector)\n",
        "model = Model(inputs = img, outputs = output)\n",
        "model.compile(\"nadam\", loss = \"binary_crossentropy\")\n",
        "EPOCHS = 10"
      ],
      "execution_count": null,
      "outputs": []
    },
    {
      "cell_type": "code",
      "metadata": {
        "colab": {
          "base_uri": "https://localhost:8080/",
          "height": 282
        },
        "id": "Q4ytPj2rUaCn",
        "outputId": "197a4667-aae5-4341-969b-30392cfbdc2a"
      },
      "source": [
        "#Only do plotting if you have IPython, Jupyter, or using Colab\n",
        "for epoch in range(EPOCHS):\n",
        "    fig, axs = plt.subplots(4, 4)\n",
        "    rand = x_test[np.random.randint(0, 10000, 16)].reshape((4, 4, 1, 28, 28))\n",
        "    \n",
        "    display.clear_output() # If you imported display from IPython\n",
        "    \n",
        "    for i in range(4):\n",
        "        for j in range(4):\n",
        "            axs[i, j].imshow(model.predict(rand[i, j])[0], cmap = \"gray\")\n",
        "            axs[i, j].axis(\"off\")\n",
        "    \n",
        "    plt.subplots_adjust(wspace = 0, hspace = 0)\n",
        "    plt.show()\n",
        "    print(\"-----------\", \"EPOCH\", epoch, \"-----------\")\n",
        "    model.fit(x_train, x_train)"
      ],
      "execution_count": null,
      "outputs": [
        {
          "output_type": "display_data",
          "data": {
            "image/png": "[encoded data removed]",
            "text/plain": [
              "<Figure size 432x288 with 16 Axes>"
            ]
          },
          "metadata": {
            "needs_background": "light"
          }
        },
        {
          "output_type": "stream",
          "name": "stdout",
          "text": [
            "----------- EPOCH 9 -----------\n",
            "1875/1875 [==============================] - 48s 26ms/step - loss: 0.1954\n"
          ]
        }
      ]
    },
    {
      "cell_type": "code",
      "metadata": {
        "id": "HssRqsBn1OhQ"
      },
      "source": [
        "import numpy as np\n",
        "import matplotlib.pyplot as plt\n",
        "from skimage.io import imread, imshow\n",
        "from skimage.color import rgb2hsv, rgb2gray, rgb2yuv\n",
        "from skimage import color, exposure, transform\n",
        "from skimage.exposure import equalize_hist"
      ],
      "execution_count": null,
      "outputs": []
    },
    {
      "cell_type": "code",
      "metadata": {
        "colab": {
          "base_uri": "https://localhost:8080/",
          "height": 314
        },
        "id": "riTXQJzB1eKL",
        "outputId": "128f3c96-d2c1-4526-df1c-4085169e1e55"
      },
      "source": [
        "test_image = x_test[2].reshape(28, 28)\n",
        "imshow(test_image)"
      ],
      "execution_count": null,
      "outputs": [
        {
          "output_type": "execute_result",
          "data": {
            "text/plain": [
              "<matplotlib.image.AxesImage at 0x7fecbdba4e10>"
            ]
          },
          "metadata": {},
          "execution_count": 7
        },
        {
          "output_type": "display_data",
          "data": {
            "image/png": "[encoded data removed]",
            "text/plain": [
              "<Figure size 432x288 with 1 Axes>"
            ]
          },
          "metadata": {
            "needs_background": "light"
          }
        }
      ]
    },
    {
      "cell_type": "code",
      "metadata": {
        "id": "7o8ewyVF77QM"
      },
      "source": [
        "test_image"
      ],
      "execution_count": null,
      "outputs": []
    },
    {
      "cell_type": "code",
      "metadata": {
        "id": "Ids24I7Ddedf",
        "colab": {
          "base_uri": "https://localhost:8080/",
          "height": 282
        },
        "outputId": "711cb262-1266-485d-a192-85ea522056ff"
      },
      "source": [
        "pred_img = model.predict(test_image.reshape(1, 28, 28))\n",
        "plt.imshow(pred_img.reshape(28, 28), cmap = 'gray')"
      ],
      "execution_count": null,
      "outputs": [
        {
          "output_type": "execute_result",
          "data": {
            "text/plain": [
              "<matplotlib.image.AxesImage at 0x7fe0bfe70c90>"
            ]
          },
          "metadata": {},
          "execution_count": 145
        },
        {
          "output_type": "display_data",
          "data": {
            "image/png": "[encoded data removed]",
            "text/plain": [
              "<Figure size 432x288 with 1 Axes>"
            ]
          },
          "metadata": {
            "needs_background": "light"
          }
        }
      ]
    },
    {
      "cell_type": "markdown",
      "metadata": {
        "id": "USzrCfhB4ugJ"
      },
      "source": [
        "fourier transform"
      ]
    },
    {
      "cell_type": "code",
      "metadata": {
        "id": "h7U-1jd9k9vF"
      },
      "source": [
        "dark_image_grey_fourier =[]\n",
        "image = []"
      ],
      "execution_count": null,
      "outputs": []
    },
    {
      "cell_type": "code",
      "metadata": {
        "id": "vnbnoZEPoH90"
      },
      "source": [
        "image.append(test_image)\n",
        "image.append(pred_img.reshape(28, 28))"
      ],
      "execution_count": null,
      "outputs": []
    },
    {
      "cell_type": "code",
      "metadata": {
        "id": "aYKZcTqFS6dS"
      },
      "source": [
        "dark_image_grey_fourier.append(np.fft.fftshift(np.fft.fft2(test_image)))\n",
        "# plt.figure(num=None, figsize=(8, 6), dpi=100)\n",
        "# plt.imshow(np.log(abs(dark_image_grey_fourier)), cmap='gray');"
      ],
      "execution_count": null,
      "outputs": []
    },
    {
      "cell_type": "code",
      "metadata": {
        "id": "dacGcRvifvFA"
      },
      "source": [
        "dark_image_grey_fourier.append(np.fft.fftshift(np.fft.fft2(pred_img.reshape(28, 28))))\n",
        "# plt.figure(num=None, figsize=(8, 6), dpi=100)\n",
        "# plt.imshow(np.log(abs(dark_image_grey_fourier)), cmap='gray');"
      ],
      "execution_count": null,
      "outputs": []
    },
    {
      "cell_type": "code",
      "metadata": {
        "id": "vEqbbyhesceP",
        "colab": {
          "base_uri": "https://localhost:8080/",
          "height": 231
        },
        "outputId": "84269514-948f-45af-ca62-9426dcfa48af"
      },
      "source": [
        "columns = 2\n",
        "rows = 1\n",
        "fig = plt.figure(figsize=(10,10))\n",
        "for i in range(1, columns*rows + 1):\n",
        "    img = image[i-1]\n",
        "    fig.add_subplot(rows, columns, i)\n",
        "    plt.imshow(img, cmap='gray')\n",
        "plt.show()"
      ],
      "execution_count": null,
      "outputs": [
        {
          "output_type": "error",
          "ename": "NameError",
          "evalue": "ignored",
          "traceback": [
            "\u001b[0;31m---------------------------------------------------------------------------\u001b[0m",
            "\u001b[0;31mNameError\u001b[0m                                 Traceback (most recent call last)",
            "\u001b[0;32m<ipython-input-1-b30dde59c341>\u001b[0m in \u001b[0;36m<module>\u001b[0;34m()\u001b[0m\n\u001b[1;32m      1\u001b[0m \u001b[0mcolumns\u001b[0m \u001b[0;34m=\u001b[0m \u001b[0;36m2\u001b[0m\u001b[0;34m\u001b[0m\u001b[0;34m\u001b[0m\u001b[0m\n\u001b[1;32m      2\u001b[0m \u001b[0mrows\u001b[0m \u001b[0;34m=\u001b[0m \u001b[0;36m1\u001b[0m\u001b[0;34m\u001b[0m\u001b[0;34m\u001b[0m\u001b[0m\n\u001b[0;32m----> 3\u001b[0;31m \u001b[0mfig\u001b[0m \u001b[0;34m=\u001b[0m \u001b[0mplt\u001b[0m\u001b[0;34m.\u001b[0m\u001b[0mfigure\u001b[0m\u001b[0;34m(\u001b[0m\u001b[0mfigsize\u001b[0m\u001b[0;34m=\u001b[0m\u001b[0;34m(\u001b[0m\u001b[0;36m10\u001b[0m\u001b[0;34m,\u001b[0m\u001b[0;36m10\u001b[0m\u001b[0;34m)\u001b[0m\u001b[0;34m)\u001b[0m\u001b[0;34m\u001b[0m\u001b[0;34m\u001b[0m\u001b[0m\n\u001b[0m\u001b[1;32m      4\u001b[0m \u001b[0;32mfor\u001b[0m \u001b[0mi\u001b[0m \u001b[0;32min\u001b[0m \u001b[0mrange\u001b[0m\u001b[0;34m(\u001b[0m\u001b[0;36m1\u001b[0m\u001b[0;34m,\u001b[0m \u001b[0mcolumns\u001b[0m\u001b[0;34m*\u001b[0m\u001b[0mrows\u001b[0m \u001b[0;34m+\u001b[0m \u001b[0;36m1\u001b[0m\u001b[0;34m)\u001b[0m\u001b[0;34m:\u001b[0m\u001b[0;34m\u001b[0m\u001b[0;34m\u001b[0m\u001b[0m\n\u001b[1;32m      5\u001b[0m     \u001b[0mimg\u001b[0m \u001b[0;34m=\u001b[0m \u001b[0mimage\u001b[0m\u001b[0;34m[\u001b[0m\u001b[0mi\u001b[0m\u001b[0;34m-\u001b[0m\u001b[0;36m1\u001b[0m\u001b[0;34m]\u001b[0m\u001b[0;34m\u001b[0m\u001b[0;34m\u001b[0m\u001b[0m\n",
            "\u001b[0;31mNameError\u001b[0m: name 'plt' is not defined"
          ]
        }
      ]
    },
    {
      "cell_type": "code",
      "metadata": {
        "id": "0hWWA88nykEz"
      },
      "source": [
        "np.round(abs(dark_image_grey_fourier[0]))"
      ],
      "execution_count": null,
      "outputs": []
    },
    {
      "cell_type": "code",
      "metadata": {
        "id": "HK6F1APwhOIn"
      },
      "source": [
        "columns = 2\n",
        "rows = 1\n",
        "fig = plt.figure(figsize=(10,10))\n",
        "for i in range(1, columns*rows + 1):\n",
        "    img = dark_image_grey_fourier[i-1]\n",
        "    fig.add_subplot(rows, columns, i)\n",
        "    plt.imshow((abs(img)), cmap='gray')\n",
        "print(\"Frequency Domain\")\n",
        "plt.show()"
      ],
      "execution_count": null,
      "outputs": []
    },
    {
      "cell_type": "code",
      "metadata": {
        "id": "fEddRtW5uPVn"
      },
      "source": [
        "columns = 2\n",
        "rows = 1\n",
        "fig = plt.figure(figsize=(10,10))\n",
        "for i in range(1, columns*rows + 1):\n",
        "    img = dark_image_grey_fourier[i-1]\n",
        "    fig.add_subplot(rows, columns, i)\n",
        "    plt.imshow(np.log(abs(img)), cmap='gray')\n",
        "print(\"Frequency Domain(apply log)\")\n",
        "plt.show()"
      ],
      "execution_count": null,
      "outputs": []
    },
    {
      "cell_type": "markdown",
      "metadata": {
        "id": "1q86S3-F6Y-T"
      },
      "source": [
        "cosine similarity of same images"
      ]
    },
    {
      "cell_type": "code",
      "metadata": {
        "id": "FjrVhrFb_5yy"
      },
      "source": [
        "np.dot(dark_image_grey_fourier[0], np.conj(dark_image_grey_fourier[1]))"
      ],
      "execution_count": null,
      "outputs": []
    },
    {
      "cell_type": "code",
      "metadata": {
        "colab": {
          "base_uri": "https://localhost:8080/"
        },
        "id": "Szkr1yh0ISog",
        "outputId": "b7b71dd2-7657-4aca-8666-28a7e0b3be1d"
      },
      "source": [
        "np.linalg.norm(dark_image_grey_fourier[1])"
      ],
      "execution_count": null,
      "outputs": [
        {
          "output_type": "execute_result",
          "data": {
            "text/plain": [
              "174.1548348766134"
            ]
          },
          "metadata": {},
          "execution_count": 61
        }
      ]
    },
    {
      "cell_type": "code",
      "metadata": {
        "id": "1h-mD-OTsyPC"
      },
      "source": [
        "from scipy import spatial\n",
        "# cosine similarity between A and B\n",
        "cos_sim=np.dot(dark_image_grey_fourier[0], np.conj(dark_image_grey_fourier[1]))/(np.linalg.norm(dark_image_grey_fourier[0])*np.linalg.norm(dark_image_grey_fourier[1]))\n",
        "print (f\"Cosine Similarity between A and B:{cos_sim}\")\n",
        "print (f\"Cosine Distance between A and B:{1-cos_sim}\")\n",
        "# result = 1 - spatial.distance.cosine(dark_image_grey_fourier[0].reshape(28*28), dark_image_grey_fourier[1].reshape(28*28))\n",
        "# print(result)"
      ],
      "execution_count": null,
      "outputs": []
    },
    {
      "cell_type": "code",
      "metadata": {
        "colab": {
          "base_uri": "https://localhost:8080/"
        },
        "id": "d4b-WIhQDojL",
        "outputId": "590c6fd0-be8c-4396-ae7e-551e1026235d"
      },
      "source": [
        "avg1 = np.average(abs(cos_sim))\n",
        "print(avg1)"
      ],
      "execution_count": null,
      "outputs": [
        {
          "output_type": "stream",
          "name": "stdout",
          "text": [
            "0.004567837300315481\n"
          ]
        }
      ]
    },
    {
      "cell_type": "code",
      "metadata": {
        "colab": {
          "base_uri": "https://localhost:8080/",
          "height": 314
        },
        "id": "yTMlEKNKJV4G",
        "outputId": "63dda9ef-5483-4e1f-da6e-943a6474879f"
      },
      "source": [
        "test_image1 = x_test[2].reshape(28, 28)\n",
        "imshow(test_image1)"
      ],
      "execution_count": null,
      "outputs": [
        {
          "output_type": "execute_result",
          "data": {
            "text/plain": [
              "<matplotlib.image.AxesImage at 0x7fe0c513b910>"
            ]
          },
          "metadata": {},
          "execution_count": 159
        },
        {
          "output_type": "display_data",
          "data": {
            "image/png": "[encoded data removed]",
            "text/plain": [
              "<Figure size 432x288 with 1 Axes>"
            ]
          },
          "metadata": {
            "needs_background": "light"
          }
        }
      ]
    },
    {
      "cell_type": "code",
      "metadata": {
        "colab": {
          "base_uri": "https://localhost:8080/",
          "height": 314
        },
        "id": "jq0_X_IrJbCc",
        "outputId": "579f202c-473a-4c33-9fcf-fe67483fa7b3"
      },
      "source": [
        "test_image2 = x_test[3].reshape(28, 28)\n",
        "imshow(test_image2)"
      ],
      "execution_count": null,
      "outputs": [
        {
          "output_type": "execute_result",
          "data": {
            "text/plain": [
              "<matplotlib.image.AxesImage at 0x7fe0c50b08d0>"
            ]
          },
          "metadata": {},
          "execution_count": 160
        },
        {
          "output_type": "display_data",
          "data": {
            "image/png": "[encoded data removed]",
            "text/plain": [
              "<Figure size 432x288 with 1 Axes>"
            ]
          },
          "metadata": {
            "needs_background": "light"
          }
        }
      ]
    },
    {
      "cell_type": "code",
      "metadata": {
        "id": "eDoH7NhsJu6Z"
      },
      "source": [
        "dark_image_grey_fourier_diff_img=[]\n",
        "dark_image_grey_fourier_diff_img.append(np.fft.fftshift(np.fft.fft2(test_image1)))\n",
        "dark_image_grey_fourier_diff_img.append(np.fft.fftshift(np.fft.fft2(test_image2)))"
      ],
      "execution_count": null,
      "outputs": []
    },
    {
      "cell_type": "code",
      "metadata": {
        "id": "41K17_ukKNE9"
      },
      "source": [
        "from scipy import spatial\n",
        "# cosine similarity between A and B\n",
        "cos_sim1=np.dot(dark_image_grey_fourier_diff_img[0], np.conj(dark_image_grey_fourier_diff_img[1]))/(np.linalg.norm(dark_image_grey_fourier_diff_img[0])*np.linalg.norm(dark_image_grey_fourier_diff_img[1]))\n",
        "print (f\"Cosine Similarity between A and B:{cos_sim1}\")\n",
        "print (f\"Cosine Distance between A and B:{1-cos_sim1}\")\n",
        "# result = 1 - spatial.distance.cosine(dark_image_grey_fourier[0].reshape(28*28), dark_image_grey_fourier[1].reshape(28*28))\n",
        "# print(result)"
      ],
      "execution_count": null,
      "outputs": []
    },
    {
      "cell_type": "code",
      "metadata": {
        "id": "a2gaR-QiQDVm"
      },
      "source": [
        ""
      ],
      "execution_count": null,
      "outputs": []
    },
    {
      "cell_type": "code",
      "metadata": {
        "colab": {
          "base_uri": "https://localhost:8080/"
        },
        "id": "V8sXYBa_KV7P",
        "outputId": "e8ad5b6d-ed3f-47f7-e2f2-8b47994b969c"
      },
      "source": [
        "avg2 = np.average(abs(cos_sim1))\n",
        "print(avg2)"
      ],
      "execution_count": null,
      "outputs": [
        {
          "output_type": "stream",
          "name": "stdout",
          "text": [
            "0.004297295211950188\n"
          ]
        }
      ]
    },
    {
      "cell_type": "code",
      "metadata": {
        "colab": {
          "base_uri": "https://localhost:8080/"
        },
        "id": "4MPDiYE3LcR9",
        "outputId": "f79daa97-6776-4125-f7f7-80e01d805516"
      },
      "source": [
        "print(avg1, avg2)"
      ],
      "execution_count": null,
      "outputs": [
        {
          "output_type": "stream",
          "name": "stdout",
          "text": [
            "0.004567837300315481 0.004297295211950188\n"
          ]
        }
      ]
    }
  ]
}