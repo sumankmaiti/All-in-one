{
  "nbformat": 4,
  "nbformat_minor": 0,
  "metadata": {
    "colab": {
      "name": "vgg19_flatten_layer_neuron_activation.ipynb",
      "provenance": [],
      "collapsed_sections": [],
      "mount_file_id": "1UqTZ-a4Q-FV88D0cOKDiRIe9l3Eh4vgI",
      "authorship_tag": "ABX9TyNOJ7E70UKWgxUIuvcRUHAB",
      "include_colab_link": true
    },
    "kernelspec": {
      "name": "python3",
      "display_name": "Python 3"
    },
    "language_info": {
      "name": "python"
    },
    "accelerator": "GPU"
  },
  "cells": [
    {
      "cell_type": "markdown",
      "metadata": {
        "id": "view-in-github",
        "colab_type": "text"
      },
      "source": [
        "<a href=\"https://colab.research.google.com/github/sumankmaiti/All-in-one/blob/main/vgg19_flatten_layer_neuron_activation.ipynb\" target=\"_parent\"><img src=\"https://colab.research.google.com/assets/colab-badge.svg\" alt=\"Open In Colab\"/></a>"
      ]
    },
    {
      "cell_type": "code",
      "execution_count": null,
      "metadata": {
        "id": "HyrX8B4d69mu"
      },
      "outputs": [],
      "source": [
        "# visualize feature maps output from each block in the vgg model\n",
        "from keras.applications.vgg19 import VGG19\n",
        "from keras.applications.vgg19 import preprocess_input\n",
        "from keras.preprocessing.image import load_img\n",
        "from keras.preprocessing.image import img_to_array\n",
        "from keras.models import Model\n",
        "from matplotlib import pyplot as plt\n",
        "from numpy import expand_dims"
      ]
    },
    {
      "cell_type": "code",
      "source": [
        "!pip install cleverhans"
      ],
      "metadata": {
        "colab": {
          "base_uri": "https://localhost:8080/"
        },
        "id": "rDeXguY6xL_o",
        "outputId": "c5cade5f-ade0-4d70-f0fe-0623cba400bb"
      },
      "execution_count": null,
      "outputs": [
        {
          "output_type": "stream",
          "name": "stdout",
          "text": [
            "Collecting cleverhans\n",
            "  Downloading cleverhans-4.0.0-py3-none-any.whl (92 kB)\n",
            "\u001b[K     |████████████████████████████████| 92 kB 157 kB/s \n",
            "\u001b[?25hCollecting nose\n",
            "  Downloading nose-1.3.7-py3-none-any.whl (154 kB)\n",
            "\u001b[K     |████████████████████████████████| 154 kB 29.3 MB/s \n",
            "\u001b[?25hRequirement already satisfied: easydict in /usr/local/lib/python3.7/dist-packages (from cleverhans) (1.9)\n",
            "Requirement already satisfied: numpy in /usr/local/lib/python3.7/dist-packages (from cleverhans) (1.21.5)\n",
            "Requirement already satisfied: scipy in /usr/local/lib/python3.7/dist-packages (from cleverhans) (1.4.1)\n",
            "Requirement already satisfied: six in /usr/local/lib/python3.7/dist-packages (from cleverhans) (1.15.0)\n",
            "Requirement already satisfied: matplotlib in /usr/local/lib/python3.7/dist-packages (from cleverhans) (3.2.2)\n",
            "Collecting mnist\n",
            "  Downloading mnist-0.2.2-py2.py3-none-any.whl (3.5 kB)\n",
            "Requirement already satisfied: absl-py in /usr/local/lib/python3.7/dist-packages (from cleverhans) (1.0.0)\n",
            "Requirement already satisfied: tensorflow-probability in /usr/local/lib/python3.7/dist-packages (from cleverhans) (0.16.0)\n",
            "Collecting pycodestyle\n",
            "  Downloading pycodestyle-2.8.0-py2.py3-none-any.whl (42 kB)\n",
            "\u001b[K     |████████████████████████████████| 42 kB 908 kB/s \n",
            "\u001b[?25hRequirement already satisfied: joblib in /usr/local/lib/python3.7/dist-packages (from cleverhans) (1.1.0)\n",
            "Requirement already satisfied: cycler>=0.10 in /usr/local/lib/python3.7/dist-packages (from matplotlib->cleverhans) (0.11.0)\n",
            "Requirement already satisfied: pyparsing!=2.0.4,!=2.1.2,!=2.1.6,>=2.0.1 in /usr/local/lib/python3.7/dist-packages (from matplotlib->cleverhans) (3.0.7)\n",
            "Requirement already satisfied: python-dateutil>=2.1 in /usr/local/lib/python3.7/dist-packages (from matplotlib->cleverhans) (2.8.2)\n",
            "Requirement already satisfied: kiwisolver>=1.0.1 in /usr/local/lib/python3.7/dist-packages (from matplotlib->cleverhans) (1.3.2)\n",
            "Requirement already satisfied: cloudpickle>=1.3 in /usr/local/lib/python3.7/dist-packages (from tensorflow-probability->cleverhans) (1.3.0)\n",
            "Requirement already satisfied: decorator in /usr/local/lib/python3.7/dist-packages (from tensorflow-probability->cleverhans) (4.4.2)\n",
            "Requirement already satisfied: gast>=0.3.2 in /usr/local/lib/python3.7/dist-packages (from tensorflow-probability->cleverhans) (0.5.3)\n",
            "Requirement already satisfied: dm-tree in /usr/local/lib/python3.7/dist-packages (from tensorflow-probability->cleverhans) (0.1.6)\n",
            "Installing collected packages: pycodestyle, nose, mnist, cleverhans\n",
            "Successfully installed cleverhans-4.0.0 mnist-0.2.2 nose-1.3.7 pycodestyle-2.8.0\n"
          ]
        }
      ]
    },
    {
      "cell_type": "code",
      "source": [
        "from absl import app, flags\n",
        "from easydict import EasyDict\n",
        "import  numpy  as  np\n",
        "import torch\n",
        "import torch.nn as nn\n",
        "import torch.nn.functional as F\n",
        "import torchvision\n",
        "from google.colab.patches import cv2_imshow\n",
        "import cv2\n",
        "import matplotlib.pyplot as plt\n",
        "\n",
        "from cleverhans.torch.attacks.fast_gradient_method import fast_gradient_method\n",
        "from cleverhans.torch.attacks.projected_gradient_descent import (\n",
        "    projected_gradient_descent,\n",
        ")\n",
        "\n",
        "class CNN(torch.nn.Module):\n",
        "    \"\"\"Basic CNN architecture.\"\"\"\n",
        "\n",
        "    def __init__(self, in_channels=1):\n",
        "        super(CNN, self).__init__()\n",
        "        self.conv1 = nn.Conv2d(in_channels, 64, 8, 1)\n",
        "        self.conv2 = nn.Conv2d(64, 128, 6, 2)\n",
        "        self.conv3 = nn.Conv2d(128, 128, 5, 2)\n",
        "        self.fc = nn.Linear(128 * 3 * 3, 10)\n",
        "\n",
        "    def forward(self, x):\n",
        "        x = F.relu(self.conv1(x))\n",
        "        x = F.relu(self.conv2(x))\n",
        "        x = F.relu(self.conv3(x))\n",
        "        x = x.view(-1, 128 * 3 * 3)\n",
        "        x = self.fc(x)\n",
        "        return x\n",
        "\n",
        "\n",
        "# def  ld_cifar10 ():\n",
        "#     \"\"\"Load training and test data.\"\"\"\n",
        "#     train_transforms = torchvision.transforms.Compose(\n",
        "#         [torchvision.transforms.ToTensor()]\n",
        "#     )\n",
        "#     test_transforms = torchvision.transforms.Compose(\n",
        "#         [torchvision.transforms.ToTensor()]\n",
        "#     )\n",
        "#     train_dataset = torchvision.datasets.CIFAR10(\n",
        "#         root=\"/tmp/data\", train=True, transform=train_transforms, download=True\n",
        "#     )\n",
        "#     test_dataset = torchvision.datasets.CIFAR10(\n",
        "#         root=\"/tmp/data\", train=False, transform=test_transforms, download=True\n",
        "#     )\n",
        "#     train_loader = torch.utils.data.DataLoader(\n",
        "#         train_dataset, batch_size=128, shuffle=True, num_workers=2\n",
        "#     )\n",
        "#     test_loader = torch.utils.data.DataLoader(\n",
        "#         test_dataset, batch_size=128, shuffle=False, num_workers=2\n",
        "#     )\n",
        "#     return EasyDict(train=train_loader, test=test_loader)\n",
        "\n",
        "\n",
        "def get_purturbed_image(x, net):\n",
        "    # Load training and test data\n",
        "    # data = ld_cifar10()\n",
        "\n",
        "    # Instantiate model, loss, and optimizer for training\n",
        "    # net = CNN(in_channels=3)\n",
        "    # device = \"cuda\" if torch.cuda.is_available() else \"cpu\"\n",
        "    # if  device  ==  \"miracles\" :\n",
        "        # net  =  net . cuda ()\n",
        "    # loss_fn = torch.nn.CrossEntropyLoss(reduction=\"mean\")\n",
        "    # optimizer = torch.optim.Adam(net.parameters(), lr=1e-3)\n",
        "\n",
        "    # Train vanilla model\n",
        "    # net.train().to(device)\n",
        "    # for epoch in range(1, 15):\n",
        "        # train_loss = 0.0\n",
        "        # for x, y in data.train:\n",
        "            # x, y = x.to(device), y.to(device)\n",
        "            # if FLAGS.adv_train:\n",
        "                # Replace clean example with adversarial example for adversarial training\n",
        "                # x = projected_gradient_descent(net, x, 0.3, 0.01, 40, np.inf)\n",
        "            # optimizer.zero_grad()\n",
        "            # loss = loss_fn(net(x), y)\n",
        "            # loss.backward()\n",
        "            # optimizer.step()\n",
        "            # train_loss += loss.item()\n",
        "        # print(\n",
        "            # \"epoch: {}/{}, train loss: {:.3f}\".format(\n",
        "                # epoch, 60, train_loss\n",
        "            # )\n",
        "        # )\n",
        "\n",
        "    # Evaluate on clean and adversarial data\n",
        "    # net.eval().to(device)\n",
        "    # report = EasyDict(nb_test=0, correct=0, correct_fgm=0, correct_pgd=0)\n",
        "    # for x, y in data.test:\n",
        "    # print(data.test)\n",
        "    # x, y = next(iter(data.test))\n",
        "    # x, y = x.to(device), y.to(device)\n",
        "    x_fgm = fast_gradient_method(net, torch.from_numpy(x),0.3,2)\n",
        "    # print(x_fgm.shape, x.shape)\n",
        "\n",
        "    # x_pgd = projected_gradient_descent(net, x, 0.3, 0.01, 50, 2)\n",
        "\n",
        "    \n",
        "    f, axarr = plt.subplots(1,3)\n",
        "    axarr[0].imshow(x[10].cpu().detach().permute(1, 2, 0))\n",
        "    axarr[1].imshow(x_fgm[10].cpu().detach().permute(1, 2, 0))\n",
        "    # axarr[2].imshow(x_pgd[10].cpu().detach().permute(1, 2, 0))\n",
        "\n",
        "    _, y_pred = net(x).max(1)  # model prediction on clean examples\n",
        "    _, y_pred_fgm = net(x_fgm).max(\n",
        "            1\n",
        "        )  # model prediction on FGM adversarial examples\n",
        "    # _ , y_pred_pgd  =  net ( x_pgd ). max (\n",
        "            # 1)\n",
        "    return x_fgm\n",
        "    # print(\"Original label:\",y[10], \"\\nPredected label without attack:\", y_pred[10], \"\\nPredected label after FGM attack:\" , y_pred_fgm[10],  \"\\nPredected label after PGD attack:\", y_pred_pgd[10])\n",
        "\n",
        "\n",
        "# if __name__ == \"__main__\":\n",
        "    # flags.DEFINE_integer(\"nb_epochs\", 8, \"Number of epochs.\")\n",
        "    # flags.DEFINE_float(\"eps\", 0.3, \"Total epsilon for FGM and PGD attacks.\")\n",
        "    # flags.DEFINE_bool(\n",
        "        # \"adv_train\", False, \"Use adversarial training (on PGD adversarial examples).\"\n",
        "    # )\n",
        "# main()"
      ],
      "metadata": {
        "id": "g9SI0eZ66aTN"
      },
      "execution_count": null,
      "outputs": []
    },
    {
      "cell_type": "code",
      "source": [
        "import tensorflow\n",
        "(x_train, y_train), (x_test, y_test) =tensorflow. keras.datasets.cifar10.load_data()\n",
        "train_img = x_train[0:50]\n",
        "print(train_img.shape)"
      ],
      "metadata": {
        "colab": {
          "base_uri": "https://localhost:8080/"
        },
        "id": "FXnitb-P8ipY",
        "outputId": "b8287890-b234-4b1a-9ff6-d18cc0d83ae6"
      },
      "execution_count": null,
      "outputs": [
        {
          "output_type": "stream",
          "name": "stdout",
          "text": [
            "Downloading data from https://www.cs.toronto.edu/~kriz/cifar-10-python.tar.gz\n",
            "170500096/170498071 [==============================] - 4s 0us/step\n",
            "170508288/170498071 [==============================] - 4s 0us/step\n",
            "(50, 32, 32, 3)\n"
          ]
        }
      ]
    },
    {
      "cell_type": "code",
      "source": [
        "from google.colab.patches import cv2_imshow\n",
        "import cv2\n",
        "import numpy as np\n",
        "\n",
        "assert train_img.shape == (50, 32, 32, 3)\n",
        "img = np.empty((50, 224, 224, 3), dtype='float16')\n",
        "for (k, image) in enumerate(train_img):\n",
        "    img[k] = cv2.resize(image, dsize=(224, 224))\n",
        "\n",
        "# img = cv2.resize(x_train, (x_train.shape[0], 224, 224))\n",
        "cv2_imshow(img[0])\n",
        "# img = img.reshape(img.shape[0], img.shape[3], img.shape[1], img.shape[2])\n",
        "print(img.shape)"
      ],
      "metadata": {
        "colab": {
          "base_uri": "https://localhost:8080/",
          "height": 258
        },
        "id": "j-OfR3hV851w",
        "outputId": "953e18e3-f4ce-4f3b-fe97-7213e5f9971d"
      },
      "execution_count": null,
      "outputs": [
        {
          "output_type": "display_data",
          "data": {
            "text/plain": [
              "<PIL.Image.Image image mode=RGB size=224x224 at 0x7F9AD78B70D0>"
            ],
            "image/png": "[encoded data removed]"
          },
          "metadata": {}
        },
        {
          "output_type": "stream",
          "name": "stdout",
          "text": [
            "(50, 224, 224, 3)\n"
          ]
        }
      ]
    },
    {
      "cell_type": "code",
      "source": [
        "# load the model\n",
        "model = VGG19()\n",
        "model.summary()"
      ],
      "metadata": {
        "colab": {
          "base_uri": "https://localhost:8080/"
        },
        "id": "6DxvBRmF8_G4",
        "outputId": "e96d11f3-8e8b-4ce4-e9a2-3c57327df8d9"
      },
      "execution_count": null,
      "outputs": [
        {
          "output_type": "stream",
          "name": "stdout",
          "text": [
            "Downloading data from https://storage.googleapis.com/tensorflow/keras-applications/vgg19/vgg19_weights_tf_dim_ordering_tf_kernels.h5\n",
            "574717952/574710816 [==============================] - 4s 0us/step\n",
            "574726144/574710816 [==============================] - 4s 0us/step\n",
            "Model: \"vgg19\"\n",
            "_________________________________________________________________\n",
            " Layer (type)                Output Shape              Param #   \n",
            "=================================================================\n",
            " input_1 (InputLayer)        [(None, 224, 224, 3)]     0         \n",
            "                                                                 \n",
            " block1_conv1 (Conv2D)       (None, 224, 224, 64)      1792      \n",
            "                                                                 \n",
            " block1_conv2 (Conv2D)       (None, 224, 224, 64)      36928     \n",
            "                                                                 \n",
            " block1_pool (MaxPooling2D)  (None, 112, 112, 64)      0         \n",
            "                                                                 \n",
            " block2_conv1 (Conv2D)       (None, 112, 112, 128)     73856     \n",
            "                                                                 \n",
            " block2_conv2 (Conv2D)       (None, 112, 112, 128)     147584    \n",
            "                                                                 \n",
            " block2_pool (MaxPooling2D)  (None, 56, 56, 128)       0         \n",
            "                                                                 \n",
            " block3_conv1 (Conv2D)       (None, 56, 56, 256)       295168    \n",
            "                                                                 \n",
            " block3_conv2 (Conv2D)       (None, 56, 56, 256)       590080    \n",
            "                                                                 \n",
            " block3_conv3 (Conv2D)       (None, 56, 56, 256)       590080    \n",
            "                                                                 \n",
            " block3_conv4 (Conv2D)       (None, 56, 56, 256)       590080    \n",
            "                                                                 \n",
            " block3_pool (MaxPooling2D)  (None, 28, 28, 256)       0         \n",
            "                                                                 \n",
            " block4_conv1 (Conv2D)       (None, 28, 28, 512)       1180160   \n",
            "                                                                 \n",
            " block4_conv2 (Conv2D)       (None, 28, 28, 512)       2359808   \n",
            "                                                                 \n",
            " block4_conv3 (Conv2D)       (None, 28, 28, 512)       2359808   \n",
            "                                                                 \n",
            " block4_conv4 (Conv2D)       (None, 28, 28, 512)       2359808   \n",
            "                                                                 \n",
            " block4_pool (MaxPooling2D)  (None, 14, 14, 512)       0         \n",
            "                                                                 \n",
            " block5_conv1 (Conv2D)       (None, 14, 14, 512)       2359808   \n",
            "                                                                 \n",
            " block5_conv2 (Conv2D)       (None, 14, 14, 512)       2359808   \n",
            "                                                                 \n",
            " block5_conv3 (Conv2D)       (None, 14, 14, 512)       2359808   \n",
            "                                                                 \n",
            " block5_conv4 (Conv2D)       (None, 14, 14, 512)       2359808   \n",
            "                                                                 \n",
            " block5_pool (MaxPooling2D)  (None, 7, 7, 512)         0         \n",
            "                                                                 \n",
            " flatten (Flatten)           (None, 25088)             0         \n",
            "                                                                 \n",
            " fc1 (Dense)                 (None, 4096)              102764544 \n",
            "                                                                 \n",
            " fc2 (Dense)                 (None, 4096)              16781312  \n",
            "                                                                 \n",
            " predictions (Dense)         (None, 1000)              4097000   \n",
            "                                                                 \n",
            "=================================================================\n",
            "Total params: 143,667,240\n",
            "Trainable params: 143,667,240\n",
            "Non-trainable params: 0\n",
            "_________________________________________________________________\n"
          ]
        }
      ]
    },
    {
      "cell_type": "code",
      "source": [
        "# redefine model to get the output of flatten to last layer\n",
        "ixs = [22, 23, 24,25]\n",
        "outputs = [model.layers[i].output for i in ixs]\n",
        "print(outputs)"
      ],
      "metadata": {
        "colab": {
          "base_uri": "https://localhost:8080/"
        },
        "id": "qb_7TrWC9DND",
        "outputId": "2691adbe-bc8d-434c-bad2-8406c6d3f920"
      },
      "execution_count": null,
      "outputs": [
        {
          "output_type": "stream",
          "name": "stdout",
          "text": [
            "[<KerasTensor: shape=(None, 25088) dtype=float32 (created by layer 'flatten')>, <KerasTensor: shape=(None, 4096) dtype=float32 (created by layer 'fc1')>, <KerasTensor: shape=(None, 4096) dtype=float32 (created by layer 'fc2')>, <KerasTensor: shape=(None, 1000) dtype=float32 (created by layer 'predictions')>]\n"
          ]
        }
      ]
    },
    {
      "cell_type": "code",
      "source": [
        "# calculation of  pertial derivative\n",
        "import tensorflow as tf\n",
        "import numpy as np\n",
        "\n",
        "with tf.GradientTape() as tape:\n",
        "  # Forward pass\n",
        "  modified_model = Model(inputs=model.inputs, outputs=outputs)\n",
        "  x = modified_model(img)\n",
        "  img_adv = get_purturbed_image(img, modified_model)\n",
        "\n",
        "  \n",
        "  # heighest_prob = np.max(x[-1]) \n",
        "\n",
        "# print(heighest_prob)\n",
        "# x = model.predict(img)\n",
        "predictions = x[-1]\n",
        "print(predictions.shape)\n",
        "flatten_layer_output = x[0]\n",
        "print(flatten_layer_output.shape)\n",
        "# Calculate gradients with respect to every trainable variable\n",
        "grad = tape.gradient(predictions, flatten_layer_output)\n",
        "print(grad)\n"
      ],
      "metadata": {
        "colab": {
          "base_uri": "https://localhost:8080/",
          "height": 1000
        },
        "id": "cYW-CThD9YLV",
        "outputId": "4ff0bd52-4617-4126-c617-00605c8e0479"
      },
      "execution_count": null,
      "outputs": [
        {
          "output_type": "error",
          "ename": "AttributeError",
          "evalue": "ignored",
          "traceback": [
            "\u001b[0;31m---------------------------------------------------------------------------\u001b[0m",
            "\u001b[0;31mAttributeError\u001b[0m                            Traceback (most recent call last)",
            "\u001b[0;32m<ipython-input-17-8996f731c26a>\u001b[0m in \u001b[0;36m<module>\u001b[0;34m()\u001b[0m\n\u001b[1;32m      7\u001b[0m   \u001b[0mmodified_model\u001b[0m \u001b[0;34m=\u001b[0m \u001b[0mModel\u001b[0m\u001b[0;34m(\u001b[0m\u001b[0minputs\u001b[0m\u001b[0;34m=\u001b[0m\u001b[0mmodel\u001b[0m\u001b[0;34m.\u001b[0m\u001b[0minputs\u001b[0m\u001b[0;34m,\u001b[0m \u001b[0moutputs\u001b[0m\u001b[0;34m=\u001b[0m\u001b[0moutputs\u001b[0m\u001b[0;34m)\u001b[0m\u001b[0;34m\u001b[0m\u001b[0;34m\u001b[0m\u001b[0m\n\u001b[1;32m      8\u001b[0m   \u001b[0mx\u001b[0m \u001b[0;34m=\u001b[0m \u001b[0mmodified_model\u001b[0m\u001b[0;34m(\u001b[0m\u001b[0mimg\u001b[0m\u001b[0;34m)\u001b[0m\u001b[0;34m\u001b[0m\u001b[0;34m\u001b[0m\u001b[0m\n\u001b[0;32m----> 9\u001b[0;31m   \u001b[0mimg_adv\u001b[0m \u001b[0;34m=\u001b[0m \u001b[0mget_purturbed_image\u001b[0m\u001b[0;34m(\u001b[0m\u001b[0mimg\u001b[0m\u001b[0;34m,\u001b[0m \u001b[0mmodified_model\u001b[0m\u001b[0;34m)\u001b[0m\u001b[0;34m\u001b[0m\u001b[0;34m\u001b[0m\u001b[0m\n\u001b[0m\u001b[1;32m     10\u001b[0m \u001b[0;34m\u001b[0m\u001b[0m\n\u001b[1;32m     11\u001b[0m \u001b[0;34m\u001b[0m\u001b[0m\n",
            "\u001b[0;32m<ipython-input-16-1a49f6190602>\u001b[0m in \u001b[0;36mget_purturbed_image\u001b[0;34m(x, net)\u001b[0m\n\u001b[1;32m     96\u001b[0m     \u001b[0;31m# x, y = next(iter(data.test))\u001b[0m\u001b[0;34m\u001b[0m\u001b[0;34m\u001b[0m\u001b[0;34m\u001b[0m\u001b[0m\n\u001b[1;32m     97\u001b[0m     \u001b[0;31m# x, y = x.to(device), y.to(device)\u001b[0m\u001b[0;34m\u001b[0m\u001b[0;34m\u001b[0m\u001b[0;34m\u001b[0m\u001b[0m\n\u001b[0;32m---> 98\u001b[0;31m     \u001b[0mx_fgm\u001b[0m \u001b[0;34m=\u001b[0m \u001b[0mfast_gradient_method\u001b[0m\u001b[0;34m(\u001b[0m\u001b[0mnet\u001b[0m\u001b[0;34m,\u001b[0m \u001b[0mtorch\u001b[0m\u001b[0;34m.\u001b[0m\u001b[0mfrom_numpy\u001b[0m\u001b[0;34m(\u001b[0m\u001b[0mx\u001b[0m\u001b[0;34m)\u001b[0m\u001b[0;34m,\u001b[0m\u001b[0;36m0.3\u001b[0m\u001b[0;34m,\u001b[0m\u001b[0;36m2\u001b[0m\u001b[0;34m)\u001b[0m\u001b[0;34m\u001b[0m\u001b[0;34m\u001b[0m\u001b[0m\n\u001b[0m\u001b[1;32m     99\u001b[0m     \u001b[0;31m# print(x_fgm.shape, x.shape)\u001b[0m\u001b[0;34m\u001b[0m\u001b[0;34m\u001b[0m\u001b[0;34m\u001b[0m\u001b[0m\n\u001b[1;32m    100\u001b[0m \u001b[0;34m\u001b[0m\u001b[0m\n",
            "\u001b[0;32m/usr/local/lib/python3.7/dist-packages/cleverhans/torch/attacks/fast_gradient_method.py\u001b[0m in \u001b[0;36mfast_gradient_method\u001b[0;34m(model_fn, x, eps, norm, clip_min, clip_max, y, targeted, sanity_checks)\u001b[0m\n\u001b[1;32m     75\u001b[0m     \u001b[0;32mif\u001b[0m \u001b[0my\u001b[0m \u001b[0;32mis\u001b[0m \u001b[0;32mNone\u001b[0m\u001b[0;34m:\u001b[0m\u001b[0;34m\u001b[0m\u001b[0;34m\u001b[0m\u001b[0m\n\u001b[1;32m     76\u001b[0m         \u001b[0;31m# Using model predictions as ground truth to avoid label leaking\u001b[0m\u001b[0;34m\u001b[0m\u001b[0;34m\u001b[0m\u001b[0;34m\u001b[0m\u001b[0m\n\u001b[0;32m---> 77\u001b[0;31m         \u001b[0m_\u001b[0m\u001b[0;34m,\u001b[0m \u001b[0my\u001b[0m \u001b[0;34m=\u001b[0m \u001b[0mtorch\u001b[0m\u001b[0;34m.\u001b[0m\u001b[0mmax\u001b[0m\u001b[0;34m(\u001b[0m\u001b[0mmodel_fn\u001b[0m\u001b[0;34m(\u001b[0m\u001b[0mx\u001b[0m\u001b[0;34m)\u001b[0m\u001b[0;34m,\u001b[0m \u001b[0;36m1\u001b[0m\u001b[0;34m)\u001b[0m\u001b[0;34m\u001b[0m\u001b[0;34m\u001b[0m\u001b[0m\n\u001b[0m\u001b[1;32m     78\u001b[0m \u001b[0;34m\u001b[0m\u001b[0m\n\u001b[1;32m     79\u001b[0m     \u001b[0;31m# Compute loss\u001b[0m\u001b[0;34m\u001b[0m\u001b[0;34m\u001b[0m\u001b[0;34m\u001b[0m\u001b[0m\n",
            "\u001b[0;32m/usr/local/lib/python3.7/dist-packages/keras/utils/traceback_utils.py\u001b[0m in \u001b[0;36merror_handler\u001b[0;34m(*args, **kwargs)\u001b[0m\n\u001b[1;32m     65\u001b[0m     \u001b[0;32mexcept\u001b[0m \u001b[0mException\u001b[0m \u001b[0;32mas\u001b[0m \u001b[0me\u001b[0m\u001b[0;34m:\u001b[0m  \u001b[0;31m# pylint: disable=broad-except\u001b[0m\u001b[0;34m\u001b[0m\u001b[0;34m\u001b[0m\u001b[0m\n\u001b[1;32m     66\u001b[0m       \u001b[0mfiltered_tb\u001b[0m \u001b[0;34m=\u001b[0m \u001b[0m_process_traceback_frames\u001b[0m\u001b[0;34m(\u001b[0m\u001b[0me\u001b[0m\u001b[0;34m.\u001b[0m\u001b[0m__traceback__\u001b[0m\u001b[0;34m)\u001b[0m\u001b[0;34m\u001b[0m\u001b[0;34m\u001b[0m\u001b[0m\n\u001b[0;32m---> 67\u001b[0;31m       \u001b[0;32mraise\u001b[0m \u001b[0me\u001b[0m\u001b[0;34m.\u001b[0m\u001b[0mwith_traceback\u001b[0m\u001b[0;34m(\u001b[0m\u001b[0mfiltered_tb\u001b[0m\u001b[0;34m)\u001b[0m \u001b[0;32mfrom\u001b[0m \u001b[0;32mNone\u001b[0m\u001b[0;34m\u001b[0m\u001b[0;34m\u001b[0m\u001b[0m\n\u001b[0m\u001b[1;32m     68\u001b[0m     \u001b[0;32mfinally\u001b[0m\u001b[0;34m:\u001b[0m\u001b[0;34m\u001b[0m\u001b[0;34m\u001b[0m\u001b[0m\n\u001b[1;32m     69\u001b[0m       \u001b[0;32mdel\u001b[0m \u001b[0mfiltered_tb\u001b[0m\u001b[0;34m\u001b[0m\u001b[0;34m\u001b[0m\u001b[0m\n",
            "\u001b[0;32m/usr/local/lib/python3.7/dist-packages/keras/engine/input_spec.py\u001b[0m in \u001b[0;36massert_input_compatibility\u001b[0;34m(input_spec, inputs, layer_name)\u001b[0m\n\u001b[1;32m    224\u001b[0m                          f'found ndim={ndim}')\n\u001b[1;32m    225\u001b[0m     \u001b[0;32mif\u001b[0m \u001b[0mspec\u001b[0m\u001b[0;34m.\u001b[0m\u001b[0mmin_ndim\u001b[0m \u001b[0;32mis\u001b[0m \u001b[0;32mnot\u001b[0m \u001b[0;32mNone\u001b[0m\u001b[0;34m:\u001b[0m\u001b[0;34m\u001b[0m\u001b[0;34m\u001b[0m\u001b[0m\n\u001b[0;32m--> 226\u001b[0;31m       \u001b[0mndim\u001b[0m \u001b[0;34m=\u001b[0m \u001b[0mx\u001b[0m\u001b[0;34m.\u001b[0m\u001b[0mshape\u001b[0m\u001b[0;34m.\u001b[0m\u001b[0mrank\u001b[0m\u001b[0;34m\u001b[0m\u001b[0;34m\u001b[0m\u001b[0m\n\u001b[0m\u001b[1;32m    227\u001b[0m       \u001b[0;32mif\u001b[0m \u001b[0mndim\u001b[0m \u001b[0;32mis\u001b[0m \u001b[0;32mnot\u001b[0m \u001b[0;32mNone\u001b[0m \u001b[0;32mand\u001b[0m \u001b[0mndim\u001b[0m \u001b[0;34m<\u001b[0m \u001b[0mspec\u001b[0m\u001b[0;34m.\u001b[0m\u001b[0mmin_ndim\u001b[0m\u001b[0;34m:\u001b[0m\u001b[0;34m\u001b[0m\u001b[0;34m\u001b[0m\u001b[0m\n\u001b[1;32m    228\u001b[0m         raise ValueError(f'Input {input_index} of layer \"{layer_name}\" '\n",
            "\u001b[0;31mAttributeError\u001b[0m: Exception encountered when calling layer \"model_4\" (type Functional).\n\n'torch.Size' object has no attribute 'rank'\n\nCall arguments received:\n  • inputs=tensor([[[[ 59.,  62.,  63.],\n          [ 59.,  62.,  63.],\n          [ 59.,  62.,  63.],\n          ...,\n          [148., 124., 103.],\n          [148., 124., 103.],\n          [148., 124., 103.]],\n\n         [[ 59.,  62.,  63.],\n          [ 59.,  62.,  63.],\n          [ 59.,  62.,  63.],\n          ...,\n          [148., 124., 103.],\n          [148., 124., 103.],\n          [148., 124., 103.]],\n\n         [[ 59.,  62.,  63.],\n          [ 59.,  62.,  63.],\n          [ 59.,  62.,  63.],\n          ...,\n          [148., 124., 103.],\n          [148., 124., 103.],\n          [148., 124., 103.]],\n\n         ...,\n\n         [[177., 144., 116.],\n          [177., 144., 116.],\n          [177., 144., 116.],\n          ...,\n          [123.,  92.,  72.],\n          [123.,  92.,  72.],\n          [123.,  92.,  72.]],\n\n         [[177., 144., 116.],\n          [177., 144., 116.],\n          [177., 144., 116.],\n          ...,\n          [123.,  92.,  72.],\n          [123.,  92.,  72.],\n          [123.,  92.,  72.]],\n\n         [[177., 144., 116.],\n          [177., 144., 116.],\n          [177., 144., 116.],\n          ...,\n          [123.,  92.,  72.],\n          [123.,  92.,  72.],\n          [123.,  92.,  72.]]],\n\n\n        [[[154., 177., 187.],\n          [154., 177., 187.],\n          [154., 177., 187.],\n          ...,\n          [ 79.,  81.,  70.],\n          [ 79.,  81.,  70.],\n          [ 79.,  81.,  70.]],\n\n         [[154., 177., 187.],\n          [154., 177., 187.],\n          [154., 177., 187.],\n          ...,\n          [ 79.,  81.,  70.],\n          [ 79.,  81.,  70.],\n          [ 79.,  81.,  70.]],\n\n         [[154., 177., 187.],\n          [154., 177., 187.],\n          [154., 177., 187.],\n          ...,\n          [ 79.,  81.,  70.],\n          [ 79.,  81.,  70.],\n          [ 79.,  81.,  70.]],\n\n         ...,\n\n         [[163., 148., 120.],\n          [163., 148., 120.],\n          [163., 148., 120.],\n          ...,\n          [143., 133., 144.],\n          [143., 133., 144.],\n          [143., 133., 144.]],\n\n         [[163., 148., 120.],\n          [163., 148., 120.],\n          [163., 148., 120.],\n          ...,\n          [143., 133., 144.],\n          [143., 133., 144.],\n          [143., 133., 144.]],\n\n         [[163., 148., 120.],\n          [163., 148., 120.],\n          [163., 148., 120.],\n          ...,\n          [143., 133., 144.],\n          [143., 133., 144.],\n          [143., 133., 144.]]],\n\n\n        [[[255., 255., 255.],\n          [255., 255., 255.],\n          [255., 255., 255.],\n          ...,\n          [253., 253., 253.],\n          [253., 253., 253.],\n          [253., 253., 253.]],\n\n         [[255., 255., 255.],\n          [255., 255., 255.],\n          [255., 255., 255.],\n          ...,\n          [253., 253., 253.],\n          [253., 253., 253.],\n          [253., 253., 253.]],\n\n         [[255., 255., 255.],\n          [255., 255., 255.],\n          [255., 255., 255.],\n          ...,\n          [253., 253., 253.],\n          [253., 253., 253.],\n          [253., 253., 253.]],\n\n         ...,\n\n         [[106., 113., 105.],\n          [106., 113., 105.],\n          [106., 113., 105.],\n          ...,\n          [ 80.,  86.,  84.],\n          [ 80.,  86.,  84.],\n          [ 80.,  86.,  84.]],\n\n         [[106., 113., 105.],\n          [106., 113., 105.],\n          [106., 113., 105.],\n          ...,\n          [ 80.,  86.,  84.],\n          [ 80.,  86.,  84.],\n          [ 80.,  86.,  84.]],\n\n         [[106., 113., 105.],\n          [106., 113., 105.],\n          [106., 113., 105.],\n          ...,\n          [ 80.,  86.,  84.],\n          [ 80.,  86.,  84.],\n          [ 80.,  86.,  84.]]],\n\n\n        ...,\n\n\n        [[[ 77., 113., 137.],\n          [ 77., 113., 137.],\n          [ 77., 113., 137.],\n          ...,\n          [ 48.,  84., 108.],\n          [ 48.,  84., 108.],\n          [ 48.,  84., 108.]],\n\n         [[ 77., 113., 137.],\n          [ 77., 113., 137.],\n          [ 77., 113., 137.],\n          ...,\n          [ 48.,  84., 108.],\n          [ 48.,  84., 108.],\n          [ 48.,  84., 108.]],\n\n         [[ 77., 113., 137.],\n          [ 77., 113., 137.],\n          [ 77., 113., 137.],\n          ...,\n          [ 48.,  84., 108.],\n          [ 48.,  84., 108.],\n          [ 48.,  84., 108.]],\n\n         ...,\n\n         [[103., 129., 144.],\n          [103., 129., 144.],\n          [103., 129., 144.],\n          ...,\n          [ 77., 112., 135.],\n          [ 77., 112., 135.],\n          [ 77., 112., 135.]],\n\n         [[103., 129., 144.],\n          [103., 129., 144.],\n          [103., 129., 144.],\n          ...,\n          [ 77., 112., 135.],\n          [ 77., 112., 135.],\n          [ 77., 112., 135.]],\n\n         [[103., 129., 144.],\n          [103., 129., 144.],\n          [103., 129., 144.],\n          ...,\n          [ 77., 112., 135.],\n          [ 77., 112., 135.],\n          [ 77., 112., 135.]]],\n\n\n        [[[191., 191., 168.],\n          [191., 191., 168.],\n          [191., 191., 168.],\n          ...,\n          [146., 150., 127.],\n          [146., 150., 127.],\n          [146., 150., 127.]],\n\n         [[191., 191., 168.],\n          [191., 191., 168.],\n          [191., 191., 168.],\n          ...,\n          [146., 150., 127.],\n          [146., 150., 127.],\n          [146., 150., 127.]],\n\n         [[191., 191., 168.],\n          [191., 191., 168.],\n          [191., 191., 168.],\n          ...,\n          [146., 150., 127.],\n          [146., 150., 127.],\n          [146., 150., 127.]],\n\n         ...,\n\n         [[201., 226., 178.],\n          [201., 226., 178.],\n          [201., 226., 178.],\n          ...,\n          [217., 238., 195.],\n          [217., 238., 195.],\n          [217., 238., 195.]],\n\n         [[201., 226., 178.],\n          [201., 226., 178.],\n          [201., 226., 178.],\n          ...,\n          [217., 238., 195.],\n          [217., 238., 195.],\n          [217., 238., 195.]],\n\n         [[201., 226., 178.],\n          [201., 226., 178.],\n          [201., 226., 178.],\n          ...,\n          [217., 238., 195.],\n          [217., 238., 195.],\n          [217., 238., 195.]]],\n\n\n        [[[255., 255., 255.],\n          [255., 255., 255.],\n          [255., 255., 255.],\n          ...,\n          [255., 255., 255.],\n          [255., 255., 255.],\n          [255., 255., 255.]],\n\n         [[255., 255., 255.],\n          [255., 255., 255.],\n          [255., 255., 255.],\n          ...,\n          [255., 255., 255.],\n          [255., 255., 255.],\n          [255., 255., 255.]],\n\n         [[255., 255., 255.],\n          [255., 255., 255.],\n          [255., 255., 255.],\n          ...,\n          [255., 255., 255.],\n          [255., 255., 255.],\n          [255., 255., 255.]],\n\n         ...,\n\n         [[255., 255., 255.],\n          [255., 255., 255.],\n          [255., 255., 255.],\n          ...,\n          [255., 255., 255.],\n          [255., 255., 255.],\n          [255., 255., 255.]],\n\n         [[255., 255., 255.],\n          [255., 255., 255.],\n          [255., 255., 255.],\n          ...,\n          [255., 255., 255.],\n          [255., 255., 255.],\n          [255., 255., 255.]],\n\n         [[255., 255., 255.],\n          [255., 255., 255.],\n          [255., 255., 255.],\n          ...,\n          [255., 255., 255.],\n          [255., 255., 255.],\n          [255., 255., 255.]]]], requires_grad=True)\n  • training=None\n  • mask=None"
          ]
        }
      ]
    },
    {
      "cell_type": "code",
      "source": [
        "# output of probabilities\n",
        "print(predictions.shape)"
      ],
      "metadata": {
        "colab": {
          "base_uri": "https://localhost:8080/"
        },
        "id": "uqgnEJwn-95I",
        "outputId": "5f4df1e0-6f60-4a37-f4f0-f8d21d729c9c"
      },
      "execution_count": null,
      "outputs": [
        {
          "output_type": "stream",
          "name": "stdout",
          "text": [
            "(50, 1000)\n"
          ]
        }
      ]
    },
    {
      "cell_type": "code",
      "source": [
        "# get top 5 class name with probabilities\n",
        "import keras\n",
        "predicted_top_5 = keras.applications.vgg19.decode_predictions(predictions.numpy())\n",
        "\n",
        "print(predicted_top_5)"
      ],
      "metadata": {
        "colab": {
          "base_uri": "https://localhost:8080/"
        },
        "id": "NwQnM2_t_EtP",
        "outputId": "13730202-5683-4119-9581-9f1fe1ec28c9"
      },
      "execution_count": null,
      "outputs": [
        {
          "output_type": "stream",
          "name": "stdout",
          "text": [
            "Downloading data from https://storage.googleapis.com/download.tensorflow.org/data/imagenet_class_index.json\n",
            "40960/35363 [==================================] - 0s 0us/step\n",
            "49152/35363 [=========================================] - 0s 0us/step\n",
            "[[('n03825788', 'nipple', 0.9041351), ('n03544143', 'hourglass', 0.019932017), ('n04152593', 'screen', 0.010086423), ('n03690938', 'lotion', 0.008332747), ('n04579145', 'whiskey_jug', 0.0041674958)], [('n03796401', 'moving_van', 0.6867204), ('n03961711', 'plate_rack', 0.060137294), ('n03207941', 'dishwasher', 0.030412223), ('n03764736', 'milk_can', 0.02449538), ('n04311004', 'steel_arch_bridge', 0.018423794)], [('n04428191', 'thresher', 0.49555123), ('n04008634', 'projectile', 0.07351186), ('n04153751', 'screw', 0.06832554), ('n03804744', 'nail', 0.06794346), ('n03000684', 'chain_saw', 0.022525927)], [('n01795545', 'black_grouse', 0.27466172), ('n02095889', 'Sealyham_terrier', 0.04681037), ('n02096437', 'Dandie_Dinmont', 0.039286315), ('n02422106', 'hartebeest', 0.03582016), ('n02085782', 'Japanese_spaniel', 0.033261638)], [('n03796401', 'moving_van', 0.5155112), ('n02690373', 'airliner', 0.062259812), ('n04357314', 'sunscreen', 0.032869123), ('n02783161', 'ballpoint', 0.02794356), ('n03075370', 'combination_lock', 0.025714021)], [('n03825788', 'nipple', 0.40820417), ('n04357314', 'sunscreen', 0.07542446), ('n04127249', 'safety_pin', 0.07196702), ('n04579432', 'whistle', 0.044836584), ('n03961711', 'plate_rack', 0.03485339)], [('n02112706', 'Brabancon_griffon', 0.3235681), ('n02087046', 'toy_terrier', 0.16341387), ('n02090379', 'redbone', 0.11569658), ('n02356798', 'fox_squirrel', 0.028155992), ('n02100583', 'vizsla', 0.024457952)], [('n02087046', 'toy_terrier', 0.45623848), ('n02113978', 'Mexican_hairless', 0.3934286), ('n02112706', 'Brabancon_griffon', 0.03507721), ('n02090379', 'redbone', 0.022628853), ('n02089078', 'black-and-tan_coonhound', 0.011377222)], [('n03658185', 'letter_opener', 0.224818), ('n02951585', 'can_opener', 0.18869081), ('n04033901', 'quill', 0.041049737), ('n03400231', 'frying_pan', 0.03295839), ('n03794056', 'mousetrap', 0.029456591)], [('n01843065', 'jacamar', 0.059857417), ('n03658185', 'letter_opener', 0.036255397), ('n04111531', 'rotisserie', 0.030894432), ('n03041632', 'cleaver', 0.028150393), ('n03476684', 'hair_slide', 0.025529813)], [('n03498962', 'hatchet', 0.07817441), ('n01930112', 'nematode', 0.0479272), ('n03658185', 'letter_opener', 0.039404765), ('n02356798', 'fox_squirrel', 0.037932035), ('n04579145', 'whiskey_jug', 0.032669734)], [('n02089973', 'English_foxhound', 0.2525549), ('n02114855', 'coyote', 0.23949644), ('n02115913', 'dhole', 0.055668313), ('n02115641', 'dingo', 0.052223828), ('n02114712', 'red_wolf', 0.038764734)], [('n02113978', 'Mexican_hairless', 0.25438115), ('n02112706', 'Brabancon_griffon', 0.15168831), ('n02087046', 'toy_terrier', 0.05865571), ('n01871265', 'tusker', 0.052189574), ('n02504013', 'Indian_elephant', 0.0482699)], [('n03903868', 'pedestal', 0.091621295), ('n04254120', 'soap_dispenser', 0.06597441), ('n04456115', 'torch', 0.041817512), ('n04380533', 'table_lamp', 0.03955031), ('n03937543', 'pill_bottle', 0.038836244)], [('n03961711', 'plate_rack', 0.20105977), ('n04428191', 'thresher', 0.18493952), ('n03825788', 'nipple', 0.06394314), ('n03297495', 'espresso_maker', 0.042611204), ('n04286575', 'spotlight', 0.030127157)], [('n03796401', 'moving_van', 0.41172796), ('n03777754', 'modem', 0.07939985), ('n04372370', 'switch', 0.044530954), ('n02978881', 'cassette', 0.03151628), ('n03692522', 'loupe', 0.021848936)], [('n04428191', 'thresher', 0.27882305), ('n04579432', 'whistle', 0.05985974), ('n03134739', 'croquet_ball', 0.05755326), ('n03825788', 'nipple', 0.05024042), ('n02815834', 'beaker', 0.03667065)], [('n03825788', 'nipple', 0.6737657), ('n02786058', 'Band_Aid', 0.05211254), ('n04127249', 'safety_pin', 0.023700431), ('n03961711', 'plate_rack', 0.014593184), ('n03476684', 'hair_slide', 0.013235172)], [('n03047690', 'clog', 0.17988026), ('n01968897', 'chambered_nautilus', 0.13566865), ('n03825788', 'nipple', 0.086029485), ('n03840681', 'ocarina', 0.084348395), ('n01496331', 'electric_ray', 0.082476)], [('n03961711', 'plate_rack', 0.30229297), ('n03125729', 'cradle', 0.2251564), ('n04152593', 'screen', 0.11525853), ('n03825788', 'nipple', 0.041852593), ('n03347037', 'fire_screen', 0.018535031)], [('n03764736', 'milk_can', 0.038972072), ('n03041632', 'cleaver', 0.036278088), ('n02087046', 'toy_terrier', 0.03545574), ('n02100236', 'German_short-haired_pointer', 0.034694232), ('n02095889', 'Sealyham_terrier', 0.032038666)], [('n01910747', 'jellyfish', 0.46286213), ('n01770393', 'scorpion', 0.04770308), ('n02219486', 'ant', 0.023891391), ('n03325584', 'feather_boa', 0.017111247), ('n04286575', 'spotlight', 0.014968092)], [('n04525038', 'velvet', 0.10962489), ('n01496331', 'electric_ray', 0.09414724), ('n03920288', 'Petri_dish', 0.089439824), ('n01930112', 'nematode', 0.05149786), ('n03764736', 'milk_can', 0.035917323)], [('n03825788', 'nipple', 0.24029547), ('n03920288', 'Petri_dish', 0.11563176), ('n01990800', 'isopod', 0.06699628), ('n03314780', 'face_powder', 0.05396662), ('n01930112', 'nematode', 0.04484428)], [('n01443537', 'goldfish', 0.24216121), ('n02493509', 'titi', 0.12905255), ('n01630670', 'common_newt', 0.05390095), ('n02489166', 'proboscis_monkey', 0.047368187), ('n02494079', 'squirrel_monkey', 0.0460108)], [('n03314780', 'face_powder', 0.47054642), ('n04357314', 'sunscreen', 0.109399945), ('n03690938', 'lotion', 0.053097714), ('n03825788', 'nipple', 0.04484955), ('n07932039', 'eggnog', 0.040437434)], [('n03825788', 'nipple', 0.0860091), ('n02356798', 'fox_squirrel', 0.07880815), ('n02134084', 'ice_bear', 0.030766683), ('n02124075', 'Egyptian_cat', 0.028097445), ('n02123597', 'Siamese_cat', 0.025999079)], [('n03825788', 'nipple', 0.33021095), ('n03544143', 'hourglass', 0.049984723), ('n04086273', 'revolver', 0.03118357), ('n01930112', 'nematode', 0.02406298), ('n04579432', 'whistle', 0.023809781)], [('n01990800', 'isopod', 0.4355389), ('n03658185', 'letter_opener', 0.0497722), ('n03884397', 'panpipe', 0.04800118), ('n03476684', 'hair_slide', 0.04346789), ('n03825788', 'nipple', 0.033686344)], [('n03794056', 'mousetrap', 0.33589563), ('n03584829', 'iron', 0.100717776), ('n02951585', 'can_opener', 0.07304504), ('n04153751', 'screw', 0.04978759), ('n03041632', 'cleaver', 0.0405056)], [('n03476684', 'hair_slide', 0.22094825), ('n04579432', 'whistle', 0.22062084), ('n03720891', 'maraca', 0.21973264), ('n02783161', 'ballpoint', 0.07976151), ('n03658185', 'letter_opener', 0.07307248)], [('n03825788', 'nipple', 0.21476229), ('n03690938', 'lotion', 0.1660699), ('n03297495', 'espresso_maker', 0.13144341), ('n03476991', 'hair_spray', 0.0980723), ('n04357314', 'sunscreen', 0.064910226)], [('n04542943', 'waffle_iron', 0.19294167), ('n04344873', 'studio_couch', 0.15158513), ('n04152593', 'screen', 0.071604975), ('n03825788', 'nipple', 0.057315182), ('n02951585', 'can_opener', 0.042999327)], [('n02101556', 'clumber', 0.10462389), ('n02096437', 'Dandie_Dinmont', 0.09970075), ('n02356798', 'fox_squirrel', 0.095077984), ('n02091635', 'otterhound', 0.07241206), ('n02085782', 'Japanese_spaniel', 0.06937497)], [('n02087046', 'toy_terrier', 0.2720125), ('n02326432', 'hare', 0.24771795), ('n02422106', 'hartebeest', 0.07236466), ('n02356798', 'fox_squirrel', 0.047536764), ('n02100236', 'German_short-haired_pointer', 0.028696796)], [('n02074367', 'dugong', 0.3520954), ('n02606052', 'rock_beauty', 0.21992421), ('n03041632', 'cleaver', 0.029379237), ('n04127249', 'safety_pin', 0.025102673), ('n04355933', 'sunglass', 0.016647384)], [('n03903868', 'pedestal', 0.18947439), ('n03825788', 'nipple', 0.10233657), ('n02123394', 'Persian_cat', 0.10125202), ('n02095889', 'Sealyham_terrier', 0.08405782), ('n03690938', 'lotion', 0.07378397)], [('n02089973', 'English_foxhound', 0.10396984), ('n02423022', 'gazelle', 0.08799184), ('n03825788', 'nipple', 0.06683363), ('n03544143', 'hourglass', 0.043613553), ('n03920288', 'Petri_dish', 0.033324346)], [('n04125021', 'safe', 0.17756301), ('n03942813', 'ping-pong_ball', 0.13593782), ('n03207941', 'dishwasher', 0.09838315), ('n03690938', 'lotion', 0.08650281), ('n03961711', 'plate_rack', 0.0593682)], [('n02422106', 'hartebeest', 0.05140964), ('n01795545', 'black_grouse', 0.04105506), ('n02091635', 'otterhound', 0.03901093), ('n02423022', 'gazelle', 0.02829451), ('n02095889', 'Sealyham_terrier', 0.02467051)], [('n02085782', 'Japanese_spaniel', 0.64825284), ('n02097474', 'Tibetan_terrier', 0.104712635), ('n02086079', 'Pekinese', 0.074076615), ('n02112350', 'keeshond', 0.05674459), ('n02091635', 'otterhound', 0.026599992)], [('n03498962', 'hatchet', 0.2911052), ('n03804744', 'nail', 0.27998334), ('n03970156', 'plunger', 0.10866537), ('n04208210', 'shovel', 0.023704499), ('n03729826', 'matchstick', 0.02299347)], [('n02422106', 'hartebeest', 0.22232142), ('n02100236', 'German_short-haired_pointer', 0.06631287), ('n02099429', 'curly-coated_retriever', 0.050890755), ('n02093647', 'Bedlington_terrier', 0.046050366), ('n02095889', 'Sealyham_terrier', 0.03682782)], [('n02113978', 'Mexican_hairless', 0.34878492), ('n02087046', 'toy_terrier', 0.2851868), ('n02110806', 'basenji', 0.06686587), ('n03803284', 'muzzle', 0.06539596), ('n03825788', 'nipple', 0.014357957)], [('n02704792', 'amphibian', 0.5366519), ('n02074367', 'dugong', 0.059218995), ('n03982430', 'pool_table', 0.04005636), ('n02096437', 'Dandie_Dinmont', 0.027259788), ('n03095699', 'container_ship', 0.019516597)], [('n03825788', 'nipple', 0.6369671), ('n03764736', 'milk_can', 0.052676484), ('n04357314', 'sunscreen', 0.042884164), ('n03690938', 'lotion', 0.038934324), ('n07932039', 'eggnog', 0.03586333)], [('n04579432', 'whistle', 0.144365), ('n03692522', 'loupe', 0.1138589), ('n03814639', 'neck_brace', 0.04761438), ('n03825788', 'nipple', 0.04410545), ('n04542943', 'waffle_iron', 0.041846823)], [('n01795545', 'black_grouse', 0.12819263), ('n04153751', 'screw', 0.06485041), ('n02799071', 'baseball', 0.06007076), ('n02130308', 'cheetah', 0.037267793), ('n09835506', 'ballplayer', 0.032062557)], [('n02087046', 'toy_terrier', 0.28015932), ('n02113978', 'Mexican_hairless', 0.12983717), ('n02089973', 'English_foxhound', 0.09394504), ('n02109047', 'Great_Dane', 0.038581047), ('n02112706', 'Brabancon_griffon', 0.03288711)], [('n02749479', 'assault_rifle', 0.11878414), ('n01990800', 'isopod', 0.1107002), ('n04428191', 'thresher', 0.056252655), ('n03995372', 'power_drill', 0.053250488), ('n04067472', 'reel', 0.04642657)]]\n"
          ]
        }
      ]
    },
    {
      "cell_type": "code",
      "source": [
        "# chaking if max is selecting the maximum value\n",
        "len(np. max(grad, axis=1))"
      ],
      "metadata": {
        "colab": {
          "base_uri": "https://localhost:8080/"
        },
        "id": "3IOnBNP-_OwB",
        "outputId": "0496f732-ca12-4e1f-ff83-0cec09f7aa54"
      },
      "execution_count": null,
      "outputs": [
        {
          "output_type": "execute_result",
          "data": {
            "text/plain": [
              "50"
            ]
          },
          "metadata": {},
          "execution_count": 9
        }
      ]
    },
    {
      "cell_type": "code",
      "source": [
        "# normalize the flatten gradients\n",
        "grad= abs(grad)\n",
        "print(grad.shape)\n",
        "partial_derivative = grad/np.max(grad, axis=0)\n",
        "print(partial_derivative)"
      ],
      "metadata": {
        "colab": {
          "base_uri": "https://localhost:8080/"
        },
        "id": "bmWtFBqlEdex",
        "outputId": "d13eb8cc-67e3-4491-8c3b-ea351e7e399e"
      },
      "execution_count": null,
      "outputs": [
        {
          "output_type": "stream",
          "name": "stdout",
          "text": [
            "(50, 25088)\n",
            "tf.Tensor(\n",
            "[[0.02063838 0.4650956  1.         ... 0.28626224 1.         1.        ]\n",
            " [0.46119332 0.6320537  0.18072389 ... 1.         0.12784609 0.0835707 ]\n",
            " [0.         0.         0.         ... 0.         0.         0.        ]\n",
            " ...\n",
            " [0.1910755  0.17085321 0.09881671 ... 0.19842009 0.12930484 0.0508236 ]\n",
            " [0.         0.         0.         ... 0.         0.         0.        ]\n",
            " [0.         0.         0.         ... 0.         0.         0.        ]], shape=(50, 25088), dtype=float32)\n"
          ]
        }
      ]
    },
    {
      "cell_type": "code",
      "source": [
        "# neuron influence\n",
        "influence = flatten_layer_output * partial_derivative"
      ],
      "metadata": {
        "id": "K8sJmuWVF8W1"
      },
      "execution_count": null,
      "outputs": []
    },
    {
      "cell_type": "code",
      "source": [
        "influence"
      ],
      "metadata": {
        "colab": {
          "base_uri": "https://localhost:8080/"
        },
        "id": "T6DNDwVLGREL",
        "outputId": "1fd5ff33-17b3-4f8b-9978-c56a07c00980"
      },
      "execution_count": null,
      "outputs": [
        {
          "output_type": "execute_result",
          "data": {
            "text/plain": [
              "<tf.Tensor: shape=(50, 25088), dtype=float32, numpy=\n",
              "array([[0.       , 0.6195335, 0.       , ..., 0.       , 0.       ,\n",
              "        0.       ],\n",
              "       [0.       , 0.       , 0.       , ..., 0.       , 1.0019522,\n",
              "        0.       ],\n",
              "       [0.       , 0.       , 0.       , ..., 0.       , 0.       ,\n",
              "        0.       ],\n",
              "       ...,\n",
              "       [0.       , 0.       , 0.       , ..., 0.       , 0.       ,\n",
              "        0.       ],\n",
              "       [0.       , 0.       , 0.       , ..., 0.       , 0.       ,\n",
              "        0.       ],\n",
              "       [0.       , 0.       , 0.       , ..., 0.       , 0.       ,\n",
              "        0.       ]], dtype=float32)>"
            ]
          },
          "metadata": {},
          "execution_count": 12
        }
      ]
    },
    {
      "cell_type": "code",
      "source": [
        "temp = influence[:,:512]\n",
        "print(temp)"
      ],
      "metadata": {
        "colab": {
          "base_uri": "https://localhost:8080/"
        },
        "id": "fts14HaZGKD6",
        "outputId": "9ffced07-d8f4-450f-e171-794234d7a7e2"
      },
      "execution_count": null,
      "outputs": [
        {
          "output_type": "stream",
          "name": "stdout",
          "text": [
            "tf.Tensor(\n",
            "[[0.        0.6195335 0.        ... 0.        0.        0.       ]\n",
            " [0.        0.        0.        ... 0.        3.8890371 0.       ]\n",
            " [0.        0.        0.        ... 0.        0.        0.       ]\n",
            " ...\n",
            " [0.        0.        0.        ... 0.        0.        0.       ]\n",
            " [0.        0.        0.        ... 0.        0.        0.       ]\n",
            " [0.        0.        0.        ... 0.        0.        0.       ]], shape=(50, 512), dtype=float32)\n"
          ]
        }
      ]
    },
    {
      "cell_type": "code",
      "source": [
        "import matplotlib.pyplot as plt\n",
        "import pandas as pd\n",
        "\n",
        "X = list(int(i) for i in range(0, 512))\n",
        "# Initialize the lists for X and Y\n",
        "    #plt.bar(X, Y, color='g')\n",
        "plt.xlabel(\"Neurons\")\n",
        "plt.ylabel(\"Influence\")\n",
        "# plt.xlim(-0.5, 100)\n",
        "# plt.ylim(-0.5, 100)\n",
        "for i in range(50):\n",
        "  plt.plot(X, influence[i][0:512], color = 'g')\n",
        "    # plt.plot(X, Y, color = 'g')\n",
        "plt.xticks(rotation = 0)\n",
        "plt.grid()\n",
        "    # plt.savefig('dataset_and_generated_graph/same_resolution/plot'+str(i)+'.png', dpi=500, bbox_inches='tight')\n",
        "plt.show()"
      ],
      "metadata": {
        "colab": {
          "base_uri": "https://localhost:8080/",
          "height": 283
        },
        "id": "bnFXqRwcTeGc",
        "outputId": "9ed51880-528b-4790-c339-3966798b4a69"
      },
      "execution_count": null,
      "outputs": [
        {
          "output_type": "display_data",
          "data": {
            "text/plain": [
              "<Figure size 432x288 with 1 Axes>"
            ],
            "image/png": "[encoded data removed]"
          },
          "metadata": {
            "needs_background": "light"
          }
        }
      ]
    },
    {
      "cell_type": "markdown",
      "source": [
        "Generate perturbed images"
      ],
      "metadata": {
        "id": "D36q8wGYUkYN"
      }
    }
  ]
}