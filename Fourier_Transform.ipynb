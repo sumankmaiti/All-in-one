{
  "nbformat": 4,
  "nbformat_minor": 0,
  "metadata": {
    "colab": {
      "name": "Fourier_Transform.ipynb",
      "provenance": [],
      "authorship_tag": "ABX9TyMNt9uu6iFn9esq8GvUBvFI",
      "include_colab_link": true
    },
    "kernelspec": {
      "name": "python3",
      "display_name": "Python 3"
    },
    "language_info": {
      "name": "python"
    }
  },
  "cells": [
    {
      "cell_type": "markdown",
      "metadata": {
        "id": "view-in-github",
        "colab_type": "text"
      },
      "source": [
        "<a href=\"https://colab.research.google.com/github/sumankmaiti/All-in-one/blob/main/Fourier_Transform.ipynb\" target=\"_parent\"><img src=\"https://colab.research.google.com/assets/colab-badge.svg\" alt=\"Open In Colab\"/></a>"
      ]
    },
    {
      "cell_type": "code",
      "metadata": {
        "id": "KFpVdFJa8Xsj"
      },
      "source": [
        "from tensorflow.keras.datasets import mnist\n",
        "from tensorflow.keras.layers import Dense, Input, Flatten,\\\n",
        "                                    Reshape, LeakyReLU as LR,\\\n",
        "                                    Activation, Dropout\n",
        "from tensorflow.keras.models import Model, Sequential\n",
        "from matplotlib import pyplot as plt\n",
        "from IPython import display # If using IPython, Colab or Jupyter\n",
        "import numpy as np"
      ],
      "execution_count": null,
      "outputs": []
    },
    {
      "cell_type": "code",
      "metadata": {
        "colab": {
          "base_uri": "https://localhost:8080/",
          "height": 315
        },
        "id": "daEqUorY8gi8",
        "outputId": "79d8141f-cd54-4285-a15d-ba15dac1c49c"
      },
      "source": [
        "(x_train, y_train), (x_test, y_test) = mnist.load_data()\n",
        "# x_train = x_train/255.0\n",
        "# x_test = x_test/255.0\n",
        "# Plot image data from x_train\n",
        "plt.imshow(x_train[0], cmap = \"gray\")\n",
        "plt.show()"
      ],
      "execution_count": null,
      "outputs": [
        {
          "output_type": "stream",
          "name": "stdout",
          "text": [
            "Downloading data from https://storage.googleapis.com/tensorflow/tf-keras-datasets/mnist.npz\n",
            "11493376/11490434 [==============================] - 0s 0us/step\n",
            "11501568/11490434 [==============================] - 0s 0us/step\n"
          ]
        },
        {
          "output_type": "display_data",
          "data": {
            "image/png": "[encoded data removed]",
            "text/plain": [
              "<Figure size 432x288 with 1 Axes>"
            ]
          },
          "metadata": {
            "needs_background": "light"
          }
        }
      ]
    },
    {
      "cell_type": "code",
      "metadata": {
        "id": "tAfY88Or8jGL"
      },
      "source": [
        "import numpy as np\n",
        "import matplotlib.pyplot as plt\n",
        "from skimage.io import imread, imshow\n",
        "from skimage.color import rgb2hsv, rgb2gray, rgb2yuv\n",
        "from skimage import color, exposure, transform\n",
        "from skimage.exposure import equalize_hist"
      ],
      "execution_count": null,
      "outputs": []
    },
    {
      "cell_type": "code",
      "metadata": {
        "colab": {
          "base_uri": "https://localhost:8080/",
          "height": 314
        },
        "id": "cWADv93c8rX2",
        "outputId": "8de0a6a1-1531-4a44-a783-60060eb5c90c"
      },
      "source": [
        "test_image = x_test[2].reshape(28, 28)\n",
        "imshow(test_image)"
      ],
      "execution_count": null,
      "outputs": [
        {
          "output_type": "execute_result",
          "data": {
            "text/plain": [
              "<matplotlib.image.AxesImage at 0x7fc043497d10>"
            ]
          },
          "metadata": {},
          "execution_count": 65
        },
        {
          "output_type": "display_data",
          "data": {
            "image/png": "[encoded data removed]",
            "text/plain": [
              "<Figure size 432x288 with 1 Axes>"
            ]
          },
          "metadata": {
            "needs_background": "light"
          }
        }
      ]
    },
    {
      "cell_type": "code",
      "metadata": {
        "colab": {
          "base_uri": "https://localhost:8080/"
        },
        "id": "7kkHwiRC88hM",
        "outputId": "c6569299-2b0a-4b01-895a-9046bd56d7c6"
      },
      "source": [
        "test_image"
      ],
      "execution_count": null,
      "outputs": [
        {
          "output_type": "execute_result",
          "data": {
            "text/plain": [
              "array([[  0,   0,   0,   0,   0,   0,   0,   0,   0,   0,   0,   0,   0,\n",
              "          0,   0,   0,   0,   0,   0,   0,   0,   0,   0,   0,   0,   0,\n",
              "          0,   0],\n",
              "       [  0,   0,   0,   0,   0,   0,   0,   0,   0,   0,   0,   0,   0,\n",
              "          0,   0,   0,   0,   0,   0,   0,   0,   0,   0,   0,   0,   0,\n",
              "          0,   0],\n",
              "       [  0,   0,   0,   0,   0,   0,   0,   0,   0,   0,   0,   0,   0,\n",
              "          0,   0,   0,   0,   0,   0,   0,   0,   0,   0,   0,   0,   0,\n",
              "          0,   0],\n",
              "       [  0,   0,   0,   0,   0,   0,   0,   0,   0,   0,   0,   0,   0,\n",
              "          0,   0,   0,   0,   0,   0,   0,   0,   0,   0,   0,   0,   0,\n",
              "          0,   0],\n",
              "       [  0,   0,   0,   0,   0,   0,   0,   0,   0,   0,   0,   0,   0,\n",
              "          0,   0,   0,  38, 254, 109,   0,   0,   0,   0,   0,   0,   0,\n",
              "          0,   0],\n",
              "       [  0,   0,   0,   0,   0,   0,   0,   0,   0,   0,   0,   0,   0,\n",
              "          0,   0,   0,  87, 252,  82,   0,   0,   0,   0,   0,   0,   0,\n",
              "          0,   0],\n",
              "       [  0,   0,   0,   0,   0,   0,   0,   0,   0,   0,   0,   0,   0,\n",
              "          0,   0,   0, 135, 241,   0,   0,   0,   0,   0,   0,   0,   0,\n",
              "          0,   0],\n",
              "       [  0,   0,   0,   0,   0,   0,   0,   0,   0,   0,   0,   0,   0,\n",
              "          0,   0,  45, 244, 150,   0,   0,   0,   0,   0,   0,   0,   0,\n",
              "          0,   0],\n",
              "       [  0,   0,   0,   0,   0,   0,   0,   0,   0,   0,   0,   0,   0,\n",
              "          0,   0,  84, 254,  63,   0,   0,   0,   0,   0,   0,   0,   0,\n",
              "          0,   0],\n",
              "       [  0,   0,   0,   0,   0,   0,   0,   0,   0,   0,   0,   0,   0,\n",
              "          0,   0, 202, 223,  11,   0,   0,   0,   0,   0,   0,   0,   0,\n",
              "          0,   0],\n",
              "       [  0,   0,   0,   0,   0,   0,   0,   0,   0,   0,   0,   0,   0,\n",
              "          0,  32, 254, 216,   0,   0,   0,   0,   0,   0,   0,   0,   0,\n",
              "          0,   0],\n",
              "       [  0,   0,   0,   0,   0,   0,   0,   0,   0,   0,   0,   0,   0,\n",
              "          0,  95, 254, 195,   0,   0,   0,   0,   0,   0,   0,   0,   0,\n",
              "          0,   0],\n",
              "       [  0,   0,   0,   0,   0,   0,   0,   0,   0,   0,   0,   0,   0,\n",
              "          0, 140, 254,  77,   0,   0,   0,   0,   0,   0,   0,   0,   0,\n",
              "          0,   0],\n",
              "       [  0,   0,   0,   0,   0,   0,   0,   0,   0,   0,   0,   0,   0,\n",
              "         57, 237, 205,   8,   0,   0,   0,   0,   0,   0,   0,   0,   0,\n",
              "          0,   0],\n",
              "       [  0,   0,   0,   0,   0,   0,   0,   0,   0,   0,   0,   0,   0,\n",
              "        124, 255, 165,   0,   0,   0,   0,   0,   0,   0,   0,   0,   0,\n",
              "          0,   0],\n",
              "       [  0,   0,   0,   0,   0,   0,   0,   0,   0,   0,   0,   0,   0,\n",
              "        171, 254,  81,   0,   0,   0,   0,   0,   0,   0,   0,   0,   0,\n",
              "          0,   0],\n",
              "       [  0,   0,   0,   0,   0,   0,   0,   0,   0,   0,   0,   0,  24,\n",
              "        232, 215,   0,   0,   0,   0,   0,   0,   0,   0,   0,   0,   0,\n",
              "          0,   0],\n",
              "       [  0,   0,   0,   0,   0,   0,   0,   0,   0,   0,   0,   0, 120,\n",
              "        254, 159,   0,   0,   0,   0,   0,   0,   0,   0,   0,   0,   0,\n",
              "          0,   0],\n",
              "       [  0,   0,   0,   0,   0,   0,   0,   0,   0,   0,   0,   0, 151,\n",
              "        254, 142,   0,   0,   0,   0,   0,   0,   0,   0,   0,   0,   0,\n",
              "          0,   0],\n",
              "       [  0,   0,   0,   0,   0,   0,   0,   0,   0,   0,   0,   0, 228,\n",
              "        254,  66,   0,   0,   0,   0,   0,   0,   0,   0,   0,   0,   0,\n",
              "          0,   0],\n",
              "       [  0,   0,   0,   0,   0,   0,   0,   0,   0,   0,   0,  61, 251,\n",
              "        254,  66,   0,   0,   0,   0,   0,   0,   0,   0,   0,   0,   0,\n",
              "          0,   0],\n",
              "       [  0,   0,   0,   0,   0,   0,   0,   0,   0,   0,   0, 141, 254,\n",
              "        205,   3,   0,   0,   0,   0,   0,   0,   0,   0,   0,   0,   0,\n",
              "          0,   0],\n",
              "       [  0,   0,   0,   0,   0,   0,   0,   0,   0,   0,  10, 215, 254,\n",
              "        121,   0,   0,   0,   0,   0,   0,   0,   0,   0,   0,   0,   0,\n",
              "          0,   0],\n",
              "       [  0,   0,   0,   0,   0,   0,   0,   0,   0,   0,   5, 198, 176,\n",
              "         10,   0,   0,   0,   0,   0,   0,   0,   0,   0,   0,   0,   0,\n",
              "          0,   0],\n",
              "       [  0,   0,   0,   0,   0,   0,   0,   0,   0,   0,   0,   0,   0,\n",
              "          0,   0,   0,   0,   0,   0,   0,   0,   0,   0,   0,   0,   0,\n",
              "          0,   0],\n",
              "       [  0,   0,   0,   0,   0,   0,   0,   0,   0,   0,   0,   0,   0,\n",
              "          0,   0,   0,   0,   0,   0,   0,   0,   0,   0,   0,   0,   0,\n",
              "          0,   0],\n",
              "       [  0,   0,   0,   0,   0,   0,   0,   0,   0,   0,   0,   0,   0,\n",
              "          0,   0,   0,   0,   0,   0,   0,   0,   0,   0,   0,   0,   0,\n",
              "          0,   0],\n",
              "       [  0,   0,   0,   0,   0,   0,   0,   0,   0,   0,   0,   0,   0,\n",
              "          0,   0,   0,   0,   0,   0,   0,   0,   0,   0,   0,   0,   0,\n",
              "          0,   0]], dtype=uint8)"
            ]
          },
          "metadata": {},
          "execution_count": 66
        }
      ]
    },
    {
      "cell_type": "code",
      "metadata": {
        "colab": {
          "base_uri": "https://localhost:8080/"
        },
        "id": "B6gCaRKH9Tm-",
        "outputId": "6b88b9dd-30c9-4571-aa52-c4c95c89e917"
      },
      "source": [
        "fft = np.fft.fft2(test_image)\n",
        "fft"
      ],
      "execution_count": null,
      "outputs": [
        {
          "output_type": "execute_result",
          "data": {
            "text/plain": [
              "array([[ 9.87100000e+03+0.00000000e+00j, -9.06951639e+03+2.80580295e+02j,\n",
              "         6.93639312e+03-3.63434022e+02j, -4.16413330e+03+1.71224083e+02j,\n",
              "         1.56610936e+03+2.09855238e+02j,  2.48102137e+02-5.89129763e+02j,\n",
              "        -1.06638670e+03+7.89862299e+02j,  1.06500000e+03-7.48000000e+02j,\n",
              "        -6.37422753e+02+5.31145199e+02j,  1.75461624e+02-2.75664734e+02j,\n",
              "         8.44935861e+01+9.41754222e+01j, -9.88654056e+01-1.85502538e+01j,\n",
              "        -4.01866055e+01+9.45019971e+00j,  1.95951339e+02-1.11119686e+01j,\n",
              "        -2.61000000e+02-1.77635684e-14j,  1.95951339e+02+1.11119686e+01j,\n",
              "        -4.01866055e+01-9.45019971e+00j, -9.88654056e+01+1.85502538e+01j,\n",
              "         8.44935861e+01-9.41754222e+01j,  1.75461624e+02+2.75664734e+02j,\n",
              "        -6.37422753e+02-5.31145199e+02j,  1.06500000e+03+7.48000000e+02j,\n",
              "        -1.06638670e+03-7.89862299e+02j,  2.48102137e+02+5.89129763e+02j,\n",
              "         1.56610936e+03-2.09855238e+02j, -4.16413330e+03-1.71224083e+02j,\n",
              "         6.93639312e+03+3.63434022e+02j, -9.06951639e+03-2.80580295e+02j],\n",
              "       [-3.71454801e+03+3.94256793e+02j,  6.36178403e+03-4.07925478e+02j,\n",
              "        -8.23335891e+03+6.46189525e+02j,  8.75148055e+03-9.78063247e+02j,\n",
              "        -7.80501459e+03+1.19827921e+03j,  5.77942750e+03-1.15316232e+03j,\n",
              "        -3.36680324e+03+8.30595867e+02j,  1.26309435e+03-3.59081255e+02j,\n",
              "         9.25658049e+01-7.63237253e+01j, -6.22722238e+02+3.39937663e+02j,\n",
              "         5.43374198e+02-4.04268529e+02j, -1.94414991e+02+3.32763613e+02j,\n",
              "        -1.27614087e+02-2.13185172e+02j,  2.62351626e+02+9.82039271e+01j,\n",
              "        -1.92612214e+02+5.56222066e+00j, -1.04235316e+00-1.03782847e+02j,\n",
              "         1.98466078e+02+1.76823051e+02j, -2.91955888e+02-1.79250003e+02j,\n",
              "         2.31656107e+02+8.15101193e+01j, -6.05521142e+01+8.24701006e+01j,\n",
              "        -8.19523337e+01-2.09625939e+02j,  1.37262260e+01+1.82127553e+02j,\n",
              "         3.79510875e+02+4.94742158e+01j, -1.02435852e+03-4.15367867e+02j,\n",
              "         1.61059635e+03+7.53042726e+02j, -1.67511047e+03-9.03198278e+02j,\n",
              "         8.10732399e+02+8.14203521e+02j,  1.09329387e+03-5.82205437e+02j],\n",
              "       [-2.00957861e+03-5.39280678e+02j,  1.33600837e+03+5.24753965e+02j,\n",
              "         2.77388477e+02-4.28757851e+02j, -2.45521090e+03+4.20462395e+02j,\n",
              "         4.53751554e+03-6.02216910e+02j, -5.85776327e+03+9.37948211e+02j,\n",
              "         6.02937843e+03-1.27482598e+03j, -5.09539438e+03+1.44006138e+03j,\n",
              "         3.47412682e+03-1.34537569e+03j, -1.74563795e+03+1.03116048e+03j,\n",
              "         4.01075879e+02-6.28389658e+02j,  3.21898202e+02+2.73640221e+02j,\n",
              "        -4.60401805e+02-3.97223186e+01j,  2.31311474e+02-7.56372147e+01j,\n",
              "         1.03397339e+02+1.09162820e+02j, -3.40407995e+02-8.37967184e+01j,\n",
              "         3.80278545e+02-3.52541717e+00j, -2.27073068e+02+1.51147741e+02j,\n",
              "        -3.34276144e+01-3.13227458e+02j,  2.67557830e+02+3.96814307e+02j,\n",
              "        -3.45232398e+02-3.11616032e+02j,  2.07637451e+02+4.18902606e+01j,\n",
              "         7.62203586e+01+3.16252088e+02j, -3.09605302e+02-5.90871856e+02j,\n",
              "         2.53605888e+02+6.30520717e+02j,  2.25203019e+02-4.00047122e+02j,\n",
              "        -1.02371889e+03+8.56971999e+00j,  1.78084857e+03+3.54906591e+02j],\n",
              "       [-2.89313023e+02-7.02531758e+02j, -5.50688840e+02+3.74975028e+02j,\n",
              "         1.38431617e+03-9.56291616e+01j, -1.75964169e+03-2.16589287e+01j,\n",
              "         1.37850577e+03-3.46862022e+00j, -2.68287948e+02+4.71505754e+01j,\n",
              "        -1.20883601e+03+2.21651135e+01j,  2.51923013e+03-2.49382468e+02j,\n",
              "        -3.20541004e+03+5.64169306e+02j,  3.08486319e+03-8.32064558e+02j,\n",
              "        -2.30164280e+03+9.43260772e+02j,  1.22088208e+03-8.74921279e+02j,\n",
              "        -2.41227883e+02+6.88241918e+02j, -3.68980103e+02-4.72468058e+02j,\n",
              "         5.39935689e+02+2.85156040e+02j, -3.68292279e+02-1.34176631e+02j,\n",
              "         3.26122931e+01+7.89440058e+00j,  2.87204989e+02+8.16210027e+01j,\n",
              "        -4.58589826e+02-8.78003841e+01j,  4.18862658e+02-3.25803457e+01j,\n",
              "        -1.87739144e+02+2.61685766e+02j, -1.29956263e+02-4.95366645e+02j,\n",
              "         3.69901519e+02+5.83587213e+02j, -3.76331632e+02-4.20165352e+02j,\n",
              "         9.47470497e+01+2.27551433e+01j,  3.63669944e+02+4.57406499e+02j,\n",
              "        -7.42909715e+02-8.11993437e+02j,  7.63115707e+02+8.94138849e+02j],\n",
              "       [ 5.84620577e+02+3.44929140e+02j, -1.07625014e+03-6.57816252e+02j,\n",
              "         1.18360473e+03+7.17838850e+02j, -7.95689318e+02-5.65272040e+02j,\n",
              "         5.49581270e+01+3.45763924e+02j,  6.99090183e+02-2.07931339e+02j,\n",
              "        -1.10228059e+03+2.10835090e+02j,  9.58030152e+02-3.01083688e+02j,\n",
              "        -3.39008226e+02+3.67379088e+02j, -4.58203821e+02-3.26595134e+02j,\n",
              "         1.07404661e+03+1.78163491e+02j, -1.26603527e+03+7.33548707e+00j,\n",
              "         1.00876150e+03-1.48252313e+02j, -4.71412276e+02+2.09468038e+02j,\n",
              "        -9.46336640e+01-2.13902399e+02j,  4.81392760e+02+2.05068495e+02j,\n",
              "        -5.96173063e+02-1.98202244e+02j,  4.61037817e+02+1.65325512e+02j,\n",
              "        -1.68178696e+02-6.91187733e+01j, -1.66386021e+02-8.33169862e+01j,\n",
              "         4.29429076e+02+2.16781533e+02j, -5.26674444e+02-2.24043592e+02j,\n",
              "         4.08057495e+02+4.37219944e+01j, -1.03096986e+02+2.76103781e+02j,\n",
              "        -2.60673174e+02-5.81940825e+02j,  4.90497863e+02+6.95134464e+02j,\n",
              "        -4.18701061e+02-5.21079950e+02j,  9.86986672e+00+1.14706647e+02j],\n",
              "       [ 6.10600189e+02+6.60159015e+02j, -5.06191939e+02-5.32984714e+02j,\n",
              "         6.76958888e+01+2.26941156e+02j,  5.34226723e+02+8.77116434e+01j,\n",
              "        -1.02360877e+03-2.59826235e+02j,  1.16395478e+03+2.44186225e+02j,\n",
              "        -8.89795593e+02-1.13433545e+02j,  3.44065639e+02-5.57259219e+00j,\n",
              "         2.03165909e+02+2.08275979e+01j, -5.05449181e+02+7.27905932e+01j,\n",
              "         4.69024158e+02-2.08566302e+02j, -1.85992206e+02+3.09246716e+02j,\n",
              "        -1.39553093e+02-3.42899052e+02j,  3.17740300e+02+3.32140329e+02j,\n",
              "        -2.71244007e+02-3.16648187e+02j,  5.34349154e+01+3.06889139e+02j,\n",
              "         2.08457819e+02-2.72028306e+02j, -3.94835583e+02+1.73902204e+02j,\n",
              "         4.45558471e+02-1.75081835e+01j, -3.61429691e+02-1.29107091e+02j,\n",
              "         1.75483374e+02+1.70833033e+02j,  6.98436682e+01-5.72010446e+01j,\n",
              "        -3.21555737e+02-1.63758291e+02j,  5.05201049e+02+3.56521722e+02j,\n",
              "        -5.34433115e+02-3.76371102e+02j,  3.54825645e+02+1.66471456e+02j,\n",
              "         4.29129129e-01+1.93668305e+02j, -3.89618739e+02-5.26384489e+02j],\n",
              "       [ 2.80556321e+02+2.71767869e+02j,  6.63975660e+01+4.13870243e+01j,\n",
              "        -4.34429461e+02-3.20902921e+02j,  6.38808884e+02+4.35644950e+02j,\n",
              "        -5.54077727e+02-3.65555274e+02j,  1.96394033e+02+2.00412008e+02j,\n",
              "         2.73827734e+02-6.90610505e+01j, -6.36374120e+02+5.22135939e+01j,\n",
              "         7.32832241e+02-1.38471507e+02j, -5.50129021e+02+2.47814049e+02j,\n",
              "         2.15636370e+02-2.97273583e+02j,  8.86195538e+01+2.56588184e+02j,\n",
              "        -2.34023834e+02-1.55307957e+02j,  2.07210142e+02+4.40223137e+01j,\n",
              "        -9.31840589e+01+5.21077439e+01j,  1.79251859e+00-1.46759114e+02j,\n",
              "         6.09897102e+00+2.63006607e+02j,  5.56662206e+01-3.89768105e+02j,\n",
              "        -1.28655235e+02+4.67153182e+02j,  1.62703341e+02-4.21313468e+02j,\n",
              "        -1.47368111e+02+2.27301682e+02j,  1.02019661e+02+4.96543517e+01j,\n",
              "        -4.19947862e+01-2.74054814e+02j, -4.22786572e+01+3.17559394e+02j,\n",
              "         1.70167610e+02-1.45147042e+02j, -3.31744071e+02-1.51116020e+02j,\n",
              "         4.62984906e+02+3.99625820e+02j, -4.67456989e+02-4.51527919e+02j],\n",
              "       [-1.93000000e+02-7.40000000e+01j,  3.22322157e+02+3.30561164e+02j,\n",
              "        -3.57888223e+02-4.08941545e+02j,  2.30293194e+02+3.01912076e+02j,\n",
              "         3.43189467e+01-1.04394585e+02j, -3.17506862e+02-5.94747311e+01j,\n",
              "         4.75409459e+02+1.17767646e+02j, -4.27000000e+02-8.60000000e+01j,\n",
              "         2.04973467e+02+3.83550041e+01j,  6.49425360e+01-4.33909683e+01j,\n",
              "        -2.41948765e+02+1.14685031e+02j,  2.52935848e+02-2.10211537e+02j,\n",
              "        -1.26448684e+02+2.74045037e+02j, -4.00018394e+01-2.82093871e+02j,\n",
              "         1.51000000e+02+2.54000000e+02j, -1.70884274e+02-2.24130853e+02j,\n",
              "         1.30823236e+02+2.00048727e+02j, -8.79977781e+01-1.48019612e+02j,\n",
              "         7.40665573e+01+2.26281369e+01j, -7.40264953e+01+1.80889703e+02j,\n",
              "         4.88640668e+01-3.96231368e+02j,  2.10000000e+01+5.10000000e+02j,\n",
              "        -1.10710978e+02-4.32111338e+02j,  1.67385680e+02+1.66027389e+02j,\n",
              "        -1.55531033e+02+1.74177185e+02j,  9.32417867e+01-4.19581982e+02j,\n",
              "        -4.59280501e+01+4.43972068e+02j,  7.72960476e+01-2.40486777e+02j],\n",
              "       [ 2.40496443e+01-4.11976823e+02j,  1.07242095e+02+4.36638144e+02j,\n",
              "        -1.17826997e+02-2.70269512e+02j,  7.58305645e+00+2.26057876e+01j,\n",
              "         1.45236561e+02+1.76943694e+02j, -2.35758744e+02-2.55507462e+02j,\n",
              "         2.02221126e+02+2.25872073e+02j, -6.55455493e+01-1.56240227e+02j,\n",
              "        -8.79320918e+01+1.10181250e+02j,  1.67059315e+02-1.03380620e+02j,\n",
              "        -1.36403027e+02+1.05630211e+02j,  3.50506065e+01-7.91494478e+01j,\n",
              "         5.67262759e+01+1.72090581e+01j, -7.59866887e+01+4.97382341e+01j,\n",
              "         1.76735891e+01-8.37933428e+01j,  7.00180510e+01+7.74847756e+01j,\n",
              "        -1.27750504e+02-6.46097769e+01j,  1.29727185e+02+9.13081119e+01j,\n",
              "        -9.66527318e+01-1.69093586e+02j,  6.95186933e+01+2.49992693e+02j,\n",
              "        -6.83300263e+01-2.50145239e+02j,  7.14589062e+01+1.11133203e+02j,\n",
              "        -3.40181368e+01+1.44084725e+02j, -6.87834310e+01-4.05451848e+02j,\n",
              "         2.09211212e+02+5.32383048e+02j, -3.14953139e+02-4.39914823e+02j,\n",
              "         3.16217249e+02+1.57554645e+02j, -1.99052498e+02+1.80773054e+02j],\n",
              "       [-3.38268723e+02-4.28823861e+02j,  2.69060964e+02+1.99921246e+02j,\n",
              "        -8.38810326e+01+7.42820453e+01j, -1.33795627e+02-2.66829636e+02j,\n",
              "         2.79962575e+02+3.13072484e+02j, -2.91908984e+02-2.33496474e+02j,\n",
              "         1.82779409e+02+1.02362916e+02j, -2.68786552e+01+8.97473917e+00j,\n",
              "        -9.20334860e+01-7.22183488e+01j,  1.32536510e+02+1.01809733e+02j,\n",
              "        -1.12726766e+02-1.23347032e+02j,  8.46687982e+01+1.42309627e+02j,\n",
              "        -8.88587215e+01-1.40117165e+02j,  1.23966613e+02+9.84787204e+01j,\n",
              "        -1.53015650e+02-2.74597813e+01j,  1.38115997e+02-3.12666626e+01j,\n",
              "        -7.43573099e+01+3.35324446e+01j, -4.46494307e+00+2.72746531e+01j,\n",
              "         5.22968279e+01-1.03608114e+02j, -4.74978484e+01+1.19972788e+02j,\n",
              "         9.57231788e+00-2.83634257e+01j,  1.82532873e+01-1.46442067e+02j,\n",
              "        -7.17450081e+00+3.08627717e+02j, -2.93293435e+01-3.45773275e+02j,\n",
              "         4.21811140e+01+2.03170177e+02j,  1.43587860e+01+7.22018826e+01j,\n",
              "        -1.40080521e+02-3.50605446e+02j,  2.76518912e+02+4.92360115e+02j],\n",
              "       [-2.34777093e+01-5.30407961e+01j, -8.07644907e+01-2.10450981e+02j,\n",
              "         1.78276809e+02+3.66684630e+02j, -1.96674215e+02-3.64450748e+02j,\n",
              "         1.03069564e+02+2.35005381e+02j,  7.20353693e+01-6.03455831e+01j,\n",
              "        -2.51557292e+02-8.05187148e+01j,  3.57848135e+02+1.50292440e+02j,\n",
              "        -3.56704859e+02-1.56344649e+02j,  2.70768617e+02+1.25461834e+02j,\n",
              "        -1.56216211e+02-7.66014107e+01j,  6.22737378e+01+1.38799384e+01j,\n",
              "        -3.29442521e+00+5.91489808e+01j, -3.87092301e+01-1.22794015e+02j,\n",
              "         8.72867198e+01+1.43041993e+02j, -1.44543863e+02-9.55109801e+01j,\n",
              "         1.86310126e+02-6.91303774e+00j, -1.82835688e+02+1.08966682e+02j,\n",
              "         1.27213677e+02-1.42018552e+02j, -4.71108441e+01+7.17920449e+01j,\n",
              "        -1.14917068e+01+6.90125527e+01j,  1.72632502e+01-1.90977196e+02j,\n",
              "         2.23535827e+01+2.00497514e+02j, -6.58041414e+01-6.27861764e+01j,\n",
              "         6.90895666e+01-1.67329068e+02j, -2.12583832e+01+3.70599896e+02j,\n",
              "        -4.38567290e+01-4.31546097e+02j,  7.05106346e+01+3.07244118e+02j],\n",
              "       [ 2.08170733e+01+3.17860114e+02j, -9.93838870e+01-4.01661656e+02j,\n",
              "         1.42458591e+02+3.28680205e+02j, -1.23955560e+02-1.42407852e+02j,\n",
              "         6.08170422e+01-6.84362363e+01j, -1.89959298e+00+2.20888222e+02j,\n",
              "        -5.26566905e+00-2.75440363e+02j, -5.37188527e+01+2.41736010e+02j,\n",
              "         1.51726958e+02-1.57295966e+02j, -2.39855697e+02+6.04156077e+01j,\n",
              "         2.79974139e+02+2.35118871e+01j, -2.66555359e+02-7.87735448e+01j,\n",
              "         2.23519191e+02+9.11508712e+01j, -1.81014309e+02-4.90522571e+01j,\n",
              "         1.51569996e+02-4.35583434e+01j, -1.24141238e+02+1.54894957e+02j,\n",
              "         7.94735922e+01-2.30381755e+02j, -1.29338899e+01+2.19888324e+02j,\n",
              "        -5.50211325e+01-1.12766694e+02j,  9.06171033e+01-4.48412367e+01j,\n",
              "        -7.25591762e+01+1.68153440e+02j,  1.15869301e+01-1.81733360e+02j,\n",
              "         5.28122424e+01+6.88790804e+01j, -7.81201783e+01+1.10961472e+02j,\n",
              "         4.89659899e+01-2.51747288e+02j,  1.07397762e+01+2.61951940e+02j,\n",
              "        -5.37674968e+01-1.20002592e+02j,  4.31134146e+01-1.10872986e+02j],\n",
              "       [ 6.82977898e+00+3.36429392e+02j, -5.68675567e+01-2.40419696e+02j,\n",
              "         5.12322635e+01+5.87650175e+01j,  8.83797070e+00+1.24038363e+02j,\n",
              "        -9.11553520e+01-2.31661640e+02j,  1.54804908e+02+2.30976554e+02j,\n",
              "        -1.75951993e+02-1.39150077e+02j,  1.59484239e+02+4.90658063e+00j,\n",
              "        -1.29972712e+02+1.19555604e+02j,  1.10678496e+02-1.98552587e+02j,\n",
              "        -1.07230497e+02+2.17938703e+02j,  1.07662573e+02-1.80511291e+02j,\n",
              "        -9.70260352e+01+1.01414499e+02j,  7.33999310e+01-7.58097655e+00j,\n",
              "        -5.15399251e+01-6.35467505e+01j,  5.08531529e+01+7.36682751e+01j,\n",
              "        -7.74968000e+01-2.64302774e+00j,  1.15743525e+02-1.33148117e+02j,\n",
              "        -1.36936658e+02+2.78434191e+02j,  1.20472353e+02-3.61071100e+02j,\n",
              "        -7.10634986e+01+3.30626375e+02j,  1.82466965e+01-1.91506944e+02j,\n",
              "         3.10408869e+00+7.87047037e+00j,  2.20121914e+01+1.27010146e+02j,\n",
              "        -7.62412697e+01-1.41716909e+02j,  1.20119888e+02+2.82274732e+01j,\n",
              "        -1.18803167e+02+1.51692740e+02j,  6.68034085e+01-3.00045267e+02j],\n",
              "       [ 9.57124939e+01+6.37364084e+01j, -7.89199799e+01+9.31728232e+01j,\n",
              "         1.38000461e+01-2.51201454e+02j,  7.20613785e+01+3.38453722e+02j,\n",
              "        -1.36466062e+02-3.21461626e+02j,  1.47224566e+02+2.15992056e+02j,\n",
              "        -9.93950378e+01-7.29304884e+01j,  1.50879986e+01-4.94208972e+01j,\n",
              "         7.18814730e+01+1.10555501e+02j, -1.34609334e+02-9.96334017e+01j,\n",
              "         1.62765111e+02+3.29824759e+01j, -1.59397975e+02+5.66376573e+01j,\n",
              "         1.31016647e+02-1.32134633e+02j, -8.10782675e+01+1.62497046e+02j,\n",
              "         1.23661857e+01-1.31856556e+02j,  6.52668803e+01+4.70057502e+01j,\n",
              "        -1.30989039e+02+6.01639764e+01j,  1.59566722e+02-1.40482171e+02j,\n",
              "        -1.36146541e+02+1.47032150e+02j,  6.88269880e+01-5.97831177e+01j,\n",
              "         1.17805065e+01-9.79907600e+01j, -6.83344605e+01+2.63869100e+02j,\n",
              "         7.88035605e+01-3.63220074e+02j, -4.99569034e+01+3.47035590e+02j,\n",
              "         1.23189913e+01-2.20033727e+02j,  8.95743047e-01+4.17494073e+01j,\n",
              "         2.30616857e+01+1.02029085e+02j, -6.71433774e+01-1.42763844e+02j],\n",
              "       [ 1.90000000e+01-2.84217094e-14j, -2.33076970e+00+1.59111740e+02j,\n",
              "        -3.34412011e+01-2.44156581e+02j,  5.53224705e+01+2.16514222e+02j,\n",
              "        -3.41761656e+01-9.01357632e+01j, -3.48418995e+01-7.77030554e+01j,\n",
              "         1.27346391e+02+2.15749719e+02j, -2.03000000e+02-2.72000000e+02j,\n",
              "         2.27818551e+02+2.34282950e+02j, -1.91259007e+02-1.30189668e+02j,\n",
              "         1.08594810e+02+9.71455752e+00j, -9.57981082e+00+7.84821323e+01j,\n",
              "        -7.71423852e+01-1.05876312e+02j,  1.33689017e+02+7.17773383e+01j,\n",
              "        -1.53000000e+02+0.00000000e+00j,  1.33689017e+02-7.17773383e+01j,\n",
              "        -7.71423852e+01+1.05876312e+02j, -9.57981082e+00-7.84821323e+01j,\n",
              "         1.08594810e+02-9.71455752e+00j, -1.91259007e+02+1.30189668e+02j,\n",
              "         2.27818551e+02-2.34282950e+02j, -2.03000000e+02+2.72000000e+02j,\n",
              "         1.27346391e+02-2.15749719e+02j, -3.48418995e+01+7.77030554e+01j,\n",
              "        -3.41761656e+01+9.01357632e+01j,  5.53224705e+01-2.16514222e+02j,\n",
              "        -3.34412011e+01+2.44156581e+02j, -2.33076970e+00-1.59111740e+02j],\n",
              "       [ 9.57124939e+01-6.37364084e+01j, -6.71433774e+01+1.42763844e+02j,\n",
              "         2.30616857e+01-1.02029085e+02j,  8.95743047e-01-4.17494073e+01j,\n",
              "         1.23189913e+01+2.20033727e+02j, -4.99569034e+01-3.47035590e+02j,\n",
              "         7.88035605e+01+3.63220074e+02j, -6.83344605e+01-2.63869100e+02j,\n",
              "         1.17805065e+01+9.79907600e+01j,  6.88269880e+01+5.97831177e+01j,\n",
              "        -1.36146541e+02-1.47032150e+02j,  1.59566722e+02+1.40482171e+02j,\n",
              "        -1.30989039e+02-6.01639764e+01j,  6.52668803e+01-4.70057502e+01j,\n",
              "         1.23661857e+01+1.31856556e+02j, -8.10782675e+01-1.62497046e+02j,\n",
              "         1.31016647e+02+1.32134633e+02j, -1.59397975e+02-5.66376573e+01j,\n",
              "         1.62765111e+02-3.29824759e+01j, -1.34609334e+02+9.96334017e+01j,\n",
              "         7.18814730e+01-1.10555501e+02j,  1.50879986e+01+4.94208972e+01j,\n",
              "        -9.93950378e+01+7.29304884e+01j,  1.47224566e+02-2.15992056e+02j,\n",
              "        -1.36466062e+02+3.21461626e+02j,  7.20613785e+01-3.38453722e+02j,\n",
              "         1.38000461e+01+2.51201454e+02j, -7.89199799e+01-9.31728232e+01j],\n",
              "       [ 6.82977898e+00-3.36429392e+02j,  6.68034085e+01+3.00045267e+02j,\n",
              "        -1.18803167e+02-1.51692740e+02j,  1.20119888e+02-2.82274732e+01j,\n",
              "        -7.62412697e+01+1.41716909e+02j,  2.20121914e+01-1.27010146e+02j,\n",
              "         3.10408869e+00-7.87047037e+00j,  1.82466965e+01+1.91506944e+02j,\n",
              "        -7.10634986e+01-3.30626375e+02j,  1.20472353e+02+3.61071100e+02j,\n",
              "        -1.36936658e+02-2.78434191e+02j,  1.15743525e+02+1.33148117e+02j,\n",
              "        -7.74968000e+01+2.64302774e+00j,  5.08531529e+01-7.36682751e+01j,\n",
              "        -5.15399251e+01+6.35467505e+01j,  7.33999310e+01+7.58097655e+00j,\n",
              "        -9.70260352e+01-1.01414499e+02j,  1.07662573e+02+1.80511291e+02j,\n",
              "        -1.07230497e+02-2.17938703e+02j,  1.10678496e+02+1.98552587e+02j,\n",
              "        -1.29972712e+02-1.19555604e+02j,  1.59484239e+02-4.90658063e+00j,\n",
              "        -1.75951993e+02+1.39150077e+02j,  1.54804908e+02-2.30976554e+02j,\n",
              "        -9.11553520e+01+2.31661640e+02j,  8.83797070e+00-1.24038363e+02j,\n",
              "         5.12322635e+01-5.87650175e+01j, -5.68675567e+01+2.40419696e+02j],\n",
              "       [ 2.08170733e+01-3.17860114e+02j,  4.31134146e+01+1.10872986e+02j,\n",
              "        -5.37674968e+01+1.20002592e+02j,  1.07397762e+01-2.61951940e+02j,\n",
              "         4.89659899e+01+2.51747288e+02j, -7.81201783e+01-1.10961472e+02j,\n",
              "         5.28122424e+01-6.88790804e+01j,  1.15869301e+01+1.81733360e+02j,\n",
              "        -7.25591762e+01-1.68153440e+02j,  9.06171033e+01+4.48412367e+01j,\n",
              "        -5.50211325e+01+1.12766694e+02j, -1.29338899e+01-2.19888324e+02j,\n",
              "         7.94735922e+01+2.30381755e+02j, -1.24141238e+02-1.54894957e+02j,\n",
              "         1.51569996e+02+4.35583434e+01j, -1.81014309e+02+4.90522571e+01j,\n",
              "         2.23519191e+02-9.11508712e+01j, -2.66555359e+02+7.87735448e+01j,\n",
              "         2.79974139e+02-2.35118871e+01j, -2.39855697e+02-6.04156077e+01j,\n",
              "         1.51726958e+02+1.57295966e+02j, -5.37188527e+01-2.41736010e+02j,\n",
              "        -5.26566905e+00+2.75440363e+02j, -1.89959298e+00-2.20888222e+02j,\n",
              "         6.08170422e+01+6.84362363e+01j, -1.23955560e+02+1.42407852e+02j,\n",
              "         1.42458591e+02-3.28680205e+02j, -9.93838870e+01+4.01661656e+02j],\n",
              "       [-2.34777093e+01+5.30407961e+01j,  7.05106346e+01-3.07244118e+02j,\n",
              "        -4.38567290e+01+4.31546097e+02j, -2.12583832e+01-3.70599896e+02j,\n",
              "         6.90895666e+01+1.67329068e+02j, -6.58041414e+01+6.27861764e+01j,\n",
              "         2.23535827e+01-2.00497514e+02j,  1.72632502e+01+1.90977196e+02j,\n",
              "        -1.14917068e+01-6.90125527e+01j, -4.71108441e+01-7.17920449e+01j,\n",
              "         1.27213677e+02+1.42018552e+02j, -1.82835688e+02-1.08966682e+02j,\n",
              "         1.86310126e+02+6.91303774e+00j, -1.44543863e+02+9.55109801e+01j,\n",
              "         8.72867198e+01-1.43041993e+02j, -3.87092301e+01+1.22794015e+02j,\n",
              "        -3.29442521e+00-5.91489808e+01j,  6.22737378e+01-1.38799384e+01j,\n",
              "        -1.56216211e+02+7.66014107e+01j,  2.70768617e+02-1.25461834e+02j,\n",
              "        -3.56704859e+02+1.56344649e+02j,  3.57848135e+02-1.50292440e+02j,\n",
              "        -2.51557292e+02+8.05187148e+01j,  7.20353693e+01+6.03455831e+01j,\n",
              "         1.03069564e+02-2.35005381e+02j, -1.96674215e+02+3.64450748e+02j,\n",
              "         1.78276809e+02-3.66684630e+02j, -8.07644907e+01+2.10450981e+02j],\n",
              "       [-3.38268723e+02+4.28823861e+02j,  2.76518912e+02-4.92360115e+02j,\n",
              "        -1.40080521e+02+3.50605446e+02j,  1.43587860e+01-7.22018826e+01j,\n",
              "         4.21811140e+01-2.03170177e+02j, -2.93293435e+01+3.45773275e+02j,\n",
              "        -7.17450081e+00-3.08627717e+02j,  1.82532873e+01+1.46442067e+02j,\n",
              "         9.57231788e+00+2.83634257e+01j, -4.74978484e+01-1.19972788e+02j,\n",
              "         5.22968279e+01+1.03608114e+02j, -4.46494307e+00-2.72746531e+01j,\n",
              "        -7.43573099e+01-3.35324446e+01j,  1.38115997e+02+3.12666626e+01j,\n",
              "        -1.53015650e+02+2.74597813e+01j,  1.23966613e+02-9.84787204e+01j,\n",
              "        -8.88587215e+01+1.40117165e+02j,  8.46687982e+01-1.42309627e+02j,\n",
              "        -1.12726766e+02+1.23347032e+02j,  1.32536510e+02-1.01809733e+02j,\n",
              "        -9.20334860e+01+7.22183488e+01j, -2.68786552e+01-8.97473917e+00j,\n",
              "         1.82779409e+02-1.02362916e+02j, -2.91908984e+02+2.33496474e+02j,\n",
              "         2.79962575e+02-3.13072484e+02j, -1.33795627e+02+2.66829636e+02j,\n",
              "        -8.38810326e+01-7.42820453e+01j,  2.69060964e+02-1.99921246e+02j],\n",
              "       [ 2.40496443e+01+4.11976823e+02j, -1.99052498e+02-1.80773054e+02j,\n",
              "         3.16217249e+02-1.57554645e+02j, -3.14953139e+02+4.39914823e+02j,\n",
              "         2.09211212e+02-5.32383048e+02j, -6.87834310e+01+4.05451848e+02j,\n",
              "        -3.40181368e+01-1.44084725e+02j,  7.14589062e+01-1.11133203e+02j,\n",
              "        -6.83300263e+01+2.50145239e+02j,  6.95186933e+01-2.49992693e+02j,\n",
              "        -9.66527318e+01+1.69093586e+02j,  1.29727185e+02-9.13081119e+01j,\n",
              "        -1.27750504e+02+6.46097769e+01j,  7.00180510e+01-7.74847756e+01j,\n",
              "         1.76735891e+01+8.37933428e+01j, -7.59866887e+01-4.97382341e+01j,\n",
              "         5.67262759e+01-1.72090581e+01j,  3.50506065e+01+7.91494478e+01j,\n",
              "        -1.36403027e+02-1.05630211e+02j,  1.67059315e+02+1.03380620e+02j,\n",
              "        -8.79320918e+01-1.10181250e+02j, -6.55455493e+01+1.56240227e+02j,\n",
              "         2.02221126e+02-2.25872073e+02j, -2.35758744e+02+2.55507462e+02j,\n",
              "         1.45236561e+02-1.76943694e+02j,  7.58305645e+00-2.26057876e+01j,\n",
              "        -1.17826997e+02+2.70269512e+02j,  1.07242095e+02-4.36638144e+02j],\n",
              "       [-1.93000000e+02+7.40000000e+01j,  7.72960476e+01+2.40486777e+02j,\n",
              "        -4.59280501e+01-4.43972068e+02j,  9.32417867e+01+4.19581982e+02j,\n",
              "        -1.55531033e+02-1.74177185e+02j,  1.67385680e+02-1.66027389e+02j,\n",
              "        -1.10710978e+02+4.32111338e+02j,  2.10000000e+01-5.10000000e+02j,\n",
              "         4.88640668e+01+3.96231368e+02j, -7.40264953e+01-1.80889703e+02j,\n",
              "         7.40665573e+01-2.26281369e+01j, -8.79977781e+01+1.48019612e+02j,\n",
              "         1.30823236e+02-2.00048727e+02j, -1.70884274e+02+2.24130853e+02j,\n",
              "         1.51000000e+02-2.54000000e+02j, -4.00018394e+01+2.82093871e+02j,\n",
              "        -1.26448684e+02-2.74045037e+02j,  2.52935848e+02+2.10211537e+02j,\n",
              "        -2.41948765e+02-1.14685031e+02j,  6.49425360e+01+4.33909683e+01j,\n",
              "         2.04973467e+02-3.83550041e+01j, -4.27000000e+02+8.60000000e+01j,\n",
              "         4.75409459e+02-1.17767646e+02j, -3.17506862e+02+5.94747311e+01j,\n",
              "         3.43189467e+01+1.04394585e+02j,  2.30293194e+02-3.01912076e+02j,\n",
              "        -3.57888223e+02+4.08941545e+02j,  3.22322157e+02-3.30561164e+02j],\n",
              "       [ 2.80556321e+02-2.71767869e+02j, -4.67456989e+02+4.51527919e+02j,\n",
              "         4.62984906e+02-3.99625820e+02j, -3.31744071e+02+1.51116020e+02j,\n",
              "         1.70167610e+02+1.45147042e+02j, -4.22786572e+01-3.17559394e+02j,\n",
              "        -4.19947862e+01+2.74054814e+02j,  1.02019661e+02-4.96543517e+01j,\n",
              "        -1.47368111e+02-2.27301682e+02j,  1.62703341e+02+4.21313468e+02j,\n",
              "        -1.28655235e+02-4.67153182e+02j,  5.56662206e+01+3.89768105e+02j,\n",
              "         6.09897102e+00-2.63006607e+02j,  1.79251859e+00+1.46759114e+02j,\n",
              "        -9.31840589e+01-5.21077439e+01j,  2.07210142e+02-4.40223137e+01j,\n",
              "        -2.34023834e+02+1.55307957e+02j,  8.86195538e+01-2.56588184e+02j,\n",
              "         2.15636370e+02+2.97273583e+02j, -5.50129021e+02-2.47814049e+02j,\n",
              "         7.32832241e+02+1.38471507e+02j, -6.36374120e+02-5.22135939e+01j,\n",
              "         2.73827734e+02+6.90610505e+01j,  1.96394033e+02-2.00412008e+02j,\n",
              "        -5.54077727e+02+3.65555274e+02j,  6.38808884e+02-4.35644950e+02j,\n",
              "        -4.34429461e+02+3.20902921e+02j,  6.63975660e+01-4.13870243e+01j],\n",
              "       [ 6.10600189e+02-6.60159015e+02j, -3.89618739e+02+5.26384489e+02j,\n",
              "         4.29129129e-01-1.93668305e+02j,  3.54825645e+02-1.66471456e+02j,\n",
              "        -5.34433115e+02+3.76371102e+02j,  5.05201049e+02-3.56521722e+02j,\n",
              "        -3.21555737e+02+1.63758291e+02j,  6.98436682e+01+5.72010446e+01j,\n",
              "         1.75483374e+02-1.70833033e+02j, -3.61429691e+02+1.29107091e+02j,\n",
              "         4.45558471e+02+1.75081835e+01j, -3.94835583e+02-1.73902204e+02j,\n",
              "         2.08457819e+02+2.72028306e+02j,  5.34349154e+01-3.06889139e+02j,\n",
              "        -2.71244007e+02+3.16648187e+02j,  3.17740300e+02-3.32140329e+02j,\n",
              "        -1.39553093e+02+3.42899052e+02j, -1.85992206e+02-3.09246716e+02j,\n",
              "         4.69024158e+02+2.08566302e+02j, -5.05449181e+02-7.27905932e+01j,\n",
              "         2.03165909e+02-2.08275979e+01j,  3.44065639e+02+5.57259219e+00j,\n",
              "        -8.89795593e+02+1.13433545e+02j,  1.16395478e+03-2.44186225e+02j,\n",
              "        -1.02360877e+03+2.59826235e+02j,  5.34226723e+02-8.77116434e+01j,\n",
              "         6.76958888e+01-2.26941156e+02j, -5.06191939e+02+5.32984714e+02j],\n",
              "       [ 5.84620577e+02-3.44929140e+02j,  9.86986672e+00-1.14706647e+02j,\n",
              "        -4.18701061e+02+5.21079950e+02j,  4.90497863e+02-6.95134464e+02j,\n",
              "        -2.60673174e+02+5.81940825e+02j, -1.03096986e+02-2.76103781e+02j,\n",
              "         4.08057495e+02-4.37219944e+01j, -5.26674444e+02+2.24043592e+02j,\n",
              "         4.29429076e+02-2.16781533e+02j, -1.66386021e+02+8.33169862e+01j,\n",
              "        -1.68178696e+02+6.91187733e+01j,  4.61037817e+02-1.65325512e+02j,\n",
              "        -5.96173063e+02+1.98202244e+02j,  4.81392760e+02-2.05068495e+02j,\n",
              "        -9.46336640e+01+2.13902399e+02j, -4.71412276e+02-2.09468038e+02j,\n",
              "         1.00876150e+03+1.48252313e+02j, -1.26603527e+03-7.33548707e+00j,\n",
              "         1.07404661e+03-1.78163491e+02j, -4.58203821e+02+3.26595134e+02j,\n",
              "        -3.39008226e+02-3.67379088e+02j,  9.58030152e+02+3.01083688e+02j,\n",
              "        -1.10228059e+03-2.10835090e+02j,  6.99090183e+02+2.07931339e+02j,\n",
              "         5.49581270e+01-3.45763924e+02j, -7.95689318e+02+5.65272040e+02j,\n",
              "         1.18360473e+03-7.17838850e+02j, -1.07625014e+03+6.57816252e+02j],\n",
              "       [-2.89313023e+02+7.02531758e+02j,  7.63115707e+02-8.94138849e+02j,\n",
              "        -7.42909715e+02+8.11993437e+02j,  3.63669944e+02-4.57406499e+02j,\n",
              "         9.47470497e+01-2.27551433e+01j, -3.76331632e+02+4.20165352e+02j,\n",
              "         3.69901519e+02-5.83587213e+02j, -1.29956263e+02+4.95366645e+02j,\n",
              "        -1.87739144e+02-2.61685766e+02j,  4.18862658e+02+3.25803457e+01j,\n",
              "        -4.58589826e+02+8.78003841e+01j,  2.87204989e+02-8.16210027e+01j,\n",
              "         3.26122931e+01-7.89440058e+00j, -3.68292279e+02+1.34176631e+02j,\n",
              "         5.39935689e+02-2.85156040e+02j, -3.68980103e+02+4.72468058e+02j,\n",
              "        -2.41227883e+02-6.88241918e+02j,  1.22088208e+03+8.74921279e+02j,\n",
              "        -2.30164280e+03-9.43260772e+02j,  3.08486319e+03+8.32064558e+02j,\n",
              "        -3.20541004e+03-5.64169306e+02j,  2.51923013e+03+2.49382468e+02j,\n",
              "        -1.20883601e+03-2.21651135e+01j, -2.68287948e+02-4.71505754e+01j,\n",
              "         1.37850577e+03+3.46862022e+00j, -1.75964169e+03+2.16589287e+01j,\n",
              "         1.38431617e+03+9.56291616e+01j, -5.50688840e+02-3.74975028e+02j],\n",
              "       [-2.00957861e+03+5.39280678e+02j,  1.78084857e+03-3.54906591e+02j,\n",
              "        -1.02371889e+03-8.56971999e+00j,  2.25203019e+02+4.00047122e+02j,\n",
              "         2.53605888e+02-6.30520717e+02j, -3.09605302e+02+5.90871856e+02j,\n",
              "         7.62203586e+01-3.16252088e+02j,  2.07637451e+02-4.18902606e+01j,\n",
              "        -3.45232398e+02+3.11616032e+02j,  2.67557830e+02-3.96814307e+02j,\n",
              "        -3.34276144e+01+3.13227458e+02j, -2.27073068e+02-1.51147741e+02j,\n",
              "         3.80278545e+02+3.52541717e+00j, -3.40407995e+02+8.37967184e+01j,\n",
              "         1.03397339e+02-1.09162820e+02j,  2.31311474e+02+7.56372147e+01j,\n",
              "        -4.60401805e+02+3.97223186e+01j,  3.21898202e+02-2.73640221e+02j,\n",
              "         4.01075879e+02+6.28389658e+02j, -1.74563795e+03-1.03116048e+03j,\n",
              "         3.47412682e+03+1.34537569e+03j, -5.09539438e+03-1.44006138e+03j,\n",
              "         6.02937843e+03+1.27482598e+03j, -5.85776327e+03-9.37948211e+02j,\n",
              "         4.53751554e+03+6.02216910e+02j, -2.45521090e+03-4.20462395e+02j,\n",
              "         2.77388477e+02+4.28757851e+02j,  1.33600837e+03-5.24753965e+02j],\n",
              "       [-3.71454801e+03-3.94256793e+02j,  1.09329387e+03+5.82205437e+02j,\n",
              "         8.10732399e+02-8.14203521e+02j, -1.67511047e+03+9.03198278e+02j,\n",
              "         1.61059635e+03-7.53042726e+02j, -1.02435852e+03+4.15367867e+02j,\n",
              "         3.79510875e+02-4.94742158e+01j,  1.37262260e+01-1.82127553e+02j,\n",
              "        -8.19523337e+01+2.09625939e+02j, -6.05521142e+01-8.24701006e+01j,\n",
              "         2.31656107e+02-8.15101193e+01j, -2.91955888e+02+1.79250003e+02j,\n",
              "         1.98466078e+02-1.76823051e+02j, -1.04235316e+00+1.03782847e+02j,\n",
              "        -1.92612214e+02-5.56222066e+00j,  2.62351626e+02-9.82039271e+01j,\n",
              "        -1.27614087e+02+2.13185172e+02j, -1.94414991e+02-3.32763613e+02j,\n",
              "         5.43374198e+02+4.04268529e+02j, -6.22722238e+02-3.39937663e+02j,\n",
              "         9.25658049e+01+7.63237253e+01j,  1.26309435e+03+3.59081255e+02j,\n",
              "        -3.36680324e+03-8.30595867e+02j,  5.77942750e+03+1.15316232e+03j,\n",
              "        -7.80501459e+03-1.19827921e+03j,  8.75148055e+03+9.78063247e+02j,\n",
              "        -8.23335891e+03-6.46189525e+02j,  6.36178403e+03+4.07925478e+02j]])"
            ]
          },
          "metadata": {},
          "execution_count": 67
        }
      ]
    },
    {
      "cell_type": "code",
      "metadata": {
        "id": "wLq9YMq89cet"
      },
      "source": [
        "plt.imshow(fft)"
      ],
      "execution_count": null,
      "outputs": []
    },
    {
      "cell_type": "code",
      "metadata": {
        "colab": {
          "base_uri": "https://localhost:8080/",
          "height": 282
        },
        "id": "6RUqBfkk8vhy",
        "outputId": "7ac958f2-6e5b-4812-da9b-a61f4a97e458"
      },
      "source": [
        "dark_image_grey_fourier.append(np.fft.fftshift())"
      ],
      "execution_count": null,
      "outputs": [
        {
          "output_type": "execute_result",
          "data": {
            "text/plain": [
              "<matplotlib.image.AxesImage at 0x7f371d181e50>"
            ]
          },
          "metadata": {},
          "execution_count": 7
        },
        {
          "output_type": "display_data",
          "data": {
            "image/png": "[encoded data removed]",
            "text/plain": [
              "<Figure size 432x288 with 1 Axes>"
            ]
          },
          "metadata": {
            "needs_background": "light"
          }
        }
      ]
    },
    {
      "cell_type": "code",
      "metadata": {
        "id": "qXaENjSGF6f2"
      },
      "source": [
        "import numpy as np"
      ],
      "execution_count": null,
      "outputs": []
    },
    {
      "cell_type": "code",
      "metadata": {
        "colab": {
          "base_uri": "https://localhost:8080/"
        },
        "id": "H2C3qJi6eHLr",
        "outputId": "6c45c7ce-176b-4473-f1fb-57e2053348b9"
      },
      "source": [
        "a = np.zeros((10, 10))\n",
        "b = np.ones((10, 10))\n",
        "x = np.append(a, b, 1)\n",
        "# x = np.append(x, a, 1)\n",
        "x"
      ],
      "execution_count": null,
      "outputs": [
        {
          "output_type": "execute_result",
          "data": {
            "text/plain": [
              "array([[0., 0., 0., 0., 0., 0., 0., 0., 0., 0., 1., 1., 1., 1., 1., 1.,\n",
              "        1., 1., 1., 1.],\n",
              "       [0., 0., 0., 0., 0., 0., 0., 0., 0., 0., 1., 1., 1., 1., 1., 1.,\n",
              "        1., 1., 1., 1.],\n",
              "       [0., 0., 0., 0., 0., 0., 0., 0., 0., 0., 1., 1., 1., 1., 1., 1.,\n",
              "        1., 1., 1., 1.],\n",
              "       [0., 0., 0., 0., 0., 0., 0., 0., 0., 0., 1., 1., 1., 1., 1., 1.,\n",
              "        1., 1., 1., 1.],\n",
              "       [0., 0., 0., 0., 0., 0., 0., 0., 0., 0., 1., 1., 1., 1., 1., 1.,\n",
              "        1., 1., 1., 1.],\n",
              "       [0., 0., 0., 0., 0., 0., 0., 0., 0., 0., 1., 1., 1., 1., 1., 1.,\n",
              "        1., 1., 1., 1.],\n",
              "       [0., 0., 0., 0., 0., 0., 0., 0., 0., 0., 1., 1., 1., 1., 1., 1.,\n",
              "        1., 1., 1., 1.],\n",
              "       [0., 0., 0., 0., 0., 0., 0., 0., 0., 0., 1., 1., 1., 1., 1., 1.,\n",
              "        1., 1., 1., 1.],\n",
              "       [0., 0., 0., 0., 0., 0., 0., 0., 0., 0., 1., 1., 1., 1., 1., 1.,\n",
              "        1., 1., 1., 1.],\n",
              "       [0., 0., 0., 0., 0., 0., 0., 0., 0., 0., 1., 1., 1., 1., 1., 1.,\n",
              "        1., 1., 1., 1.]])"
            ]
          },
          "metadata": {},
          "execution_count": 52
        }
      ]
    },
    {
      "cell_type": "code",
      "metadata": {
        "colab": {
          "base_uri": "https://localhost:8080/"
        },
        "id": "Z1rw9ZVkiEqu",
        "outputId": "701d60f8-70e5-4995-cbb6-67eebe2e23be"
      },
      "source": [
        "af=np.fft.fft2(x)\n",
        "af"
      ],
      "execution_count": null,
      "outputs": [
        {
          "output_type": "execute_result",
          "data": {
            "text/plain": [
              "array([[100.+0.00000000e+00j, -10.+6.31375151e+01j,   0.+0.00000000e+00j,\n",
              "        -10.+1.96261051e+01j,   0.+0.00000000e+00j, -10.+1.00000000e+01j,\n",
              "          0.+0.00000000e+00j, -10.+5.09525449e+00j,   0.+0.00000000e+00j,\n",
              "        -10.+1.58384440e+00j,   0.+0.00000000e+00j, -10.-1.58384440e+00j,\n",
              "          0.+0.00000000e+00j, -10.-5.09525449e+00j,   0.+0.00000000e+00j,\n",
              "        -10.-1.00000000e+01j,   0.+0.00000000e+00j, -10.-1.96261051e+01j,\n",
              "          0.+0.00000000e+00j, -10.-6.31375151e+01j],\n",
              "       [  0.+0.00000000e+00j,   0.+0.00000000e+00j,   0.+0.00000000e+00j,\n",
              "          0.+0.00000000e+00j,   0.+0.00000000e+00j,   0.+0.00000000e+00j,\n",
              "          0.+0.00000000e+00j,   0.+0.00000000e+00j,   0.+0.00000000e+00j,\n",
              "          0.+0.00000000e+00j,   0.+0.00000000e+00j,   0.+0.00000000e+00j,\n",
              "          0.+0.00000000e+00j,   0.+0.00000000e+00j,   0.+0.00000000e+00j,\n",
              "          0.+0.00000000e+00j,   0.+0.00000000e+00j,   0.+0.00000000e+00j,\n",
              "          0.+0.00000000e+00j,   0.+0.00000000e+00j],\n",
              "       [  0.+0.00000000e+00j,   0.+0.00000000e+00j,   0.+0.00000000e+00j,\n",
              "          0.+0.00000000e+00j,   0.+0.00000000e+00j,   0.+0.00000000e+00j,\n",
              "          0.+0.00000000e+00j,   0.+0.00000000e+00j,   0.+0.00000000e+00j,\n",
              "          0.+0.00000000e+00j,   0.+0.00000000e+00j,   0.+0.00000000e+00j,\n",
              "          0.+0.00000000e+00j,   0.+2.22044605e-16j,   0.+0.00000000e+00j,\n",
              "          0.+0.00000000e+00j,   0.+0.00000000e+00j,   0.+0.00000000e+00j,\n",
              "          0.+0.00000000e+00j,   0.+0.00000000e+00j],\n",
              "       [  0.+0.00000000e+00j,   0.+0.00000000e+00j,   0.+0.00000000e+00j,\n",
              "          0.+0.00000000e+00j,   0.+0.00000000e+00j,   0.+0.00000000e+00j,\n",
              "          0.+0.00000000e+00j,   0.+0.00000000e+00j,   0.+0.00000000e+00j,\n",
              "          0.+0.00000000e+00j,   0.+0.00000000e+00j,   0.+0.00000000e+00j,\n",
              "          0.+0.00000000e+00j,   0.+0.00000000e+00j,   0.+0.00000000e+00j,\n",
              "          0.+0.00000000e+00j,   0.+0.00000000e+00j,   0.+0.00000000e+00j,\n",
              "          0.+0.00000000e+00j,   0.+0.00000000e+00j],\n",
              "       [  0.+0.00000000e+00j,   0.-1.77635684e-15j,   0.+0.00000000e+00j,\n",
              "          0.+0.00000000e+00j,   0.+0.00000000e+00j,   0.-2.22044605e-16j,\n",
              "          0.+0.00000000e+00j,   0.+0.00000000e+00j,   0.+0.00000000e+00j,\n",
              "          0.-2.77555756e-17j,   0.+0.00000000e+00j,   0.+0.00000000e+00j,\n",
              "          0.+0.00000000e+00j,   0.+1.11022302e-16j,   0.+0.00000000e+00j,\n",
              "          0.+0.00000000e+00j,   0.+0.00000000e+00j,   0.+0.00000000e+00j,\n",
              "          0.+0.00000000e+00j,   0.+8.88178420e-16j],\n",
              "       [  0.+0.00000000e+00j,   0.+0.00000000e+00j,   0.+0.00000000e+00j,\n",
              "          0.+0.00000000e+00j,   0.+0.00000000e+00j,   0.+0.00000000e+00j,\n",
              "          0.+0.00000000e+00j,   0.+0.00000000e+00j,   0.+0.00000000e+00j,\n",
              "          0.+0.00000000e+00j,   0.+0.00000000e+00j,   0.+0.00000000e+00j,\n",
              "          0.+0.00000000e+00j,   0.+0.00000000e+00j,   0.+0.00000000e+00j,\n",
              "          0.+0.00000000e+00j,   0.+0.00000000e+00j,   0.+0.00000000e+00j,\n",
              "          0.+0.00000000e+00j,   0.+0.00000000e+00j],\n",
              "       [  0.+0.00000000e+00j,   0.-1.77635684e-15j,   0.+0.00000000e+00j,\n",
              "          0.+0.00000000e+00j,   0.+0.00000000e+00j,   0.-2.22044605e-16j,\n",
              "          0.+0.00000000e+00j,   0.+0.00000000e+00j,   0.+0.00000000e+00j,\n",
              "          0.-2.77555756e-17j,   0.+0.00000000e+00j,   0.+0.00000000e+00j,\n",
              "          0.+0.00000000e+00j,   0.+1.11022302e-16j,   0.+0.00000000e+00j,\n",
              "          0.+0.00000000e+00j,   0.+0.00000000e+00j,   0.+0.00000000e+00j,\n",
              "          0.+0.00000000e+00j,   0.+8.88178420e-16j],\n",
              "       [  0.+0.00000000e+00j,   0.+0.00000000e+00j,   0.+0.00000000e+00j,\n",
              "          0.+0.00000000e+00j,   0.+0.00000000e+00j,   0.+0.00000000e+00j,\n",
              "          0.+0.00000000e+00j,   0.+0.00000000e+00j,   0.+0.00000000e+00j,\n",
              "          0.+0.00000000e+00j,   0.+0.00000000e+00j,   0.+0.00000000e+00j,\n",
              "          0.+0.00000000e+00j,   0.+0.00000000e+00j,   0.+0.00000000e+00j,\n",
              "          0.+0.00000000e+00j,   0.+0.00000000e+00j,   0.+0.00000000e+00j,\n",
              "          0.+0.00000000e+00j,   0.+0.00000000e+00j],\n",
              "       [  0.+0.00000000e+00j,   0.+0.00000000e+00j,   0.+0.00000000e+00j,\n",
              "          0.+0.00000000e+00j,   0.+0.00000000e+00j,   0.+0.00000000e+00j,\n",
              "          0.+0.00000000e+00j,   0.+0.00000000e+00j,   0.+0.00000000e+00j,\n",
              "          0.+0.00000000e+00j,   0.+0.00000000e+00j,   0.+0.00000000e+00j,\n",
              "          0.+0.00000000e+00j,   0.+2.22044605e-16j,   0.+0.00000000e+00j,\n",
              "          0.+0.00000000e+00j,   0.+0.00000000e+00j,   0.+0.00000000e+00j,\n",
              "          0.+0.00000000e+00j,   0.+0.00000000e+00j],\n",
              "       [  0.+0.00000000e+00j,   0.+0.00000000e+00j,   0.+0.00000000e+00j,\n",
              "          0.+0.00000000e+00j,   0.+0.00000000e+00j,   0.+0.00000000e+00j,\n",
              "          0.+0.00000000e+00j,   0.+0.00000000e+00j,   0.+0.00000000e+00j,\n",
              "          0.+0.00000000e+00j,   0.+0.00000000e+00j,   0.+0.00000000e+00j,\n",
              "          0.+0.00000000e+00j,   0.+0.00000000e+00j,   0.+0.00000000e+00j,\n",
              "          0.+0.00000000e+00j,   0.+0.00000000e+00j,   0.+0.00000000e+00j,\n",
              "          0.+0.00000000e+00j,   0.+0.00000000e+00j]])"
            ]
          },
          "metadata": {},
          "execution_count": 53
        }
      ]
    },
    {
      "cell_type": "code",
      "metadata": {
        "colab": {
          "base_uri": "https://localhost:8080/"
        },
        "id": "FEXsvXKNjV8t",
        "outputId": "73adc244-3f21-4fb1-f6e3-7580ff7b4965"
      },
      "source": [
        "af= abs(af)\n",
        "af"
      ],
      "execution_count": null,
      "outputs": [
        {
          "output_type": "execute_result",
          "data": {
            "text/plain": [
              "array([[1.00000000e+02, 6.39245322e+01, 0.00000000e+00, 2.20268926e+01,\n",
              "        0.00000000e+00, 1.41421356e+01, 0.00000000e+00, 1.12232624e+01,\n",
              "        0.00000000e+00, 1.01246513e+01, 0.00000000e+00, 1.01246513e+01,\n",
              "        0.00000000e+00, 1.12232624e+01, 0.00000000e+00, 1.41421356e+01,\n",
              "        0.00000000e+00, 2.20268926e+01, 0.00000000e+00, 6.39245322e+01],\n",
              "       [0.00000000e+00, 0.00000000e+00, 0.00000000e+00, 0.00000000e+00,\n",
              "        0.00000000e+00, 0.00000000e+00, 0.00000000e+00, 0.00000000e+00,\n",
              "        0.00000000e+00, 0.00000000e+00, 0.00000000e+00, 0.00000000e+00,\n",
              "        0.00000000e+00, 0.00000000e+00, 0.00000000e+00, 0.00000000e+00,\n",
              "        0.00000000e+00, 0.00000000e+00, 0.00000000e+00, 0.00000000e+00],\n",
              "       [0.00000000e+00, 0.00000000e+00, 0.00000000e+00, 0.00000000e+00,\n",
              "        0.00000000e+00, 0.00000000e+00, 0.00000000e+00, 0.00000000e+00,\n",
              "        0.00000000e+00, 0.00000000e+00, 0.00000000e+00, 0.00000000e+00,\n",
              "        0.00000000e+00, 2.22044605e-16, 0.00000000e+00, 0.00000000e+00,\n",
              "        0.00000000e+00, 0.00000000e+00, 0.00000000e+00, 0.00000000e+00],\n",
              "       [0.00000000e+00, 0.00000000e+00, 0.00000000e+00, 0.00000000e+00,\n",
              "        0.00000000e+00, 0.00000000e+00, 0.00000000e+00, 0.00000000e+00,\n",
              "        0.00000000e+00, 0.00000000e+00, 0.00000000e+00, 0.00000000e+00,\n",
              "        0.00000000e+00, 0.00000000e+00, 0.00000000e+00, 0.00000000e+00,\n",
              "        0.00000000e+00, 0.00000000e+00, 0.00000000e+00, 0.00000000e+00],\n",
              "       [0.00000000e+00, 1.77635684e-15, 0.00000000e+00, 0.00000000e+00,\n",
              "        0.00000000e+00, 2.22044605e-16, 0.00000000e+00, 0.00000000e+00,\n",
              "        0.00000000e+00, 2.77555756e-17, 0.00000000e+00, 0.00000000e+00,\n",
              "        0.00000000e+00, 1.11022302e-16, 0.00000000e+00, 0.00000000e+00,\n",
              "        0.00000000e+00, 0.00000000e+00, 0.00000000e+00, 8.88178420e-16],\n",
              "       [0.00000000e+00, 0.00000000e+00, 0.00000000e+00, 0.00000000e+00,\n",
              "        0.00000000e+00, 0.00000000e+00, 0.00000000e+00, 0.00000000e+00,\n",
              "        0.00000000e+00, 0.00000000e+00, 0.00000000e+00, 0.00000000e+00,\n",
              "        0.00000000e+00, 0.00000000e+00, 0.00000000e+00, 0.00000000e+00,\n",
              "        0.00000000e+00, 0.00000000e+00, 0.00000000e+00, 0.00000000e+00],\n",
              "       [0.00000000e+00, 1.77635684e-15, 0.00000000e+00, 0.00000000e+00,\n",
              "        0.00000000e+00, 2.22044605e-16, 0.00000000e+00, 0.00000000e+00,\n",
              "        0.00000000e+00, 2.77555756e-17, 0.00000000e+00, 0.00000000e+00,\n",
              "        0.00000000e+00, 1.11022302e-16, 0.00000000e+00, 0.00000000e+00,\n",
              "        0.00000000e+00, 0.00000000e+00, 0.00000000e+00, 8.88178420e-16],\n",
              "       [0.00000000e+00, 0.00000000e+00, 0.00000000e+00, 0.00000000e+00,\n",
              "        0.00000000e+00, 0.00000000e+00, 0.00000000e+00, 0.00000000e+00,\n",
              "        0.00000000e+00, 0.00000000e+00, 0.00000000e+00, 0.00000000e+00,\n",
              "        0.00000000e+00, 0.00000000e+00, 0.00000000e+00, 0.00000000e+00,\n",
              "        0.00000000e+00, 0.00000000e+00, 0.00000000e+00, 0.00000000e+00],\n",
              "       [0.00000000e+00, 0.00000000e+00, 0.00000000e+00, 0.00000000e+00,\n",
              "        0.00000000e+00, 0.00000000e+00, 0.00000000e+00, 0.00000000e+00,\n",
              "        0.00000000e+00, 0.00000000e+00, 0.00000000e+00, 0.00000000e+00,\n",
              "        0.00000000e+00, 2.22044605e-16, 0.00000000e+00, 0.00000000e+00,\n",
              "        0.00000000e+00, 0.00000000e+00, 0.00000000e+00, 0.00000000e+00],\n",
              "       [0.00000000e+00, 0.00000000e+00, 0.00000000e+00, 0.00000000e+00,\n",
              "        0.00000000e+00, 0.00000000e+00, 0.00000000e+00, 0.00000000e+00,\n",
              "        0.00000000e+00, 0.00000000e+00, 0.00000000e+00, 0.00000000e+00,\n",
              "        0.00000000e+00, 0.00000000e+00, 0.00000000e+00, 0.00000000e+00,\n",
              "        0.00000000e+00, 0.00000000e+00, 0.00000000e+00, 0.00000000e+00]])"
            ]
          },
          "metadata": {},
          "execution_count": 54
        }
      ]
    },
    {
      "cell_type": "markdown",
      "metadata": {
        "id": "-VlaAyidaXQm"
      },
      "source": [
        "![fourier transform.png](data:image/png;base64,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)"
      ]
    },
    {
      "cell_type": "code",
      "metadata": {
        "colab": {
          "base_uri": "https://localhost:8080/"
        },
        "id": "RklVn4C9ja4x",
        "outputId": "8f45022a-90b2-4544-cf8b-588e81dc3e37"
      },
      "source": [
        "af = np.round(af)\n",
        "af"
      ],
      "execution_count": null,
      "outputs": [
        {
          "output_type": "execute_result",
          "data": {
            "text/plain": [
              "array([[100.,  64.,   0.,  22.,   0.,  14.,   0.,  11.,   0.,  10.,   0.,\n",
              "         10.,   0.,  11.,   0.,  14.,   0.,  22.,   0.,  64.],\n",
              "       [  0.,   0.,   0.,   0.,   0.,   0.,   0.,   0.,   0.,   0.,   0.,\n",
              "          0.,   0.,   0.,   0.,   0.,   0.,   0.,   0.,   0.],\n",
              "       [  0.,   0.,   0.,   0.,   0.,   0.,   0.,   0.,   0.,   0.,   0.,\n",
              "          0.,   0.,   0.,   0.,   0.,   0.,   0.,   0.,   0.],\n",
              "       [  0.,   0.,   0.,   0.,   0.,   0.,   0.,   0.,   0.,   0.,   0.,\n",
              "          0.,   0.,   0.,   0.,   0.,   0.,   0.,   0.,   0.],\n",
              "       [  0.,   0.,   0.,   0.,   0.,   0.,   0.,   0.,   0.,   0.,   0.,\n",
              "          0.,   0.,   0.,   0.,   0.,   0.,   0.,   0.,   0.],\n",
              "       [  0.,   0.,   0.,   0.,   0.,   0.,   0.,   0.,   0.,   0.,   0.,\n",
              "          0.,   0.,   0.,   0.,   0.,   0.,   0.,   0.,   0.],\n",
              "       [  0.,   0.,   0.,   0.,   0.,   0.,   0.,   0.,   0.,   0.,   0.,\n",
              "          0.,   0.,   0.,   0.,   0.,   0.,   0.,   0.,   0.],\n",
              "       [  0.,   0.,   0.,   0.,   0.,   0.,   0.,   0.,   0.,   0.,   0.,\n",
              "          0.,   0.,   0.,   0.,   0.,   0.,   0.,   0.,   0.],\n",
              "       [  0.,   0.,   0.,   0.,   0.,   0.,   0.,   0.,   0.,   0.,   0.,\n",
              "          0.,   0.,   0.,   0.,   0.,   0.,   0.,   0.,   0.],\n",
              "       [  0.,   0.,   0.,   0.,   0.,   0.,   0.,   0.,   0.,   0.,   0.,\n",
              "          0.,   0.,   0.,   0.,   0.,   0.,   0.,   0.,   0.]])"
            ]
          },
          "metadata": {},
          "execution_count": 55
        }
      ]
    },
    {
      "cell_type": "code",
      "metadata": {
        "id": "A3vUwphlmDfK"
      },
      "source": [
        ""
      ],
      "execution_count": null,
      "outputs": []
    },
    {
      "cell_type": "code",
      "metadata": {
        "colab": {
          "base_uri": "https://localhost:8080/",
          "height": 232
        },
        "id": "WlfF8t6HUvH2",
        "outputId": "0ace2a93-854a-4469-9a28-1fedf6e72d59"
      },
      "source": [
        "import matplotlib.pyplot as plt\n",
        "plt.imshow(af, cmap=\"gray\")"
      ],
      "execution_count": null,
      "outputs": [
        {
          "output_type": "execute_result",
          "data": {
            "text/plain": [
              "<matplotlib.image.AxesImage at 0x7fc09d8d1290>"
            ]
          },
          "metadata": {},
          "execution_count": 57
        },
        {
          "output_type": "display_data",
          "data": {
            "image/png": "[encoded data removed]",
            "text/plain": [
              "<Figure size 432x288 with 1 Axes>"
            ]
          },
          "metadata": {
            "needs_background": "light"
          }
        }
      ]
    },
    {
      "cell_type": "code",
      "metadata": {
        "colab": {
          "base_uri": "https://localhost:8080/"
        },
        "id": "WfYjpwrgFTeo",
        "outputId": "41710f94-9cef-4524-9679-46abb2bbbc10"
      },
      "source": [
        "af=np.fft.fftshift(af)\n",
        "af"
      ],
      "execution_count": null,
      "outputs": [
        {
          "output_type": "execute_result",
          "data": {
            "text/plain": [
              "array([[  0.,   0.,   0.,   0.,   0.,   0.,   0.,   0.,   0.,   0.,   0.,\n",
              "          0.,   0.,   0.,   0.,   0.,   0.,   0.,   0.,   0.],\n",
              "       [  0.,   0.,   0.,   0.,   0.,   0.,   0.,   0.,   0.,   0.,   0.,\n",
              "          0.,   0.,   0.,   0.,   0.,   0.,   0.,   0.,   0.],\n",
              "       [  0.,   0.,   0.,   0.,   0.,   0.,   0.,   0.,   0.,   0.,   0.,\n",
              "          0.,   0.,   0.,   0.,   0.,   0.,   0.,   0.,   0.],\n",
              "       [  0.,   0.,   0.,   0.,   0.,   0.,   0.,   0.,   0.,   0.,   0.,\n",
              "          0.,   0.,   0.,   0.,   0.,   0.,   0.,   0.,   0.],\n",
              "       [  0.,   0.,   0.,   0.,   0.,   0.,   0.,   0.,   0.,   0.,   0.,\n",
              "          0.,   0.,   0.,   0.,   0.,   0.,   0.,   0.,   0.],\n",
              "       [  0.,  10.,   0.,  11.,   0.,  14.,   0.,  22.,   0.,  64., 100.,\n",
              "         64.,   0.,  22.,   0.,  14.,   0.,  11.,   0.,  10.],\n",
              "       [  0.,   0.,   0.,   0.,   0.,   0.,   0.,   0.,   0.,   0.,   0.,\n",
              "          0.,   0.,   0.,   0.,   0.,   0.,   0.,   0.,   0.],\n",
              "       [  0.,   0.,   0.,   0.,   0.,   0.,   0.,   0.,   0.,   0.,   0.,\n",
              "          0.,   0.,   0.,   0.,   0.,   0.,   0.,   0.,   0.],\n",
              "       [  0.,   0.,   0.,   0.,   0.,   0.,   0.,   0.,   0.,   0.,   0.,\n",
              "          0.,   0.,   0.,   0.,   0.,   0.,   0.,   0.,   0.],\n",
              "       [  0.,   0.,   0.,   0.,   0.,   0.,   0.,   0.,   0.,   0.,   0.,\n",
              "          0.,   0.,   0.,   0.,   0.,   0.,   0.,   0.,   0.]])"
            ]
          },
          "metadata": {},
          "execution_count": 58
        }
      ]
    },
    {
      "cell_type": "code",
      "metadata": {
        "colab": {
          "base_uri": "https://localhost:8080/",
          "height": 232
        },
        "id": "X8v4dZVnLHjJ",
        "outputId": "d50884e7-bef4-4157-df8d-ca78c55a114f"
      },
      "source": [
        "plt.imshow(x, cmap=\"gray\")"
      ],
      "execution_count": null,
      "outputs": [
        {
          "output_type": "execute_result",
          "data": {
            "text/plain": [
              "<matplotlib.image.AxesImage at 0x7fc09d8b6e50>"
            ]
          },
          "metadata": {},
          "execution_count": 59
        },
        {
          "output_type": "display_data",
          "data": {
            "image/png": "[encoded data removed]",
            "text/plain": [
              "<Figure size 432x288 with 1 Axes>"
            ]
          },
          "metadata": {
            "needs_background": "light"
          }
        }
      ]
    },
    {
      "cell_type": "code",
      "metadata": {
        "colab": {
          "base_uri": "https://localhost:8080/",
          "height": 232
        },
        "id": "Ha2VQuSZKSuv",
        "outputId": "e663ef36-bd21-4743-ca16-a14b4701c77a"
      },
      "source": [
        "plt.imshow(af, cmap = \"gray\")"
      ],
      "execution_count": null,
      "outputs": [
        {
          "output_type": "execute_result",
          "data": {
            "text/plain": [
              "<matplotlib.image.AxesImage at 0x7fc09d823b50>"
            ]
          },
          "metadata": {},
          "execution_count": 60
        },
        {
          "output_type": "display_data",
          "data": {
            "image/png": "[encoded data removed]",
            "text/plain": [
              "<Figure size 432x288 with 1 Axes>"
            ]
          },
          "metadata": {
            "needs_background": "light"
          }
        }
      ]
    },
    {
      "cell_type": "code",
      "metadata": {
        "colab": {
          "base_uri": "https://localhost:8080/",
          "height": 266
        },
        "id": "oGMOW7eZQJ1y",
        "outputId": "f32e6c93-d240-4b6a-97ab-368808d1a476"
      },
      "source": [
        "plt.imshow(np.log(af), cmap=\"gray\")"
      ],
      "execution_count": null,
      "outputs": [
        {
          "output_type": "stream",
          "name": "stderr",
          "text": [
            "/usr/local/lib/python3.7/dist-packages/ipykernel_launcher.py:1: RuntimeWarning: divide by zero encountered in log\n",
            "  \"\"\"Entry point for launching an IPython kernel.\n"
          ]
        },
        {
          "output_type": "execute_result",
          "data": {
            "text/plain": [
              "<matplotlib.image.AxesImage at 0x7fc09d796950>"
            ]
          },
          "metadata": {},
          "execution_count": 61
        },
        {
          "output_type": "display_data",
          "data": {
            "image/png": "[encoded data removed]",
            "text/plain": [
              "<Figure size 432x288 with 1 Axes>"
            ]
          },
          "metadata": {
            "needs_background": "light"
          }
        }
      ]
    },
    {
      "cell_type": "code",
      "metadata": {
        "id": "irxwvC1cRzJ9"
      },
      "source": [
        ""
      ],
      "execution_count": null,
      "outputs": []
    }
  ]
}