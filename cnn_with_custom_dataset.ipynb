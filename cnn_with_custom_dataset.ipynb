{
  "nbformat": 4,
  "nbformat_minor": 0,
  "metadata": {
    "colab": {
      "name": "cnn_using_own_dataset.ipynb",
      "provenance": [],
      "collapsed_sections": [],
      "mount_file_id": "1X6nYT7E3iNRqNMrWjUR062Ev1CHVadej",
      "authorship_tag": "ABX9TyMj7nMb6saq9/eKcto7pKO9",
      "include_colab_link": true
    },
    "kernelspec": {
      "name": "python3",
      "display_name": "Python 3"
    },
    "language_info": {
      "name": "python"
    }
  },
  "cells": [
    {
      "cell_type": "markdown",
      "metadata": {
        "id": "view-in-github",
        "colab_type": "text"
      },
      "source": [
        "<a href=\"https://colab.research.google.com/github/sumankmaiti/All-in-one/blob/main/cnn_with_custom_dataset.ipynb\" target=\"_parent\"><img src=\"https://colab.research.google.com/assets/colab-badge.svg\" alt=\"Open In Colab\"/></a>"
      ]
    },
    {
      "cell_type": "code",
      "metadata": {
        "colab": {
          "base_uri": "https://localhost:8080/"
        },
        "id": "sSrfgkb5AIIQ",
        "outputId": "1fc5f4ea-0644-4403-9385-64c7b186a588"
      },
      "source": [
        "%cd /content/drive/MyDrive/dataset_and_generated_graph/different_resolution"
      ],
      "execution_count": null,
      "outputs": [
        {
          "output_type": "stream",
          "text": [
            "/content/drive/MyDrive/dataset_and_generated_graph/different_resolution\n"
          ],
          "name": "stdout"
        }
      ]
    },
    {
      "cell_type": "code",
      "metadata": {
        "id": "Vj-FPPTPfK6u"
      },
      "source": [
        "#KERAS\n",
        "from keras.models import Sequential\n",
        "from keras.layers.core import Dense, Dropout, Activation, Flatten\n",
        "from keras.layers.convolutional import Convolution2D, MaxPooling2D\n",
        "from keras.optimizers import SGD,RMSprop,Adam\n",
        "from keras.utils import np_utils\n",
        "\n",
        "import numpy as np\n",
        "import matplotlib.pyplot as plt\n",
        "import matplotlib\n",
        "import os\n",
        "import theano\n",
        "from PIL import Image\n",
        "from numpy import *\n",
        "# SKLEARN\n",
        "from sklearn.utils import shuffle\n",
        "from sklearn.model_selection import train_test_split\n"
      ],
      "execution_count": null,
      "outputs": []
    },
    {
      "cell_type": "code",
      "metadata": {
        "id": "Nd8G5qmof7K7"
      },
      "source": [
        "# input image dimensions\n",
        "img_rows, img_cols = 400, 400\n",
        "\n",
        "# number of channels\n",
        "img_channels = 1"
      ],
      "execution_count": null,
      "outputs": []
    },
    {
      "cell_type": "code",
      "metadata": {
        "id": "V0F6G0cOgai0"
      },
      "source": [
        "path1 = 'train_data'    #path of folder of images    \n",
        "path2 = 'resized'  #path of folder to save images   "
      ],
      "execution_count": null,
      "outputs": []
    },
    {
      "cell_type": "code",
      "metadata": {
        "colab": {
          "base_uri": "https://localhost:8080/"
        },
        "id": "lJUxAvPJubIR",
        "outputId": "645e8704-b0a3-4b62-9082-e9d442cb71b1"
      },
      "source": [
        "listing = os.listdir(path1)\n",
        "num_samples=size(listing)\n",
        "print (num_samples)"
      ],
      "execution_count": null,
      "outputs": [
        {
          "output_type": "stream",
          "text": [
            "3717\n"
          ],
          "name": "stdout"
        }
      ]
    },
    {
      "cell_type": "code",
      "metadata": {
        "id": "6oJWH3zwfBZY"
      },
      "source": [
        "im = Image.open(path1 + '/' + listing[0])  \n",
        "img = im.resize((img_rows, img_cols))\n",
        "gray = img.convert('L')\n",
        "            #need to do some more processing here          \n",
        "gray.save(path2 +'/' +  file, \"JPEG\")"
      ],
      "execution_count": null,
      "outputs": []
    },
    {
      "cell_type": "code",
      "metadata": {
        "id": "-lmN4t1jujYJ"
      },
      "source": [
        "for file in listing:\n",
        "    im = Image.open(path1 + '/' + file)  \n",
        "    img = im.resize((img_rows,img_cols))\n",
        "    gray = img.convert('L')\n",
        "                #need to do some more processing here          \n",
        "    gray.save(path2 +'/' +  file, \"JPEG\")"
      ],
      "execution_count": null,
      "outputs": []
    },
    {
      "cell_type": "code",
      "metadata": {
        "colab": {
          "base_uri": "https://localhost:8080/"
        },
        "id": "-VLQLvpuuk0C",
        "outputId": "f4a48e71-c732-4988-c26a-94dd36fa598c"
      },
      "source": [
        "imlist = os.listdir(path2)\n",
        "\n",
        "im1 = array(Image.open('resized' + '/'+ imlist[0])) # open one image to get size\n",
        "m,n = im1.shape[0:2] # get the size of the images\n",
        "imnbr = len(imlist) # get the number of images\n",
        "print (m,n,imnbr)\n",
        "print (im1)"
      ],
      "execution_count": null,
      "outputs": [
        {
          "output_type": "stream",
          "text": [
            "400 400 3717\n",
            "[[255 255 255 ... 255 255 255]\n",
            " [255 255 255 ... 255 255 255]\n",
            " [255 255 255 ... 255 255 255]\n",
            " ...\n",
            " [255 255 255 ... 255 255 255]\n",
            " [255 255 255 ... 255 255 255]\n",
            " [255 255 255 ... 255 255 255]]\n"
          ],
          "name": "stdout"
        }
      ]
    },
    {
      "cell_type": "code",
      "metadata": {
        "id": "UOYjEeAQu2v4"
      },
      "source": [
        "# create matrix to store all flattened images\n",
        "immatrix = array([array(Image.open('resized'+ '/' + im2))\n",
        "              for im2 in imlist],'f')"
      ],
      "execution_count": null,
      "outputs": []
    },
    {
      "cell_type": "code",
      "metadata": {
        "id": "TTFV8WWcz_jG"
      },
      "source": [
        "label=np.ones((num_samples,),dtype = int)\n",
        "label[0:343]=0\n",
        "label[343:652]=1\n",
        "label[652:988]=2\n",
        "label[988:1637]=3\n",
        "label[1637:1971]=4\n",
        "label[1971:2318]=5\n",
        "label[2318:3008]=6\n",
        "label[3008:3362]=7\n",
        "label[3362:]=8"
      ],
      "execution_count": null,
      "outputs": []
    },
    {
      "cell_type": "code",
      "metadata": {
        "id": "b6OxjA2N51Cd"
      },
      "source": [
        "train_data = []\n",
        "for i in range(len(imlist)):\n",
        "  img = array(Image.open('resized' + '/'+ imlist[i])) # open one image to get size\n",
        "  image.\n",
        "  # train_data = [image, lebel[i]]\n",
        "# data,Label = shuffle(immatrix,label, random_state=2)\n",
        "# train_data = [data,Label]"
      ],
      "execution_count": null,
      "outputs": []
    },
    {
      "cell_type": "code",
      "metadata": {
        "id": "pHgC8j2eGnuU"
      },
      "source": [
        "data,Label = shuffle(immatrix,label, random_state=2)\n",
        "train_data = [data,Label]"
      ],
      "execution_count": null,
      "outputs": []
    },
    {
      "cell_type": "code",
      "metadata": {
        "id": "JakCeROwQSwB",
        "colab": {
          "base_uri": "https://localhost:8080/",
          "height": 302
        },
        "outputId": "4c5e2529-3723-4cfc-c5a6-d7341aea3987"
      },
      "source": [
        "img=immatrix[0].reshape(img_rows,img_cols)\n",
        "plt.imshow(img)\n",
        "plt.imshow(img,cmap='gray')\n",
        "print (train_data[0].shape)\n",
        "print (train_data[1].shape)"
      ],
      "execution_count": null,
      "outputs": [
        {
          "output_type": "stream",
          "text": [
            "(3717, 400, 400)\n",
            "(3717,)\n"
          ],
          "name": "stdout"
        },
        {
          "output_type": "display_data",
          "data": {
            "image/png": "[encoded data removed]",
            "text/plain": [
              "<Figure size 432x288 with 1 Axes>"
            ]
          },
          "metadata": {
            "tags": [],
            "needs_background": "light"
          }
        }
      ]
    },
    {
      "cell_type": "code",
      "metadata": {
        "id": "AwUHNP43QYlh"
      },
      "source": [
        "#batch_size to train\n",
        "batch_size = 32\n",
        "# number of output classes\n",
        "nb_classes = 9\n",
        "# number of epochs to train\n",
        "nb_epoch = 20\n",
        "\n",
        "\n",
        "# number of convolutional filters to use\n",
        "nb_filters = 32\n",
        "# size of pooling area for max pooling\n",
        "nb_pool = 2\n",
        "# convolution kernel size\n",
        "nb_conv = 3"
      ],
      "execution_count": null,
      "outputs": []
    },
    {
      "cell_type": "code",
      "metadata": {
        "id": "H5FywGG0GvNe"
      },
      "source": [
        "(X, y) = (train_data[0],train_data[1])"
      ],
      "execution_count": null,
      "outputs": []
    },
    {
      "cell_type": "code",
      "metadata": {
        "colab": {
          "base_uri": "https://localhost:8080/"
        },
        "id": "O7V4u4EoTVC0",
        "outputId": "0fc9a4c4-8bfd-4374-88d7-d7c5f004184f"
      },
      "source": [
        "# STEP 1: split X and y into training and testing sets\n",
        "X_train, X_test, y_train, y_test = train_test_split(X, y, test_size=0.2, random_state=4)\n",
        "X_train.shape"
      ],
      "execution_count": null,
      "outputs": [
        {
          "output_type": "execute_result",
          "data": {
            "text/plain": [
              "(2973, 400, 400)"
            ]
          },
          "metadata": {
            "tags": []
          },
          "execution_count": 16
        }
      ]
    },
    {
      "cell_type": "code",
      "metadata": {
        "colab": {
          "base_uri": "https://localhost:8080/"
        },
        "id": "_XXRB9HVmMVE",
        "outputId": "2f3c98ab-4ed0-42fc-c9c9-99583575fbfb"
      },
      "source": [
        "X_train = X_train.reshape(X_train.shape[0], img_rows, img_cols, 1)\n",
        "X_test = X_test.reshape(X_test.shape[0], img_rows, img_cols, 1)\n",
        "X_train.shape"
      ],
      "execution_count": null,
      "outputs": [
        {
          "output_type": "execute_result",
          "data": {
            "text/plain": [
              "(2973, 400, 400, 1)"
            ]
          },
          "metadata": {
            "tags": []
          },
          "execution_count": 30
        }
      ]
    },
    {
      "cell_type": "code",
      "metadata": {
        "colab": {
          "base_uri": "https://localhost:8080/"
        },
        "id": "REyLxMUQn3CV",
        "outputId": "daa614ee-e1fe-4300-9838-b9ee902c8e67"
      },
      "source": [
        "X_train = X_train.astype('float32')\n",
        "X_test = X_test.astype('float32')\n",
        "\n",
        "X_train /= 255\n",
        "X_test /= 255\n",
        "\n",
        "print('X_train shape:', X_train.shape)\n",
        "print(X_train.shape[0], 'train samples')\n",
        "print(X_test.shape[0], 'test samples')"
      ],
      "execution_count": null,
      "outputs": [
        {
          "output_type": "stream",
          "text": [
            "X_train shape: (2973, 400, 400, 1)\n",
            "2973 train samples\n",
            "744 test samples\n"
          ],
          "name": "stdout"
        }
      ]
    },
    {
      "cell_type": "code",
      "metadata": {
        "id": "tw55_3yen-G8"
      },
      "source": [
        "# convert class vectors to binary class matrices\n",
        "Y_train = np_utils.to_categorical(y_train, nb_classes)\n",
        "Y_test = np_utils.to_categorical(y_test, nb_classes)\n",
        "\n",
        "i = 100\n",
        "plt.imshow(X_train[i,0], interpolation='nearest')\n",
        "print(\"label : \", Y_train[i,:])"
      ],
      "execution_count": null,
      "outputs": []
    },
    {
      "cell_type": "code",
      "metadata": {
        "id": "-0pUjYGhpVVo"
      },
      "source": [
        "model = Sequential()\n",
        "\n",
        "model.add(Convolution2D(32, nb_conv, nb_conv,\n",
        "                        padding='valid',\n",
        "                        input_shape=(img_rows, img_cols, 1)))\n",
        "convout1 = Activation('relu')\n",
        "model.add(convout1)\n",
        "model.add(MaxPooling2D(pool_size=(nb_pool, nb_pool)))\n",
        "model.add(Dropout(0.5))\n",
        "\n",
        "model.add(Convolution2D(64, nb_conv, nb_conv))\n",
        "convout2 = Activation('relu')\n",
        "model.add(convout2)\n",
        "model.add(MaxPooling2D(pool_size=(nb_pool, nb_pool)))\n",
        "model.add(Dropout(0.5))\n",
        "\n",
        "model.add(Convolution2D(128, nb_conv, nb_conv))\n",
        "convout2 = Activation('relu')\n",
        "model.add(convout2)\n",
        "model.add(MaxPooling2D(pool_size=(nb_pool, nb_pool)))\n",
        "model.add(Dropout(0.5))\n",
        "\n",
        "model.add(Flatten())\n",
        "model.add(Dense(128))\n",
        "model.add(Activation('relu'))\n",
        "model.add(Dropout(0.5))\n",
        "model.add(Dense(nb_classes))\n",
        "model.add(Activation('softmax'))\n",
        "model.compile(loss='categorical_crossentropy', optimizer='adam', metrics =['accuracy'])"
      ],
      "execution_count": null,
      "outputs": []
    },
    {
      "cell_type": "code",
      "metadata": {
        "id": "85FNWHW6tbUF"
      },
      "source": [
        "model = Sequential()\n",
        "model.add(Dense(input= Flatten()))\n",
        "model.add(Dense(128))\n",
        "model.add(Activation('relu'))\n",
        "model.add(Dropout(0.5))\n",
        "model.add(Dense(nb_classes))\n",
        "model.add(Activation('softmax'))\n",
        "model.compile(loss='categorical_crossentropy', optimizer='adam', metrics =['accuracy'])"
      ],
      "execution_count": null,
      "outputs": []
    },
    {
      "cell_type": "code",
      "metadata": {
        "colab": {
          "base_uri": "https://localhost:8080/"
        },
        "id": "3YvuX9BbuaFf",
        "outputId": "190bce33-d187-4a0c-826d-8d2fcea810a3"
      },
      "source": [
        "history = model.fit(X_train, Y_train, epochs=nb_epoch,\n",
        "              verbose=1)"
      ],
      "execution_count": null,
      "outputs": [
        {
          "output_type": "stream",
          "text": [
            "Epoch 1/20\n",
            "93/93 [==============================] - 31s 338ms/step - loss: 2.1490 - accuracy: 0.1816\n",
            "Epoch 2/20\n",
            "93/93 [==============================] - 31s 333ms/step - loss: 2.1509 - accuracy: 0.1739\n",
            "Epoch 3/20\n",
            "93/93 [==============================] - 31s 333ms/step - loss: 2.1512 - accuracy: 0.1810\n",
            "Epoch 4/20\n",
            "93/93 [==============================] - 31s 330ms/step - loss: 2.1497 - accuracy: 0.1796\n",
            "Epoch 5/20\n",
            "93/93 [==============================] - 31s 329ms/step - loss: 2.1494 - accuracy: 0.1766\n",
            "Epoch 6/20\n",
            "93/93 [==============================] - 31s 329ms/step - loss: 2.1502 - accuracy: 0.1783\n",
            "Epoch 7/20\n",
            "93/93 [==============================] - 30s 327ms/step - loss: 2.1505 - accuracy: 0.1800\n",
            "Epoch 8/20\n",
            "93/93 [==============================] - 31s 329ms/step - loss: 2.1498 - accuracy: 0.1796\n",
            "Epoch 9/20\n",
            "93/93 [==============================] - 31s 330ms/step - loss: 2.1481 - accuracy: 0.1806\n",
            "Epoch 10/20\n",
            "93/93 [==============================] - 31s 329ms/step - loss: 2.1503 - accuracy: 0.1739\n",
            "Epoch 11/20\n",
            "93/93 [==============================] - 31s 328ms/step - loss: 2.1505 - accuracy: 0.1726\n",
            "Epoch 12/20\n",
            "93/93 [==============================] - 31s 328ms/step - loss: 2.1480 - accuracy: 0.1860\n",
            "Epoch 13/20\n",
            "93/93 [==============================] - 31s 331ms/step - loss: 2.1496 - accuracy: 0.1840\n",
            "Epoch 14/20\n",
            "93/93 [==============================] - 31s 330ms/step - loss: 2.1483 - accuracy: 0.1793\n",
            "Epoch 15/20\n",
            "93/93 [==============================] - 31s 330ms/step - loss: 2.1480 - accuracy: 0.1800\n",
            "Epoch 16/20\n",
            "93/93 [==============================] - 30s 328ms/step - loss: 2.1502 - accuracy: 0.1766\n",
            "Epoch 17/20\n",
            "93/93 [==============================] - 31s 328ms/step - loss: 2.1489 - accuracy: 0.1766\n",
            "Epoch 18/20\n",
            "93/93 [==============================] - 31s 329ms/step - loss: 2.1499 - accuracy: 0.1746\n",
            "Epoch 19/20\n",
            "93/93 [==============================] - 31s 329ms/step - loss: 2.1486 - accuracy: 0.1820\n",
            "Epoch 20/20\n",
            "93/93 [==============================] - 31s 330ms/step - loss: 2.1484 - accuracy: 0.1800\n"
          ],
          "name": "stdout"
        }
      ]
    },
    {
      "cell_type": "code",
      "metadata": {
        "id": "UulP74E5uHL7"
      },
      "source": [
        "    \n",
        "hist = model.fit(X_train, Y_train, batch_size=batch_size, epochs=nb_epoch,\n",
        "               verbose=1, validation_split=0.2)"
      ],
      "execution_count": null,
      "outputs": []
    }
  ]
}