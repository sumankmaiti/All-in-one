{
  "nbformat": 4,
  "nbformat_minor": 0,
  "metadata": {
    "colab": {
      "name": "AutoencoderFrequencyDomain.ipynb",
      "provenance": [],
      "collapsed_sections": [],
      "mount_file_id": "1x522U9HpmiEv_c4DzGZxSqRtGNzt2eyj",
      "authorship_tag": "ABX9TyMlNgF0HvbblZt3NO87KIX3",
      "include_colab_link": true
    },
    "kernelspec": {
      "name": "python3",
      "display_name": "Python 3"
    },
    "language_info": {
      "name": "python"
    }
  },
  "cells": [
    {
      "cell_type": "markdown",
      "metadata": {
        "id": "view-in-github",
        "colab_type": "text"
      },
      "source": [
        "<a href=\"https://colab.research.google.com/github/sumankmaiti/All-in-one/blob/main/AutoencoderFrequencyDomain.ipynb\" target=\"_parent\"><img src=\"https://colab.research.google.com/assets/colab-badge.svg\" alt=\"Open In Colab\"/></a>"
      ]
    },
    {
      "cell_type": "code",
      "metadata": {
        "id": "EocANLF3YudC"
      },
      "source": [
        "from tensorflow.keras.datasets import mnist\n",
        "from tensorflow.keras.layers import Dense, Input, Flatten,\\\n",
        "                                    Reshape, LeakyReLU as LR,\\\n",
        "                                    Activation, Dropout\n",
        "from tensorflow.keras.models import Model, Sequential\n",
        "from matplotlib import pyplot as plt\n",
        "from IPython import display # If using IPython, Colab or Jupyter\n",
        "import numpy as np"
      ],
      "execution_count": null,
      "outputs": []
    },
    {
      "cell_type": "code",
      "metadata": {
        "colab": {
          "base_uri": "https://localhost:8080/",
          "height": 265
        },
        "id": "x6lkQV8jYv9C",
        "outputId": "6e8c77e0-a35a-47f3-b06e-91f84591c59a"
      },
      "source": [
        "(x_train, y_train), (x_test, y_test) = mnist.load_data()\n",
        "x_train = x_train/255.0\n",
        "x_test = x_test/255.0\n",
        "# Plot image data from x_train\n",
        "plt.imshow(x_train[0], cmap = \"gray\")\n",
        "plt.show()"
      ],
      "execution_count": null,
      "outputs": [
        {
          "output_type": "display_data",
          "data": {
            "image/png": "[encoded data removed]",
            "text/plain": [
              "<Figure size 432x288 with 1 Axes>"
            ]
          },
          "metadata": {
            "needs_background": "light"
          }
        }
      ]
    },
    {
      "cell_type": "code",
      "metadata": {
        "id": "56fIkm65Y7jk"
      },
      "source": [
        "LATENT_SIZE = 32"
      ],
      "execution_count": null,
      "outputs": []
    },
    {
      "cell_type": "code",
      "metadata": {
        "id": "KOaXKgrzY3FX"
      },
      "source": [
        "encoder = Sequential([\n",
        "    Flatten(input_shape = (28, 28)),\n",
        "    Dense(512),\n",
        "    LR(),\n",
        "    Dropout(0.5),\n",
        "    Dense(256),\n",
        "    LR(),\n",
        "    Dropout(0.5),\n",
        "    Dense(128),\n",
        "    LR(),\n",
        "    Dropout(0.5),\n",
        "    Dense(64),\n",
        "    LR(),\n",
        "    Dropout(0.5),\n",
        "    Dense(LATENT_SIZE),\n",
        "    LR()\n",
        "])"
      ],
      "execution_count": null,
      "outputs": []
    },
    {
      "cell_type": "code",
      "metadata": {
        "id": "McYmdgEQaQ71"
      },
      "source": [
        "decoder = Sequential([\n",
        "    Dense(64, input_shape = (LATENT_SIZE,)),\n",
        "    LR(),\n",
        "    Dropout(0.5),\n",
        "    Dense(128),\n",
        "    LR(),\n",
        "    Dropout(0.5),\n",
        "    Dense(256),\n",
        "    LR(),\n",
        "    Dropout(0.5),\n",
        "    Dense(512),\n",
        "    LR(),\n",
        "    Dropout(0.5),\n",
        "    Dense(784),\n",
        "    Activation(\"sigmoid\"),\n",
        "    Reshape((28, 28))\n",
        "])"
      ],
      "execution_count": null,
      "outputs": []
    },
    {
      "cell_type": "code",
      "metadata": {
        "id": "3EvGtiZmaU8Z"
      },
      "source": [
        "img = Input(shape = (28, 28))\n",
        "latent_vector = encoder(img)\n",
        "output = decoder(latent_vector)\n",
        "model = Model(inputs = img, outputs = output)\n",
        "model.compile(\"nadam\", loss = \"binary_crossentropy\")\n",
        "EPOCHS = 10"
      ],
      "execution_count": null,
      "outputs": []
    },
    {
      "cell_type": "code",
      "metadata": {
        "colab": {
          "base_uri": "https://localhost:8080/",
          "height": 282
        },
        "id": "Q4ytPj2rUaCn",
        "outputId": "56f2e380-137e-48e7-acb4-74b2bd4b0786"
      },
      "source": [
        "#Only do plotting if you have IPython, Jupyter, or using Colab\n",
        "for epoch in range(EPOCHS):\n",
        "    fig, axs = plt.subplots(4, 4)\n",
        "    rand = x_test[np.random.randint(0, 10000, 16)].reshape((4, 4, 1, 28, 28))\n",
        "    \n",
        "    display.clear_output() # If you imported display from IPython\n",
        "    \n",
        "    for i in range(4):\n",
        "        for j in range(4):\n",
        "            axs[i, j].imshow(model.predict(rand[i, j])[0], cmap = \"gray\")\n",
        "            axs[i, j].axis(\"off\")\n",
        "    \n",
        "    plt.subplots_adjust(wspace = 0, hspace = 0)\n",
        "    plt.show()\n",
        "    print(\"-----------\", \"EPOCH\", epoch, \"-----------\")\n",
        "    model.fit(x_train, x_train)"
      ],
      "execution_count": null,
      "outputs": [
        {
          "output_type": "display_data",
          "data": {
            "image/png": "[encoded data removed]",
            "text/plain": [
              "<Figure size 432x288 with 16 Axes>"
            ]
          },
          "metadata": {
            "needs_background": "light"
          }
        },
        {
          "output_type": "stream",
          "name": "stdout",
          "text": [
            "----------- EPOCH 9 -----------\n",
            "1875/1875 [==============================] - 49s 26ms/step - loss: 0.1953\n"
          ]
        }
      ]
    },
    {
      "cell_type": "code",
      "metadata": {
        "id": "HssRqsBn1OhQ"
      },
      "source": [
        "import numpy as np\n",
        "import matplotlib.pyplot as plt\n",
        "from skimage.io import imread, imshow\n",
        "from skimage.color import rgb2hsv, rgb2gray, rgb2yuv\n",
        "from skimage import color, exposure, transform\n",
        "from skimage.exposure import equalize_hist"
      ],
      "execution_count": null,
      "outputs": []
    },
    {
      "cell_type": "code",
      "metadata": {
        "colab": {
          "base_uri": "https://localhost:8080/",
          "height": 314
        },
        "id": "riTXQJzB1eKL",
        "outputId": "9632fc24-d0a0-4e6a-b41b-eae8fc986583"
      },
      "source": [
        "test_image = x_test[1].reshape(28, 28)\n",
        "imshow(test_image)"
      ],
      "execution_count": null,
      "outputs": [
        {
          "output_type": "execute_result",
          "data": {
            "text/plain": [
              "<matplotlib.image.AxesImage at 0x7f43f30dff50>"
            ]
          },
          "metadata": {},
          "execution_count": 81
        },
        {
          "output_type": "display_data",
          "data": {
            "image/png": "[encoded data removed]",
            "text/plain": [
              "<Figure size 432x288 with 1 Axes>"
            ]
          },
          "metadata": {
            "needs_background": "light"
          }
        }
      ]
    },
    {
      "cell_type": "code",
      "metadata": {
        "id": "Ids24I7Ddedf"
      },
      "source": [
        "pred_img = model.predict(test_image.reshape(1, 28, 28))"
      ],
      "execution_count": null,
      "outputs": []
    },
    {
      "cell_type": "code",
      "metadata": {
        "id": "h7U-1jd9k9vF"
      },
      "source": [
        "dark_image_grey_fourier =[]\n",
        "image = []"
      ],
      "execution_count": null,
      "outputs": []
    },
    {
      "cell_type": "code",
      "metadata": {
        "id": "vnbnoZEPoH90"
      },
      "source": [
        "image.append(test_image)\n",
        "image.append(pred_img.reshape(28, 28))"
      ],
      "execution_count": null,
      "outputs": []
    },
    {
      "cell_type": "code",
      "metadata": {
        "id": "aYKZcTqFS6dS"
      },
      "source": [
        "dark_image_grey_fourier.append(np.fft.fftshift(np.fft.fft2(test_image)))\n",
        "# plt.figure(num=None, figsize=(8, 6), dpi=100)\n",
        "# plt.imshow(np.log(abs(dark_image_grey_fourier)), cmap='gray');"
      ],
      "execution_count": null,
      "outputs": []
    },
    {
      "cell_type": "code",
      "metadata": {
        "id": "dacGcRvifvFA"
      },
      "source": [
        "dark_image_grey_fourier.append(np.fft.fftshift(np.fft.fft2(pred_img.reshape(28, 28))))\n",
        "# plt.figure(num=None, figsize=(8, 6), dpi=100)\n",
        "# plt.imshow(np.log(abs(dark_image_grey_fourier)), cmap='gray');"
      ],
      "execution_count": null,
      "outputs": []
    },
    {
      "cell_type": "code",
      "metadata": {
        "colab": {
          "base_uri": "https://localhost:8080/",
          "height": 302
        },
        "id": "vEqbbyhesceP",
        "outputId": "14f7b1ca-e04d-4dfc-949a-e28a2c832350"
      },
      "source": [
        "columns = 2\n",
        "rows = 1\n",
        "fig = plt.figure(figsize=(10,10))\n",
        "for i in range(1, columns*rows + 1):\n",
        "    img = image[i-1]\n",
        "    fig.add_subplot(rows, columns, i)\n",
        "    plt.imshow(img, cmap='gray')\n",
        "plt.show()"
      ],
      "execution_count": null,
      "outputs": [
        {
          "output_type": "display_data",
          "data": {
            "image/png": "[encoded data removed]",
            "text/plain": [
              "<Figure size 720x720 with 2 Axes>"
            ]
          },
          "metadata": {
            "needs_background": "light"
          }
        }
      ]
    },
    {
      "cell_type": "code",
      "metadata": {
        "colab": {
          "base_uri": "https://localhost:8080/",
          "height": 319
        },
        "id": "HK6F1APwhOIn",
        "outputId": "7c8275b6-0f0f-48d6-ee49-0bde30602fff"
      },
      "source": [
        "columns = 2\n",
        "rows = 1\n",
        "fig = plt.figure(figsize=(10,10))\n",
        "for i in range(1, columns*rows + 1):\n",
        "    img = dark_image_grey_fourier[i-1]\n",
        "    fig.add_subplot(rows, columns, i)\n",
        "    plt.imshow((abs(img)), cmap='gray')\n",
        "print(\"Frequency Domain\")\n",
        "plt.show()"
      ],
      "execution_count": null,
      "outputs": [
        {
          "output_type": "stream",
          "name": "stdout",
          "text": [
            "Frequency Domain\n"
          ]
        },
        {
          "output_type": "display_data",
          "data": {
            "image/png": "[encoded data removed]",
            "text/plain": [
              "<Figure size 720x720 with 2 Axes>"
            ]
          },
          "metadata": {
            "needs_background": "light"
          }
        }
      ]
    },
    {
      "cell_type": "code",
      "metadata": {
        "colab": {
          "base_uri": "https://localhost:8080/",
          "height": 319
        },
        "id": "fEddRtW5uPVn",
        "outputId": "a0fcaddb-f5cd-4c55-9356-9ebc943f2951"
      },
      "source": [
        "columns = 2\n",
        "rows = 1\n",
        "fig = plt.figure(figsize=(10,10))\n",
        "for i in range(1, columns*rows + 1):\n",
        "    img = dark_image_grey_fourier[i-1]\n",
        "    fig.add_subplot(rows, columns, i)\n",
        "    plt.imshow(np.log(abs(img)), cmap='gray')\n",
        "print(\"Frequency Domain(apply log)\")\n",
        "plt.show()"
      ],
      "execution_count": null,
      "outputs": [
        {
          "output_type": "stream",
          "name": "stdout",
          "text": [
            "Frequency Domain(apply log)\n"
          ]
        },
        {
          "output_type": "display_data",
          "data": {
            "image/png": "[encoded data removed]",
            "text/plain": [
              "<Figure size 720x720 with 2 Axes>"
            ]
          },
          "metadata": {
            "needs_background": "light"
          }
        }
      ]
    },
    {
      "cell_type": "code",
      "metadata": {
        "colab": {
          "base_uri": "https://localhost:8080/",
          "height": 200
        },
        "id": "1h-mD-OTsyPC",
        "outputId": "c9250dcd-d722-43f2-e571-577136ebd3a0"
      },
      "source": [
        "from scipy import spatial\n",
        "\n",
        "dataSetI = [3, 45, 7, 2]\n",
        "dataSetII = [2, 54, 13, 15]\n",
        "result = 1 - spatial.distance.cosine(dark_image_grey_fourier[0], dark_image_grey_fourier[1])"
      ],
      "execution_count": null,
      "outputs": [
        {
          "output_type": "error",
          "ename": "NameError",
          "evalue": "ignored",
          "traceback": [
            "\u001b[0;31m---------------------------------------------------------------------------\u001b[0m",
            "\u001b[0;31mNameError\u001b[0m                                 Traceback (most recent call last)",
            "\u001b[0;32m<ipython-input-1-7d5d8f1cc3b1>\u001b[0m in \u001b[0;36m<module>\u001b[0;34m()\u001b[0m\n\u001b[1;32m      3\u001b[0m \u001b[0mdataSetI\u001b[0m \u001b[0;34m=\u001b[0m \u001b[0;34m[\u001b[0m\u001b[0;36m3\u001b[0m\u001b[0;34m,\u001b[0m \u001b[0;36m45\u001b[0m\u001b[0;34m,\u001b[0m \u001b[0;36m7\u001b[0m\u001b[0;34m,\u001b[0m \u001b[0;36m2\u001b[0m\u001b[0;34m]\u001b[0m\u001b[0;34m\u001b[0m\u001b[0;34m\u001b[0m\u001b[0m\n\u001b[1;32m      4\u001b[0m \u001b[0mdataSetII\u001b[0m \u001b[0;34m=\u001b[0m \u001b[0;34m[\u001b[0m\u001b[0;36m2\u001b[0m\u001b[0;34m,\u001b[0m \u001b[0;36m54\u001b[0m\u001b[0;34m,\u001b[0m \u001b[0;36m13\u001b[0m\u001b[0;34m,\u001b[0m \u001b[0;36m15\u001b[0m\u001b[0;34m]\u001b[0m\u001b[0;34m\u001b[0m\u001b[0;34m\u001b[0m\u001b[0m\n\u001b[0;32m----> 5\u001b[0;31m \u001b[0mresult\u001b[0m \u001b[0;34m=\u001b[0m \u001b[0;36m1\u001b[0m \u001b[0;34m-\u001b[0m \u001b[0mspatial\u001b[0m\u001b[0;34m.\u001b[0m\u001b[0mdistance\u001b[0m\u001b[0;34m.\u001b[0m\u001b[0mcosine\u001b[0m\u001b[0;34m(\u001b[0m\u001b[0mdark_image_grey_fourier\u001b[0m\u001b[0;34m[\u001b[0m\u001b[0;36m0\u001b[0m\u001b[0;34m]\u001b[0m\u001b[0;34m,\u001b[0m \u001b[0mdark_image_grey_fourier\u001b[0m\u001b[0;34m[\u001b[0m\u001b[0;36m1\u001b[0m\u001b[0;34m]\u001b[0m\u001b[0;34m)\u001b[0m\u001b[0;34m\u001b[0m\u001b[0;34m\u001b[0m\u001b[0m\n\u001b[0m",
            "\u001b[0;31mNameError\u001b[0m: name 'dark_image_grey_fourier' is not defined"
          ]
        }
      ]
    },
    {
      "cell_type": "code",
      "metadata": {
        "id": "poVxFdGmNjQa"
      },
      "source": [
        "# cosine similarity between A and B\n",
        "cos_sim=np.dot(A,B)/(np.linalg.norm(A)*np.linalg.norm(B))\n",
        "print (f\"Cosine Similarity between A and B:{cos_sim}\")\n",
        "print (f\"Cosine Distance between A and B:{1-cos_sim}\")"
      ],
      "execution_count": null,
      "outputs": []
    }
  ]
}